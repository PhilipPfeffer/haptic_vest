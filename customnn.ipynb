{
  "nbformat": 4,
  "nbformat_minor": 0,
  "metadata": {
    "colab": {
      "name": "customnn.ipynb",
      "provenance": [],
      "collapsed_sections": [],
      "toc_visible": true,
      "mount_file_id": "https://github.com/PhilipPfeffer/haptic_vest/blob/main/customnn.ipynb",
      "authorship_tag": "ABX9TyNjxtlo0qr5uT8CGNn2b972",
      "include_colab_link": true
    },
    "kernelspec": {
      "name": "python3",
      "display_name": "Python 3"
    },
    "accelerator": "GPU"
  },
  "cells": [
    {
      "cell_type": "markdown",
      "metadata": {
        "id": "view-in-github",
        "colab_type": "text"
      },
      "source": [
        "<a href=\"https://colab.research.google.com/github/PhilipPfeffer/haptic_vest/blob/main/customnn.ipynb\" target=\"_parent\"><img src=\"https://colab.research.google.com/assets/colab-badge.svg\" alt=\"Open In Colab\"/></a>"
      ]
    },
    {
      "cell_type": "markdown",
      "metadata": {
        "id": "ije_D87Vqtrc"
      },
      "source": [
        "# Custom Neural Net"
      ]
    },
    {
      "cell_type": "code",
      "metadata": {
        "id": "OHs0134ZuStT"
      },
      "source": [
        "from numpy import loadtxt\n",
        "import numpy as np\n",
        "import os\n",
        "import shutil\n",
        "import math\n",
        "import zipfile\n",
        "import matplotlib.pyplot as plt\n",
        "\n",
        "import keras\n",
        "from keras import layers\n",
        "from keras.models import Sequential\n",
        "from keras.layers import Dense\n",
        "import tensorflow as tf\n",
        "from tensorflow.keras.preprocessing import image_dataset_from_directory\n",
        "from keras.preprocessing.image import ImageDataGenerator\n",
        "\n",
        "import sklearn \n",
        "from sklearn import metrics\n",
        "import tensorflow_addons as tfa"
      ],
      "execution_count": 1,
      "outputs": []
    },
    {
      "cell_type": "markdown",
      "metadata": {
        "id": "K4DHtJvrmtFU"
      },
      "source": [
        "#Unzip Dataset"
      ]
    },
    {
      "cell_type": "code",
      "metadata": {
        "id": "6gHBs-bRmsYL"
      },
      "source": [
        "dataset_name = 'dataset_binary'\n",
        "zip_file_path = '/content/' + dataset_name + '.zip'\n",
        "unzipped_dir = '/content'\n",
        "dataset_X = '/content/' + dataset_name\n",
        "with zipfile.ZipFile(zip_file_path, 'r') as zip_ref:\n",
        "    zip_ref.extractall(unzipped_dir)"
      ],
      "execution_count": 3,
      "outputs": []
    },
    {
      "cell_type": "markdown",
      "metadata": {
        "id": "caM9YoCRm76r"
      },
      "source": [
        "#Create Dataloader"
      ]
    },
    {
      "cell_type": "code",
      "metadata": {
        "id": "Un_mmbtym9vl",
        "outputId": "37880c94-7b40-4388-fe91-4c1a366cf2ca",
        "colab": {
          "base_uri": "https://localhost:8080/"
        }
      },
      "source": [
        "BATCH_SIZE = 32\n",
        "ORIG_IMG_SIZE = (96, 96)\n",
        "ORIG_COLOR_MODE ='grayscale'\n",
        "IMG_SIZE = (96, 96)\n",
        "COLOR_MODE = 'grayscale'\n",
        "\n",
        "train_dataset = image_dataset_from_directory(dataset_X +'/train/', label_mode='categorical', shuffle=True, batch_size=BATCH_SIZE, image_size=IMG_SIZE, color_mode=COLOR_MODE)\n",
        "dev_dataset = image_dataset_from_directory(dataset_X +'/dev/', label_mode='categorical', shuffle=True, batch_size=BATCH_SIZE, image_size=IMG_SIZE, color_mode=COLOR_MODE)\n",
        "test_dataset = image_dataset_from_directory(dataset_X +'/test/', label_mode='categorical', shuffle=True, batch_size=BATCH_SIZE, image_size=IMG_SIZE, color_mode=COLOR_MODE)"
      ],
      "execution_count": 4,
      "outputs": [
        {
          "output_type": "stream",
          "text": [
            "Found 33915 files belonging to 2 classes.\n",
            "Found 5339 files belonging to 2 classes.\n",
            "Found 2819 files belonging to 2 classes.\n"
          ],
          "name": "stdout"
        }
      ]
    },
    {
      "cell_type": "code",
      "metadata": {
        "id": "HmVE18dJnBrV"
      },
      "source": [
        "def show_example(train_dataset):\n",
        "  for image, _ in train_dataset.take(1):\n",
        "    plt.figure(figsize=(10, 10))\n",
        "    first_image = np.asarray(image[0]).squeeze()\n",
        "    print(first_image.shape)\n",
        "    # for i in range(9):\n",
        "    #   ax = plt.subplot(3, 3, i + 1)\n",
        "      # augmented_image = data_augmentation(tf.expand_dims(first_image, 0))\n",
        "      # plt.imshow(augmented_image[0] / 255)\n",
        "    # print(image)\n",
        "    plt.gray()\n",
        "    plt.imshow(first_image / 255, plt.get_cmap('gray'))\n",
        "    plt.axis('off')\n",
        "    \n",
        "    break \n",
        "\n",
        "# Run with this line:\n",
        "# show_example(train_dataset)"
      ],
      "execution_count": 5,
      "outputs": []
    },
    {
      "cell_type": "code",
      "metadata": {
        "id": "HTsjG5AvnrwH"
      },
      "source": [
        "AUTOTUNE = tf.data.experimental.AUTOTUNE\n",
        "\n",
        "train_dataset = train_dataset.prefetch(buffer_size=AUTOTUNE)\n",
        "dev_dataset = dev_dataset.prefetch(buffer_size=AUTOTUNE)\n",
        "test_dataset = test_dataset.prefetch(buffer_size=AUTOTUNE)"
      ],
      "execution_count": 6,
      "outputs": []
    },
    {
      "cell_type": "markdown",
      "metadata": {
        "id": "ogyQ9uDVoZEJ"
      },
      "source": [
        "# GPU Setup"
      ]
    },
    {
      "cell_type": "code",
      "metadata": {
        "id": "4T8XMwMzoZzp",
        "outputId": "5d88c0e3-d8c6-44eb-af1f-42a86d00d405",
        "colab": {
          "base_uri": "https://localhost:8080/"
        }
      },
      "source": [
        "device_name = tf.test.gpu_device_name()\n",
        "if device_name != '/device:GPU:0':\n",
        "  raise SystemError('GPU device not found')\n",
        "print('Found GPU at: {}'.format(device_name))"
      ],
      "execution_count": 7,
      "outputs": [
        {
          "output_type": "stream",
          "text": [
            "Found GPU at: /device:GPU:0\n"
          ],
          "name": "stdout"
        }
      ]
    },
    {
      "cell_type": "markdown",
      "metadata": {
        "id": "EROvyAkioJI0"
      },
      "source": [
        "# Create Model"
      ]
    },
    {
      "cell_type": "code",
      "metadata": {
        "id": "TD-GVMnBe79j"
      },
      "source": [
        "num_classes = 2\n",
        "\n",
        "last_layer = Dense(2, activation='softmax') if num_classes == 2 else Dense(3, activation='softmax')"
      ],
      "execution_count": 9,
      "outputs": []
    },
    {
      "cell_type": "code",
      "metadata": {
        "id": "WoIAhwUleeRp"
      },
      "source": [
        "\n",
        "model_cnn = keras.Sequential(\n",
        "    [\n",
        "        keras.Input(shape=(IMG_SIZE[0],IMG_SIZE[1], 1)),  # 96x96 greyscale image\n",
        "        layers.Conv2D(filters=8, kernel_size=3, strides=1, padding='same', activation=\"relu\"),\n",
        "        layers.Conv2D(filters=16, kernel_size=3, strides=1, padding='same', activation=\"relu\"),\n",
        "        layers.Conv2D(filters=16, kernel_size=3, strides=1, padding='same', activation=\"relu\"),\n",
        "        layers.MaxPool2D(),\n",
        "        layers.Conv2D(filters=32, kernel_size=3, strides=2, padding='same', activation=\"relu\"),        # layers.MaxPool2D(),\n",
        "        layers.Conv2D(filters=64, kernel_size=3, strides=2, padding='same', activation=\"relu\"),\n",
        "        layers.MaxPool2D(),\n",
        "        layers.Flatten(name='flatten'),\n",
        "        Dense(100, activation='relu'),\n",
        "        Dense(100, activation='relu'),\n",
        "        Dense(64, activation='relu'),\n",
        "        last_layer  \n",
        "    ]\n",
        ")"
      ],
      "execution_count": 19,
      "outputs": []
    },
    {
      "cell_type": "code",
      "metadata": {
        "id": "C6XeMvoAefbM"
      },
      "source": [
        "model_full = keras.Sequential(\n",
        "    [\n",
        "        keras.Input(shape=(IMG_SIZE[0],IMG_SIZE[1], 1)),  # 96x96 greyscale image\n",
        "        layers.Flatten(name='flatten'),\n",
        "        Dense(64, activation='relu'),\n",
        "        Dense(64, activation='relu'),\n",
        "        Dense(64, activation='relu'),\n",
        "        Dense(64, activation='relu'),\n",
        "        Dense(128, activation='relu'),\n",
        "        Dense(128, activation='relu'),\n",
        "        Dense(128, activation='relu'),\n",
        "        Dense(128, activation='relu'),\n",
        "        Dense(128, activation='relu'),\n",
        "        Dense(64, activation='relu'),\n",
        "        Dense(64, activation='relu'),\n",
        "        Dense(64, activation='relu'),\n",
        "        Dense(64, activation='relu'),\n",
        "        Dense(64, activation='relu'),\n",
        "        last_layer\n",
        "    ]\n",
        ")"
      ],
      "execution_count": 20,
      "outputs": []
    },
    {
      "cell_type": "code",
      "metadata": {
        "id": "tfroh3N7ul5q",
        "outputId": "62786c78-e0c0-4372-9321-7be699d5de7b",
        "colab": {
          "base_uri": "https://localhost:8080/"
        }
      },
      "source": [
        "model = model_full\n",
        "model.summary()"
      ],
      "execution_count": 21,
      "outputs": [
        {
          "output_type": "stream",
          "text": [
            "Model: \"sequential_3\"\n",
            "_________________________________________________________________\n",
            "Layer (type)                 Output Shape              Param #   \n",
            "=================================================================\n",
            "flatten (Flatten)            (None, 9216)              0         \n",
            "_________________________________________________________________\n",
            "dense_22 (Dense)             (None, 64)                589888    \n",
            "_________________________________________________________________\n",
            "dense_23 (Dense)             (None, 64)                4160      \n",
            "_________________________________________________________________\n",
            "dense_24 (Dense)             (None, 64)                4160      \n",
            "_________________________________________________________________\n",
            "dense_25 (Dense)             (None, 64)                4160      \n",
            "_________________________________________________________________\n",
            "dense_26 (Dense)             (None, 128)               8320      \n",
            "_________________________________________________________________\n",
            "dense_27 (Dense)             (None, 128)               16512     \n",
            "_________________________________________________________________\n",
            "dense_28 (Dense)             (None, 128)               16512     \n",
            "_________________________________________________________________\n",
            "dense_29 (Dense)             (None, 128)               16512     \n",
            "_________________________________________________________________\n",
            "dense_30 (Dense)             (None, 128)               16512     \n",
            "_________________________________________________________________\n",
            "dense_31 (Dense)             (None, 64)                8256      \n",
            "_________________________________________________________________\n",
            "dense_32 (Dense)             (None, 64)                4160      \n",
            "_________________________________________________________________\n",
            "dense_33 (Dense)             (None, 64)                4160      \n",
            "_________________________________________________________________\n",
            "dense_34 (Dense)             (None, 64)                4160      \n",
            "_________________________________________________________________\n",
            "dense_35 (Dense)             (None, 64)                4160      \n",
            "_________________________________________________________________\n",
            "dense_1 (Dense)              (None, 2)                 130       \n",
            "=================================================================\n",
            "Total params: 701,762\n",
            "Trainable params: 701,762\n",
            "Non-trainable params: 0\n",
            "_________________________________________________________________\n"
          ],
          "name": "stdout"
        }
      ]
    },
    {
      "cell_type": "code",
      "metadata": {
        "id": "0Y6semJ_oLRZ"
      },
      "source": [
        "def f1_score(num_classes):\n",
        "  return tfa.metrics.F1Score(num_classes=num_classes, average=\"weighted\")"
      ],
      "execution_count": 22,
      "outputs": []
    },
    {
      "cell_type": "code",
      "metadata": {
        "id": "1lYQFW6Yu5bl"
      },
      "source": [
        "# Compile model with accuracy and weighted F1 Score\n",
        "model.compile(loss='categorical_crossentropy', optimizer='adam', metrics=['accuracy', f1_score(num_classes)])"
      ],
      "execution_count": 23,
      "outputs": []
    },
    {
      "cell_type": "code",
      "metadata": {
        "id": "L9xWWRpkh-q-"
      },
      "source": [
        "# Configure eary stopping\n",
        "callback = tf.keras.callbacks.EarlyStopping(monitor='val_loss', patience=3)"
      ],
      "execution_count": 24,
      "outputs": []
    },
    {
      "cell_type": "markdown",
      "metadata": {
        "id": "N1XXZxAao0VM"
      },
      "source": [
        "# Initial Model Training"
      ]
    },
    {
      "cell_type": "markdown",
      "metadata": {
        "id": "dWRti59Voxt9"
      },
      "source": [
        "## Initial results without training"
      ]
    },
    {
      "cell_type": "code",
      "metadata": {
        "id": "PSYj6rehowjf",
        "outputId": "afc85231-8ca0-4716-87f6-84661be042b5",
        "colab": {
          "base_uri": "https://localhost:8080/"
        }
      },
      "source": [
        "loss0, accuracy0, f1_score0 = model.evaluate(dev_dataset)\n",
        "print(\"initial loss: {:.2f}\".format(loss0))\n",
        "print(\"initial accuracy: {:.2f}\".format(accuracy0))\n",
        "print(\"initial f1_score: {:.2f}\".format(f1_score0))"
      ],
      "execution_count": 25,
      "outputs": [
        {
          "output_type": "stream",
          "text": [
            "167/167 [==============================] - 2s 14ms/step - loss: 1.7005 - accuracy: 0.5001 - f1_score: 0.3334\n",
            "initial loss: 1.70\n",
            "initial accuracy: 0.50\n",
            "initial f1_score: 0.33\n"
          ],
          "name": "stdout"
        }
      ]
    },
    {
      "cell_type": "markdown",
      "metadata": {
        "id": "8UVxlPwYpFf8"
      },
      "source": [
        "## Fit (Initial)"
      ]
    },
    {
      "cell_type": "code",
      "metadata": {
        "id": "jwgESt2qonMy"
      },
      "source": [
        "initial_epochs = 20"
      ],
      "execution_count": 26,
      "outputs": []
    },
    {
      "cell_type": "code",
      "metadata": {
        "id": "1HWov4J3vQCH",
        "outputId": "4ee77295-8155-42ed-ab6c-ce5accb2b9ab",
        "colab": {
          "base_uri": "https://localhost:8080/"
        }
      },
      "source": [
        "with tf.device('/device:GPU:0'):\n",
        "  history = model.fit(train_dataset,\n",
        "                  epochs=initial_epochs,\n",
        "                  validation_data=dev_dataset,\n",
        "                  callbacks=[callback])\n",
        "  # model.fit(train_it, epochs=20, batch_size=batchX.shape[0], validation_data=dev_it, validation_batch_size=batchX.shape[0])"
      ],
      "execution_count": 28,
      "outputs": [
        {
          "output_type": "stream",
          "text": [
            "Epoch 1/20\n",
            "1060/1060 [==============================] - 20s 19ms/step - loss: 0.5319 - accuracy: 0.7602 - f1_score: 0.7533 - val_loss: 0.5103 - val_accuracy: 0.7601 - val_f1_score: 0.7601\n",
            "Epoch 2/20\n",
            "1060/1060 [==============================] - 19s 18ms/step - loss: 0.4789 - accuracy: 0.7870 - f1_score: 0.7804 - val_loss: 0.5165 - val_accuracy: 0.7488 - val_f1_score: 0.7485\n",
            "Epoch 3/20\n",
            "1060/1060 [==============================] - 19s 18ms/step - loss: 0.4668 - accuracy: 0.7912 - f1_score: 0.7855 - val_loss: 0.5023 - val_accuracy: 0.7647 - val_f1_score: 0.7633\n",
            "Epoch 4/20\n",
            "1060/1060 [==============================] - 19s 18ms/step - loss: 0.4526 - accuracy: 0.7980 - f1_score: 0.7931 - val_loss: 0.4752 - val_accuracy: 0.7767 - val_f1_score: 0.7757\n",
            "Epoch 5/20\n",
            "1060/1060 [==============================] - 19s 18ms/step - loss: 0.4117 - accuracy: 0.8198 - f1_score: 0.8175 - val_loss: 0.4236 - val_accuracy: 0.8144 - val_f1_score: 0.8144\n",
            "Epoch 6/20\n",
            "1060/1060 [==============================] - 18s 17ms/step - loss: 0.3965 - accuracy: 0.8271 - f1_score: 0.8258 - val_loss: 0.4212 - val_accuracy: 0.8129 - val_f1_score: 0.8118\n",
            "Epoch 7/20\n",
            "1060/1060 [==============================] - 18s 17ms/step - loss: 0.3851 - accuracy: 0.8307 - f1_score: 0.8298 - val_loss: 0.4241 - val_accuracy: 0.8134 - val_f1_score: 0.8123\n",
            "Epoch 8/20\n",
            "1060/1060 [==============================] - 18s 17ms/step - loss: 0.3730 - accuracy: 0.8395 - f1_score: 0.8387 - val_loss: 0.4159 - val_accuracy: 0.8204 - val_f1_score: 0.8202\n",
            "Epoch 9/20\n",
            "1060/1060 [==============================] - 18s 17ms/step - loss: 0.3695 - accuracy: 0.8421 - f1_score: 0.8413 - val_loss: 0.3982 - val_accuracy: 0.8258 - val_f1_score: 0.8253\n",
            "Epoch 10/20\n",
            "1060/1060 [==============================] - 18s 17ms/step - loss: 0.3735 - accuracy: 0.8413 - f1_score: 0.8407 - val_loss: 0.4109 - val_accuracy: 0.8260 - val_f1_score: 0.8260\n",
            "Epoch 11/20\n",
            "1060/1060 [==============================] - 18s 17ms/step - loss: 0.3662 - accuracy: 0.8461 - f1_score: 0.8453 - val_loss: 0.5450 - val_accuracy: 0.7307 - val_f1_score: 0.7305\n",
            "Epoch 12/20\n",
            "1060/1060 [==============================] - 18s 17ms/step - loss: 0.4266 - accuracy: 0.8149 - f1_score: 0.8119 - val_loss: 0.4100 - val_accuracy: 0.8219 - val_f1_score: 0.8210\n"
          ],
          "name": "stdout"
        }
      ]
    },
    {
      "cell_type": "code",
      "metadata": {
        "id": "EsZN4vCxkpH4",
        "outputId": "a4ef3f5b-b2f0-457f-c170-5b935179b616",
        "colab": {
          "base_uri": "https://localhost:8080/"
        }
      },
      "source": [
        "binary = True\n",
        "if binary:\n",
        "  model.save('/content/binary_model')\n",
        "\n",
        "save_to_drive=False\n",
        "if save_to_drive:\n",
        "  model.save('/content/drive/My Drive/Haptic Vest/binary_model')"
      ],
      "execution_count": 89,
      "outputs": [
        {
          "output_type": "stream",
          "text": [
            "INFO:tensorflow:Assets written to: /content/binary_model/assets\n"
          ],
          "name": "stdout"
        }
      ]
    },
    {
      "cell_type": "code",
      "metadata": {
        "id": "tduls1Qo_ghA"
      },
      "source": [
        "# binary_model.get_weights()"
      ],
      "execution_count": 54,
      "outputs": []
    },
    {
      "cell_type": "markdown",
      "metadata": {
        "id": "dbAa0XgYpKta"
      },
      "source": [
        "## Learning Plot"
      ]
    },
    {
      "cell_type": "code",
      "metadata": {
        "id": "RuBnzJRdoeeE",
        "outputId": "556222e2-83d8-4e23-9f5b-77eade29ca9d",
        "colab": {
          "base_uri": "https://localhost:8080/",
          "height": 730
        }
      },
      "source": [
        "acc = history.history['accuracy']\n",
        "val_acc = history.history['val_accuracy']\n",
        "\n",
        "loss = history.history['loss']\n",
        "val_loss = history.history['val_loss']\n",
        "\n",
        "\n",
        "f1_score = history.history['f1_score']\n",
        "val_f1_score = history.history['val_f1_score']\n",
        "\n",
        "plt.figure(figsize=(12, 12))\n",
        "plt.subplot(3, 1, 1)\n",
        "plt.plot(acc, label='Training Accuracy')\n",
        "plt.plot(val_acc, label='Validation Accuracy')\n",
        "plt.legend(loc='lower right')\n",
        "plt.ylabel('Accuracy')\n",
        "plt.ylim([min(plt.ylim()),1])\n",
        "plt.title('Training and Validation Accuracy')\n",
        "\n",
        "plt.subplot(3, 1, 2)\n",
        "plt.plot(loss, label='Training Loss')\n",
        "plt.plot(val_loss, label='Validation Loss')\n",
        "plt.legend(loc='upper right')\n",
        "plt.ylabel('Cross Entropy')\n",
        "plt.ylim([0,1.0])\n",
        "plt.title('Training and Validation Loss')\n",
        "\n",
        "plt.subplot(3, 1, 3)\n",
        "plt.plot(f1_score, label='Training Weighted F1 Score')\n",
        "plt.plot(val_f1_score, label='Validation Weighted F1 Score')\n",
        "plt.legend(loc='upper right')\n",
        "plt.ylabel('Weighted F1 Score')\n",
        "plt.ylim([0,1.0])\n",
        "plt.title('Training and Validation Weighted F1 Score')\n",
        "plt.xlabel('epoch')\n",
        "plt.show()"
      ],
      "execution_count": 90,
      "outputs": [
        {
          "output_type": "display_data",
          "data": {
            "image/png": "[encoded data removed]",
            "text/plain": [
              "<Figure size 864x864 with 3 Axes>"
            ]
          },
          "metadata": {
            "tags": [],
            "needs_background": "light"
          }
        }
      ]
    },
    {
      "cell_type": "markdown",
      "metadata": {
        "id": "WtkTOy_st5M_"
      },
      "source": [
        "# Rounded Weights Evaluation"
      ]
    },
    {
      "cell_type": "code",
      "metadata": {
        "id": "OLS7Xl8QuFNl",
        "outputId": "596c6fc3-e0d0-4324-9b95-207f5ef858ab",
        "colab": {
          "base_uri": "https://localhost:8080/"
        }
      },
      "source": [
        "def modify_weights(weights, transform):\n",
        "  new_weights = []\n",
        "  for layer_num, layer_weights in enumerate(weights):\n",
        "    if layer_num < len(weights):\n",
        "      new_weights.append(transform(layer_weights))\n",
        "      # print(f\"=============== Layer {layer_num} ===============\\n\")\n",
        "      # print(layer_weights)\n",
        "      # print(new_weights[layer_num])\n",
        "      # print('\\n')\n",
        "  return new_weights\n",
        "\n",
        "\n",
        "def round2(layer_weights):\n",
        "  return np.round_(layer_weights, 2)\n",
        "\n",
        "def round1(layer_weights):\n",
        "  return np.round_(layer_weights, 1)\n",
        "\n",
        "def round0(layer_weights):\n",
        "  return np.round_(layer_weights)\n",
        "\n",
        "def pow_2_scale(layer_weights):\n",
        "  sign = binarise(layer_weights)\n",
        "  pow_2 = sign*2**(-np.round_(np.log2(np.absolute(layer_weights))))\n",
        "  return pow_2\n",
        "\n",
        "def binarise(layer_weights):\n",
        "  return 2*((layer_weights < 0) - 0.5)\n",
        "\n",
        "transform = round1\n",
        "# transform = pow_2_scale\n",
        "# transform = binarise\n",
        "\n",
        "weights = model.get_weights() # returs a numpy list of weights\n",
        "new_weights = modify_weights(weights, transform)\n",
        "print(new_weights)"
      ],
      "execution_count": 81,
      "outputs": [
        {
          "output_type": "stream",
          "text": [
            "[array([[ 0. , -0. ,  0. , ..., -0. , -0. , -0. ],\n",
            "       [-0. ,  0. , -0. , ..., -0. , -0. ,  0. ],\n",
            "       [ 0. , -0. , -0. , ...,  0. , -0. , -0. ],\n",
            "       ...,\n",
            "       [-0.1,  0. ,  0. , ...,  0. ,  0. , -0. ],\n",
            "       [-0.1,  0. ,  0. , ...,  0. ,  0. , -0. ],\n",
            "       [-0.1, -0. , -0. , ...,  0. , -0. ,  0. ]], dtype=float32), array([ 0.2, -0. , -0. , -0. , -0. , -0. , -0. , -0. , -0. , -0. , -0. ,\n",
            "       -0. , -0. , -0. , -0. , -0. , -0. , -0. , -0. , -0. ,  0. , -0. ,\n",
            "       -0. , -0. , -0. , -0. , -0. , -0.2, -0. , -0. , -0. , -0. , -0. ,\n",
            "        0. , -0. , -0. , -0. , -0. , -0. , -0. , -0. , -0. , -0. ,  0.2,\n",
            "       -0. , -0. , -0. , -0. , -0. , -0. , -0.1, -0. , -0. , -0. , -0. ,\n",
            "       -0. , -0. , -0. , -0. , -0. , -0. , -0. , -0. , -0. ],\n",
            "      dtype=float32), array([[-0.1,  0.1, -0. , ..., -0.1, -0.1, -0. ],\n",
            "       [-0.1,  0.2, -0.1, ..., -0.1,  0.2,  0.2],\n",
            "       [ 0. , -0.2,  0.1, ...,  0.1,  0.1, -0.2],\n",
            "       ...,\n",
            "       [ 0.2, -0.2, -0.2, ...,  0. ,  0.2, -0.2],\n",
            "       [-0.1,  0.1,  0.1, ..., -0.2, -0.1, -0.2],\n",
            "       [-0.1,  0. ,  0.2, ...,  0.1,  0.1,  0. ]], dtype=float32), array([-0.4,  0.1, -0.3, -0. , -0. , -0.1, -0.1, -0.2,  0.2,  0.1, -0.3,\n",
            "       -0. , -0. , -0.1,  0.1, -0. , -0.1, -0.2, -0. ,  0.3, -0.3, -0.2,\n",
            "        0. , -0.3, -0.2,  0. , -0. , -0.1, -0.2,  0.2,  0.1, -0.4, -0.2,\n",
            "       -0.2, -0.3,  0.3, -0.2, -0.4, -0.2, -0.1, -0.3, -0.1,  0.1,  0. ,\n",
            "        0.1, -0.3, -0.2, -0.2, -0. ,  0. , -0.1,  0. , -0.2, -0.1, -0.2,\n",
            "        0.2,  0.2,  0. ,  0.1, -0.1, -0. , -0.1,  0.1, -0.1],\n",
            "      dtype=float32), array([[-0.1, -0.2, -0.1, ...,  0.1, -0.1, -0.1],\n",
            "       [ 0.3, -0.2,  0.2, ...,  0. , -0.2,  0.2],\n",
            "       [-0.1, -0.2, -0.1, ...,  0.2,  0.1,  0.1],\n",
            "       ...,\n",
            "       [-0.2,  0.1,  0. , ...,  0. , -0. , -0. ],\n",
            "       [ 0.3,  0.1,  0. , ...,  0.2,  0.1, -0.2],\n",
            "       [ 0.2, -0. ,  0.2, ...,  0.1,  0.2,  0.2]], dtype=float32), array([-0.1, -0.2,  0. ,  0. , -0. , -0.1, -0.2, -0. , -0.1, -0.2, -0. ,\n",
            "       -0. ,  0. , -0.1, -0. , -0. , -0.1, -0.2, -0. , -0. , -0.1, -0.1,\n",
            "        0.1,  0. , -0.2, -0. , -0.1, -0.1, -0. , -0.3, -0. , -0.1, -0. ,\n",
            "       -0.1, -0. , -0.3, -0.2, -0.3, -0. , -0.1, -0. , -0.3, -0.1, -0.3,\n",
            "       -0.1, -0.1, -0.1, -0. , -0.1, -0.3,  0.1, -0.1,  0.1, -0. ,  0. ,\n",
            "       -0. ,  0.1, -0.1, -0.1, -0.1, -0. , -0.1,  0. , -0. ],\n",
            "      dtype=float32), array([[ 0. , -0. , -0.2, ...,  0.1,  0.1,  0.2],\n",
            "       [-0.1,  0.2,  0.2, ..., -0. ,  0.2, -0.2],\n",
            "       [-0.2,  0.2, -0. , ..., -0. ,  0.1,  0.1],\n",
            "       ...,\n",
            "       [-0.2, -0.1, -0.1, ..., -0.1, -0.2, -0.2],\n",
            "       [-0.1,  0.2,  0.1, ...,  0. ,  0. ,  0.2],\n",
            "       [ 0.2, -0.1,  0.1, ..., -0.1, -0.3, -0.1]], dtype=float32), array([-0.2, -0.2, -0.1, -0.2, -0. , -0.1, -0.2, -0.1, -0.1,  0. ,  0. ,\n",
            "       -0.1, -0. , -0.2, -0.2, -0.2, -0.1,  0.1, -0.1, -0. , -0.1, -0.3,\n",
            "       -0.2, -0.3,  0. , -0.2, -0.1, -0.2,  0. ,  0. , -0.3,  0.1, -0. ,\n",
            "       -0.1, -0. , -0.1, -0.1, -0.3, -0.1, -0.2, -0.1, -0.1, -0. , -0.2,\n",
            "       -0.3, -0.1, -0.2, -0.1, -0. , -0.1, -0.1, -0. , -0.1, -0.2, -0.3,\n",
            "       -0.1, -0. , -0.3, -0.1, -0.1, -0.3, -0. , -0.2,  0.1],\n",
            "      dtype=float32), array([[ 0. , -0.1, -0.2, ..., -0. , -0.2, -0.1],\n",
            "       [-0. ,  0.2,  0. , ..., -0. ,  0. , -0.1],\n",
            "       [ 0.2, -0. ,  0.1, ...,  0.1, -0. ,  0.1],\n",
            "       ...,\n",
            "       [-0.2,  0.1, -0.2, ...,  0.1,  0.1, -0.2],\n",
            "       [-0.1, -0.2, -0.2, ...,  0. ,  0.1,  0.1],\n",
            "       [ 0.1, -0.2, -0. , ..., -0.2, -0.1, -0.1]], dtype=float32), array([-0. , -0.2,  0.1, -0.1, -0.1,  0.1, -0.3, -0.2, -0.2,  0.1, -0. ,\n",
            "       -0.2, -0.1,  0.1, -0.2, -0. , -0.2, -0.1, -0.1, -0.1, -0.1, -0. ,\n",
            "       -0.1, -0.1, -0.1, -0. , -0.1,  0. , -0.1, -0.1, -0.3, -0.2, -0.1,\n",
            "       -0.3, -0. , -0.1, -0.1, -0.1, -0.1, -0.1, -0.2, -0.2, -0. , -0.2,\n",
            "       -0.2, -0.2, -0.1, -0.1, -0. , -0.2, -0.2, -0. , -0.1, -0.2, -0.3,\n",
            "        0.1, -0. , -0.1, -0.2, -0.4, -0.1,  0. , -0.2, -0. , -0.1, -0.1,\n",
            "       -0. ,  0.2, -0. , -0.2, -0.1, -0.1,  0. , -0.1, -0.1, -0.1, -0.2,\n",
            "       -0.1, -0.1, -0. , -0.1, -0. , -0. , -0.3, -0.1, -0.2, -0.1, -0. ,\n",
            "       -0.1, -0.1,  0.1, -0. , -0.1, -0.1, -0.1, -0. ,  0. ,  0. , -0.2,\n",
            "        0. , -0.1, -0.2, -0.2, -0.2, -0.1, -0.2,  0. , -0.1, -0. ,  0.1,\n",
            "        0.1, -0. , -0.1, -0.1,  0. , -0.2, -0.3, -0.1, -0.3, -0.1, -0.1,\n",
            "       -0.1,  0.1,  0.1,  0.1, -0.1, -0.1, -0.1], dtype=float32), array([[ 0.1,  0.1, -0. , ...,  0.1,  0.1,  0. ],\n",
            "       [ 0.1, -0.1, -0.1, ..., -0. , -0.2, -0.2],\n",
            "       [-0.1,  0.1, -0. , ..., -0. , -0.1, -0.1],\n",
            "       ...,\n",
            "       [ 0.1,  0.1, -0.1, ..., -0.1, -0.1, -0.1],\n",
            "       [-0. , -0.1, -0. , ..., -0.2, -0. , -0. ],\n",
            "       [-0.1,  0. , -0.1, ..., -0.2, -0.2,  0. ]], dtype=float32), array([-0.1, -0. , -0.3, -0.1, -0.1, -0.1, -0.2, -0.1, -0.2, -0.2, -0. ,\n",
            "       -0.1, -0.1, -0.1, -0.2,  0.1, -0. , -0.1, -0. ,  0. ,  0.2,  0. ,\n",
            "        0.1, -0.1, -0.2, -0.1, -0. , -0. , -0.1, -0.1, -0.1, -0.1, -0.2,\n",
            "       -0.1,  0. ,  0. , -0.1,  0. ,  0.3, -0.1,  0.2,  0. , -0.1, -0.1,\n",
            "       -0. , -0. , -0.1, -0. ,  0.1, -0.1, -0.1, -0.2, -0.2, -0. ,  0. ,\n",
            "       -0.2, -0.2, -0.1, -0.2, -0.1, -0.1, -0.1, -0.1, -0.1, -0. , -0.1,\n",
            "       -0. , -0.2,  0.1, -0.2, -0. , -0.1, -0.1, -0.1,  0. , -0.1, -0.1,\n",
            "       -0. ,  0.1, -0.1, -0. , -0. , -0. , -0.1, -0.1, -0. , -0. , -0.1,\n",
            "       -0. , -0.1, -0.1, -0. , -0. ,  0. , -0. , -0. , -0.1, -0.1,  0. ,\n",
            "       -0. ,  0.2,  0. , -0.1, -0. , -0.2, -0.1,  0. ,  0. , -0. , -0. ,\n",
            "       -0.2, -0.1, -0. , -0.1, -0. , -0. , -0. , -0. , -0. , -0.1,  0.1,\n",
            "        0. , -0.2, -0. , -0.1, -0.1, -0.1, -0.1], dtype=float32), array([[ 0.1, -0. ,  0. , ...,  0. ,  0.1,  0. ],\n",
            "       [ 0.2, -0.2,  0. , ...,  0. , -0.1, -0.2],\n",
            "       [-0. ,  0. , -0.1, ..., -0.1, -0.1,  0. ],\n",
            "       ...,\n",
            "       [-0. ,  0.3,  0. , ..., -0.1,  0.1,  0. ],\n",
            "       [-0.1, -0.1, -0.1, ...,  0. ,  0.1,  0. ],\n",
            "       [-0.1, -0.1, -0.1, ..., -0.2, -0.1,  0.1]], dtype=float32), array([-0. ,  0.1, -0.2, -0.1, -0.1, -0. , -0. , -0.1,  0.1, -0. ,  0.1,\n",
            "       -0. , -0.2, -0. , -0.1,  0. , -0.1,  0. , -0.1, -0. , -0.1, -0. ,\n",
            "       -0. , -0.1, -0.2, -0.1,  0.1, -0. , -0.1, -0.1, -0.1, -0.2, -0.1,\n",
            "        0. ,  0.1,  0.1, -0. , -0.1, -0. , -0.1,  0.1, -0.1, -0. , -0. ,\n",
            "       -0.2, -0.1, -0. , -0.1,  0.1, -0.2,  0.1, -0.1,  0. , -0.2, -0. ,\n",
            "       -0. , -0.1,  0. , -0.1, -0. , -0.1, -0.1,  0.1,  0.1,  0. , -0.1,\n",
            "        0.1, -0.1, -0.1,  0. , -0. ,  0. , -0. ,  0.1, -0.1, -0.1, -0.1,\n",
            "       -0.1, -0. , -0. , -0.1, -0.1,  0. , -0. , -0. , -0. , -0.1, -0.1,\n",
            "        0.2, -0.1,  0.2, -0.1, -0.1, -0.1, -0.2,  0.1, -0.2,  0.1, -0.1,\n",
            "        0. , -0.1, -0.2, -0.1, -0.1, -0.1,  0. , -0. , -0.3, -0.2, -0.1,\n",
            "       -0.1, -0.1, -0.1, -0.4, -0. , -0.1, -0.1, -0. , -0.2, -0.3, -0.1,\n",
            "       -0.1, -0. ,  0.1,  0. , -0. , -0. ,  0. ], dtype=float32), array([[-0. , -0.2,  0. , ...,  0.1, -0.2,  0.1],\n",
            "       [-0. ,  0.1, -0.1, ..., -0.1,  0.1, -0.1],\n",
            "       [-0.1,  0.1,  0.1, ..., -0. ,  0. , -0.2],\n",
            "       ...,\n",
            "       [ 0. , -0.1,  0. , ...,  0.1,  0. , -0.1],\n",
            "       [-0.1,  0.1, -0.2, ..., -0. ,  0. ,  0. ],\n",
            "       [ 0.1, -0. , -0. , ..., -0.2,  0. , -0. ]], dtype=float32), array([-0.1, -0. , -0.1, -0. ,  0.1, -0.1, -0.1, -0.2,  0. , -0. , -0.1,\n",
            "       -0.1, -0.1, -0. , -0.2, -0.1,  0.1, -0.1,  0. , -0.2, -0.1,  0. ,\n",
            "       -0.2,  0.1, -0.3, -0.2, -0. , -0. ,  0. , -0. ,  0.1, -0.2, -0.1,\n",
            "       -0.1, -0.1, -0.1, -0.1,  0. ,  0. ,  0.1,  0.2, -0. ,  0.1, -0.1,\n",
            "       -0.1,  0.1,  0. , -0.1,  0. , -0.1, -0.1, -0. , -0. , -0.1, -0.1,\n",
            "        0.1, -0.1, -0. ,  0. , -0. , -0. , -0.1,  0.1, -0.1,  0. , -0. ,\n",
            "        0.1, -0.1,  0.1, -0.1, -0. , -0.1, -0.1,  0.1, -0.1, -0.1, -0. ,\n",
            "       -0.2, -0.2, -0.2, -0.1, -0.1,  0. , -0.1,  0. , -0.1, -0.1,  0. ,\n",
            "       -0.1, -0.1, -0.1,  0.2, -0. , -0.1, -0. , -0. , -0.1, -0.1, -0. ,\n",
            "       -0.1, -0.1,  0.1, -0.2, -0. , -0. , -0.1, -0. ,  0. ,  0.1, -0. ,\n",
            "       -0.1, -0.2, -0.1, -0.1,  0. , -0.1, -0. , -0.1, -0.1, -0.1,  0.1,\n",
            "       -0.2, -0.2, -0.1, -0.1, -0. ,  0. ,  0.1], dtype=float32), array([[-0.1, -0.2, -0. , ...,  0. , -0.1,  0.1],\n",
            "       [-0.1,  0.2, -0.1, ..., -0. , -0.1,  0. ],\n",
            "       [-0.1,  0.1, -0.1, ..., -0. , -0.1, -0.1],\n",
            "       ...,\n",
            "       [ 0. , -0. ,  0.1, ..., -0. , -0. , -0. ],\n",
            "       [ 0.1,  0.1, -0.1, ..., -0. ,  0.1, -0.1],\n",
            "       [ 0. ,  0.1, -0.1, ..., -0.1, -0.1, -0.1]], dtype=float32), array([-0.1, -0.1, -0.1, -0.1, -0.1,  0. ,  0.1, -0.1,  0.2, -0.1, -0.1,\n",
            "       -0.1, -0. , -0.1, -0.1, -0.1, -0. , -0. , -0.1, -0.1, -0.2, -0.1,\n",
            "        0.1, -0.1, -0.1, -0.1,  0. , -0. , -0.1, -0.1,  0. , -0.2, -0. ,\n",
            "       -0. , -0. , -0.1, -0.2, -0.2,  0.1,  0.1, -0.1, -0.1, -0.1,  0.1,\n",
            "       -0.1,  0. , -0.1,  0.1, -0.2, -0. , -0. ,  0. ,  0. , -0.1, -0.1,\n",
            "       -0.1, -0.1, -0. , -0.1, -0.1, -0.2, -0.1, -0. , -0. , -0.1,  0. ,\n",
            "       -0.2, -0.2, -0.1, -0. , -0.2, -0.1,  0. ,  0.1,  0. , -0.1, -0.1,\n",
            "        0.2, -0.2,  0.1, -0. , -0. , -0. , -0. , -0.1, -0. ,  0. , -0.1,\n",
            "       -0.1, -0. , -0. , -0.1,  0.1, -0.1, -0. , -0.1, -0.1, -0. , -0.1,\n",
            "       -0. , -0. , -0. ,  0. , -0.2,  0.2, -0.1, -0. ,  0.1,  0.1, -0.1,\n",
            "       -0.1, -0. , -0. ,  0.1, -0. , -0. , -0.1,  0.1, -0.2, -0. , -0. ,\n",
            "       -0.1,  0.2, -0.1, -0. , -0.1,  0. , -0.2], dtype=float32), array([[-0.1, -0.2,  0. , ..., -0.1, -0.1, -0. ],\n",
            "       [-0.1, -0. ,  0.1, ..., -0.2, -0.1, -0.2],\n",
            "       [ 0.1, -0.1, -0.1, ..., -0. ,  0.1, -0. ],\n",
            "       ...,\n",
            "       [-0.2,  0. , -0.1, ...,  0.1,  0. ,  0.2],\n",
            "       [-0.2, -0.1, -0.1, ...,  0.1, -0. ,  0. ],\n",
            "       [ 0.1, -0. ,  0. , ...,  0.1,  0. ,  0.1]], dtype=float32), array([-0.1, -0.1, -0. , -0.1, -0.1, -0. ,  0.1,  0.1, -0.1,  0.1, -0. ,\n",
            "       -0.1, -0. , -0. , -0. , -0.1, -0.1, -0.1,  0. , -0. , -0.1, -0.2,\n",
            "        0.1, -0. ,  0.1, -0. , -0.1, -0. , -0.1,  0. , -0.1, -0. , -0.1,\n",
            "       -0.1, -0.2,  0. ,  0.2, -0.1, -0.1, -0.1,  0.2,  0.1,  0. ,  0. ,\n",
            "       -0. , -0. , -0.2, -0.1,  0.1, -0. , -0.1, -0. , -0. , -0.1, -0.1,\n",
            "       -0. , -0. , -0.1, -0. ,  0. , -0. ,  0. ,  0. ,  0.1],\n",
            "      dtype=float32), array([[ 0. ,  0.1, -0.2, ...,  0. , -0.1, -0.1],\n",
            "       [ 0.2,  0. ,  0.1, ...,  0.2,  0.1,  0.1],\n",
            "       [-0.1, -0.1, -0. , ...,  0. ,  0. , -0.2],\n",
            "       ...,\n",
            "       [ 0.1,  0.1, -0.2, ..., -0.1, -0.1, -0. ],\n",
            "       [ 0.1,  0.1,  0. , ...,  0.1,  0.1, -0.1],\n",
            "       [-0. , -0. ,  0.1, ..., -0.2, -0.2, -0.1]], dtype=float32), array([-0.1, -0.1, -0.1, -0.2,  0.2, -0.1, -0.1,  0.2, -0. , -0. ,  0. ,\n",
            "       -0. , -0.1, -0.1,  0. , -0.1, -0. , -0. , -0.1, -0.1,  0.2,  0.1,\n",
            "        0.2, -0.1, -0.1,  0.2, -0. , -0.1, -0. ,  0. , -0. , -0.1, -0.1,\n",
            "       -0.2, -0. , -0.1, -0.2, -0. , -0.1, -0.1,  0.1,  0.1, -0.2, -0.1,\n",
            "        0. , -0.1, -0. , -0.1,  0. ,  0.2, -0.3,  0.1, -0.1, -0.2, -0. ,\n",
            "       -0.1, -0.2, -0.3, -0.1, -0. ,  0.1, -0.1, -0. , -0.1],\n",
            "      dtype=float32), array([[ 0.1, -0.2,  0.1, ..., -0.1, -0.2, -0.1],\n",
            "       [ 0.1,  0.1, -0.2, ..., -0.2, -0.3, -0.1],\n",
            "       [-0.1,  0.1,  0. , ...,  0. , -0.2,  0. ],\n",
            "       ...,\n",
            "       [-0.1, -0. ,  0.1, ...,  0.1, -0.1,  0.2],\n",
            "       [ 0.1,  0.2,  0. , ..., -0. , -0.2, -0. ],\n",
            "       [-0.1, -0.2, -0.1, ...,  0.1,  0.1, -0.2]], dtype=float32), array([ 0.1, -0.1, -0.1, -0.2, -0.1, -0.1,  0. ,  0.1, -0.1, -0. ,  0. ,\n",
            "        0.1, -0.2, -0.3, -0.1,  0. , -0.2,  0.1, -0.1,  0.1, -0.2, -0.2,\n",
            "        0.1, -0.1,  0.2, -0.1, -0. , -0.1,  0.1,  0. ,  0.1,  0.1,  0.1,\n",
            "       -0.2, -0.1,  0. , -0.1, -0.1,  0.3, -0.1, -0.1, -0.3,  0.2, -0.1,\n",
            "        0.1, -0.2, -0. , -0.1, -0. , -0. , -0.1, -0. , -0.1,  0. , -0.1,\n",
            "       -0. ,  0. ,  0.2, -0.1,  0. , -0.1, -0.2,  0. , -0.1],\n",
            "      dtype=float32), array([[-0.2, -0.2, -0.2, ..., -0.1, -0.1,  0.1],\n",
            "       [-0.2,  0. ,  0.1, ...,  0. ,  0.1,  0.1],\n",
            "       [-0. , -0.1,  0. , ...,  0. ,  0.1, -0.3],\n",
            "       ...,\n",
            "       [-0.1,  0.2,  0.1, ...,  0. ,  0. , -0.2],\n",
            "       [ 0. , -0.2, -0. , ..., -0.2,  0.2,  0.1],\n",
            "       [-0. ,  0.2,  0.2, ...,  0.1, -0. , -0.2]], dtype=float32), array([-0.1, -0.1, -0.2, -0.2, -0.1, -0.2,  0.2, -0.1, -0.4,  0. , -0.1,\n",
            "       -0.1,  0.1, -0.1,  0.1, -0.1,  0.1, -0.1,  0.1, -0.2,  0.3, -0. ,\n",
            "       -0.1,  0.3, -0.1, -0.2, -0. , -0. , -0.1,  0.3,  0.1,  0.1,  0.2,\n",
            "       -0.2,  0.2, -0.2, -0.1, -0.2, -0.1, -0.2, -0. , -0.1, -0. , -0.3,\n",
            "       -0. , -0.3, -0. ,  0.1,  0.3, -0.1, -0.2,  0.2, -0.1, -0.1,  0. ,\n",
            "        0. , -0.3, -0. , -0.1, -0.3, -0.2, -0. ,  0.1, -0.3],\n",
            "      dtype=float32), array([[-0.1, -0.3, -0.1, ..., -0.1, -0.2, -0.1],\n",
            "       [ 0. , -0.1, -0.1, ..., -0.1, -0. ,  0.1],\n",
            "       [ 0.1,  0.2, -0. , ..., -0.1,  0.2, -0.1],\n",
            "       ...,\n",
            "       [-0.1,  0. ,  0.2, ..., -0.1, -0.2, -0.2],\n",
            "       [ 0. , -0. , -0.2, ..., -0. ,  0.2, -0.1],\n",
            "       [-0.2, -0.2, -0.1, ...,  0. ,  0.1, -0.2]], dtype=float32), array([ 0.4, -0.1, -0.2,  0.4, -0.1, -0.4,  0.1, -0.1,  0.1,  0.2, -0.3,\n",
            "        0.4, -0.2,  0.4, -0.2, -0.1, -0.1, -0. , -0.1,  0.1, -0.2, -0.1,\n",
            "       -0.2, -0.4,  0.4, -0.1,  0. , -0.3,  0.4,  0.2, -0.2,  0.1, -0. ,\n",
            "       -0.1, -0.4,  0.3,  0.2, -0.1, -0.1,  0.3, -0. , -0.1, -0.2, -0.2,\n",
            "       -0.1,  0. , -0.1, -0.3,  0.1, -0.1,  0.4, -0.1,  0.3, -0. , -0.1,\n",
            "       -0.5, -0.2, -0. ,  0.3,  0.2, -0.1,  0.2, -0.1, -0.3],\n",
            "      dtype=float32), array([[ 0.2, -0.2],\n",
            "       [ 0.1,  0. ],\n",
            "       [ 0.1,  0.1],\n",
            "       [-0. , -0.1],\n",
            "       [ 0.2,  0.1],\n",
            "       [-0.3,  0.1],\n",
            "       [ 0.3,  0.2],\n",
            "       [-0. ,  0. ],\n",
            "       [ 0.3,  0.2],\n",
            "       [ 0.2,  0.2],\n",
            "       [-0.2,  0.1],\n",
            "       [ 0.3, -0.3],\n",
            "       [-0.1,  0.2],\n",
            "       [ 0.1, -0.2],\n",
            "       [ 0.1,  0.2],\n",
            "       [ 0.1,  0.2],\n",
            "       [ 0.1,  0.1],\n",
            "       [ 0.2,  0.2],\n",
            "       [-0.2, -0.1],\n",
            "       [-0.1, -0.1],\n",
            "       [ 0.2,  0.3],\n",
            "       [-0. ,  0.2],\n",
            "       [ 0. ,  0.1],\n",
            "       [-0.2, -0. ],\n",
            "       [ 0.1, -0.1],\n",
            "       [ 0.1,  0.1],\n",
            "       [-0.3, -0.2],\n",
            "       [ 0.1,  0.2],\n",
            "       [ 0.1, -0.2],\n",
            "       [ 0. , -0. ],\n",
            "       [ 0. ,  0. ],\n",
            "       [ 0.1, -0.2],\n",
            "       [ 0.1,  0.1],\n",
            "       [ 0. ,  0.1],\n",
            "       [-0.3, -0.2],\n",
            "       [ 0.1, -0.2],\n",
            "       [ 0. , -0. ],\n",
            "       [-0.2,  0.2],\n",
            "       [ 0. ,  0.1],\n",
            "       [-0.1, -0.2],\n",
            "       [-0.2, -0.2],\n",
            "       [ 0. ,  0. ],\n",
            "       [-0.2,  0. ],\n",
            "       [ 0.1,  0.1],\n",
            "       [-0.2, -0.1],\n",
            "       [ 0.1,  0.1],\n",
            "       [-0.1, -0.2],\n",
            "       [-0. ,  0. ],\n",
            "       [-0.1, -0.1],\n",
            "       [-0.2,  0.3],\n",
            "       [-0.1, -0.3],\n",
            "       [-0. ,  0.1],\n",
            "       [ 0. , -0.1],\n",
            "       [ 0. ,  0.1],\n",
            "       [ 0.2,  0.2],\n",
            "       [-0.3,  0.1],\n",
            "       [-0.1,  0. ],\n",
            "       [-0.2,  0.2],\n",
            "       [ 0.3,  0. ],\n",
            "       [-0.1, -0.2],\n",
            "       [ 0.1, -0.1],\n",
            "       [ 0.2,  0.2],\n",
            "       [ 0.2,  0.1],\n",
            "       [-0.1,  0.2]], dtype=float32), array([ 0.2, -0.2], dtype=float32)]\n"
          ],
          "name": "stdout"
        }
      ]
    },
    {
      "cell_type": "code",
      "metadata": {
        "id": "Xr87kynvlG2I"
      },
      "source": [
        "binarised_test_model = keras.models.load_model('/content/binary_model', custom_objects={'F1Score': tfa.metrics.F1Score})"
      ],
      "execution_count": 82,
      "outputs": []
    },
    {
      "cell_type": "code",
      "metadata": {
        "id": "U6ziuZFMCZbu"
      },
      "source": [
        "binarised_test_model.set_weights(new_weights)"
      ],
      "execution_count": 83,
      "outputs": []
    },
    {
      "cell_type": "code",
      "metadata": {
        "id": "eRxxPczRCdNT",
        "outputId": "c6fa63e8-9d3b-41b4-d312-247299565870",
        "colab": {
          "base_uri": "https://localhost:8080/"
        }
      },
      "source": [
        "_, accuracy, f1_score = binarised_test_model.evaluate(dev_dataset)\n",
        "print('Accuracy: %.2f' % (accuracy*100))\n",
        "\n",
        "_, accuracy, f1_score = model.evaluate(dev_dataset)\n",
        "print('Accuracy: %.2f' % (accuracy*100))\n",
        "\n"
      ],
      "execution_count": 84,
      "outputs": [
        {
          "output_type": "stream",
          "text": [
            "167/167 [==============================] - 2s 15ms/step - loss: 0.4414 - accuracy: 0.8050 - f1_score: 0.8021\n",
            "Accuracy: 80.50\n",
            "167/167 [==============================] - 2s 15ms/step - loss: 0.4100 - accuracy: 0.8219 - f1_score: 0.8210\n",
            "Accuracy: 82.19\n"
          ],
          "name": "stdout"
        }
      ]
    },
    {
      "cell_type": "markdown",
      "metadata": {
        "id": "Nnu_S7EVpVah"
      },
      "source": [
        "# Evaluate on Test Set\n",
        "(COMMENTED until development finished)"
      ]
    },
    {
      "cell_type": "code",
      "metadata": {
        "id": "L3s1IeKlvQbJ"
      },
      "source": [
        "# _, accuracy = model.evaluate(dev_it)\n",
        "# print('Accuracy: %.2f' % (accuracy*100))"
      ],
      "execution_count": 85,
      "outputs": []
    },
    {
      "cell_type": "markdown",
      "metadata": {
        "id": "hvxVlJaWphkn"
      },
      "source": [
        "# Convert tf model to tflite"
      ]
    },
    {
      "cell_type": "code",
      "metadata": {
        "id": "udxcPpIMvfHZ"
      },
      "source": [
        "# Convert\n",
        "converter = tf.lite.TFLiteConverter.from_keras_model(model)\n",
        "tflite_model = converter.convert()\n",
        "\n",
        "# Save\n",
        "with open('model.tflite', 'wb') as f:\n",
        "  f.write(tflite_model)"
      ],
      "execution_count": null,
      "outputs": []
    },
    {
      "cell_type": "code",
      "metadata": {
        "id": "ZotM3y0xoniC"
      },
      "source": [
        ""
      ],
      "execution_count": null,
      "outputs": []
    }
  ]
}