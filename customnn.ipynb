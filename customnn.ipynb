{
  "nbformat": 4,
  "nbformat_minor": 0,
  "metadata": {
    "colab": {
      "name": "customnn.ipynb",
      "provenance": [],
      "collapsed_sections": [],
      "toc_visible": true,
      "mount_file_id": "1MbaZ3EUVvcIXPJH3BDRfGMmff1elVqv4",
      "authorship_tag": "ABX9TyPw0iK1c6mnTXLdK29VoWkZ",
      "include_colab_link": true
    },
    "kernelspec": {
      "name": "python3",
      "display_name": "Python 3"
    },
    "accelerator": "GPU"
  },
  "cells": [
    {
      "cell_type": "markdown",
      "metadata": {
        "id": "view-in-github",
        "colab_type": "text"
      },
      "source": [
        "<a href=\"https://colab.research.google.com/github/PhilipPfeffer/haptic_vest/blob/main/customnn.ipynb\" target=\"_parent\"><img src=\"https://colab.research.google.com/assets/colab-badge.svg\" alt=\"Open In Colab\"/></a>"
      ]
    },
    {
      "cell_type": "markdown",
      "metadata": {
        "id": "ije_D87Vqtrc"
      },
      "source": [
        "# Custom Neural Net"
      ]
    },
    {
      "cell_type": "code",
      "metadata": {
        "id": "OHs0134ZuStT"
      },
      "source": [
        "from numpy import loadtxt\n",
        "import numpy as np\n",
        "import os\n",
        "import shutil\n",
        "import math\n",
        "import zipfile\n",
        "import matplotlib.pyplot as plt\n",
        "\n",
        "import keras\n",
        "from keras import layers\n",
        "from keras.models import Sequential\n",
        "from keras.layers import Dense\n",
        "import tensorflow as tf\n",
        "from tensorflow.keras.preprocessing import image_dataset_from_directory\n",
        "from keras.preprocessing.image import ImageDataGenerator\n",
        "\n",
        "import sklearn \n",
        "from sklearn import metrics\n",
        "import tensorflow_addons as tfa"
      ],
      "execution_count": 1,
      "outputs": []
    },
    {
      "cell_type": "markdown",
      "metadata": {
        "id": "K4DHtJvrmtFU"
      },
      "source": [
        "#Unzip Dataset"
      ]
    },
    {
      "cell_type": "code",
      "metadata": {
        "id": "6gHBs-bRmsYL"
      },
      "source": [
        "dataset_name = 'dataset_binary'\n",
        "zip_file_path = '/content/' + dataset_name + '.zip'\n",
        "unzipped_dir = '/content'\n",
        "dataset_X = '/content/' + dataset_name\n",
        "with zipfile.ZipFile(zip_file_path, 'r') as zip_ref:\n",
        "    zip_ref.extractall(unzipped_dir)"
      ],
      "execution_count": 2,
      "outputs": []
    },
    {
      "cell_type": "markdown",
      "metadata": {
        "id": "caM9YoCRm76r"
      },
      "source": [
        "#Create Dataloader"
      ]
    },
    {
      "cell_type": "code",
      "metadata": {
        "id": "Un_mmbtym9vl",
        "outputId": "e3770d30-9402-4a80-9f37-3b289bc05649",
        "colab": {
          "base_uri": "https://localhost:8080/"
        }
      },
      "source": [
        "BATCH_SIZE = 32\n",
        "ORIG_IMG_SIZE = (96, 96)\n",
        "ORIG_COLOR_MODE ='grayscale'\n",
        "IMG_SIZE = (96, 96)\n",
        "COLOR_MODE = 'grayscale'\n",
        "\n",
        "train_dataset = image_dataset_from_directory(dataset_X +'/train/', label_mode='categorical', shuffle=True, batch_size=BATCH_SIZE, image_size=IMG_SIZE, color_mode=COLOR_MODE)\n",
        "dev_dataset = image_dataset_from_directory(dataset_X +'/dev/', label_mode='categorical', shuffle=True, batch_size=BATCH_SIZE, image_size=IMG_SIZE, color_mode=COLOR_MODE)\n",
        "test_dataset = image_dataset_from_directory(dataset_X +'/test/', label_mode='categorical', shuffle=True, batch_size=BATCH_SIZE, image_size=IMG_SIZE, color_mode=COLOR_MODE)"
      ],
      "execution_count": 3,
      "outputs": [
        {
          "output_type": "stream",
          "text": [
            "Found 33915 files belonging to 2 classes.\n",
            "Found 5339 files belonging to 2 classes.\n",
            "Found 2819 files belonging to 2 classes.\n"
          ],
          "name": "stdout"
        }
      ]
    },
    {
      "cell_type": "code",
      "metadata": {
        "id": "HmVE18dJnBrV"
      },
      "source": [
        "def show_example(train_dataset):\n",
        "  for image, _ in train_dataset.take(1):\n",
        "    plt.figure(figsize=(10, 10))\n",
        "    first_image = np.asarray(image[0]).squeeze()\n",
        "    print(first_image.shape)\n",
        "    # for i in range(9):\n",
        "    #   ax = plt.subplot(3, 3, i + 1)\n",
        "      # augmented_image = data_augmentation(tf.expand_dims(first_image, 0))\n",
        "      # plt.imshow(augmented_image[0] / 255)\n",
        "    # print(image)\n",
        "    plt.gray()\n",
        "    plt.imshow(first_image / 255, plt.get_cmap('gray'))\n",
        "    plt.axis('off')\n",
        "    \n",
        "    break \n",
        "\n",
        "# Run with this line:\n",
        "# show_example(train_dataset)"
      ],
      "execution_count": 6,
      "outputs": []
    },
    {
      "cell_type": "code",
      "metadata": {
        "id": "HTsjG5AvnrwH"
      },
      "source": [
        "AUTOTUNE = tf.data.experimental.AUTOTUNE\n",
        "\n",
        "train_dataset = train_dataset.prefetch(buffer_size=AUTOTUNE)\n",
        "dev_dataset = dev_dataset.prefetch(buffer_size=AUTOTUNE)\n",
        "test_dataset = test_dataset.prefetch(buffer_size=AUTOTUNE)"
      ],
      "execution_count": 7,
      "outputs": []
    },
    {
      "cell_type": "markdown",
      "metadata": {
        "id": "4CSdGVcJviR3"
      },
      "source": [
        "# Get Dataset (OLD)\n"
      ]
    },
    {
      "cell_type": "code",
      "metadata": {
        "id": "u_VkeUip5MyG"
      },
      "source": [
        "# Definitions\n",
        "# dataset ='/content/drive/My Drive/Haptic Vest/dataset_person_car'\n",
        "# classes = ['neither', 'person', None , 'car']\n",
        "# all_processed_imgs_dir = '/content/drive/My Drive/Haptic Vest/person_car_other_imgs_processed'"
      ],
      "execution_count": 8,
      "outputs": []
    },
    {
      "cell_type": "code",
      "metadata": {
        "id": "8z5sGbM45QBd"
      },
      "source": [
        "# train_ids = np.loadtxt(dataset, dtype=(int, int))\n",
        "# train_ids_dict = dict(train_ids)"
      ],
      "execution_count": 9,
      "outputs": []
    },
    {
      "cell_type": "code",
      "metadata": {
        "id": "aIwn9ZOI5eMe"
      },
      "source": [
        "# x_train_ids, y_train_ids = train_ids[:,0], train_ids[:,1]\n",
        "# assert(x_train_ids.shape == y_train_ids.shape)\n",
        "# x_train_ids[0], y_train_ids[0]\n",
        "# print(f\"There are {len(x_train_ids)} images, set(x_train_ids) = {len(set(x_train_ids))} images.\")"
      ],
      "execution_count": 10,
      "outputs": []
    },
    {
      "cell_type": "code",
      "metadata": {
        "id": "lTdMZLnd5nni"
      },
      "source": [
        "# ######################### \n",
        "# # CHANGE HERE\n",
        "# ######################### \n",
        "# num_examples_name = '40000'\n",
        "# ######################### \n",
        "\n",
        "# dataset_X_parent = '/content/dataset_' + num_examples_name\n",
        "# dataset_X = '/content/dataset_' + num_examples_name + '/processed_subset' + num_examples_name\n",
        "# # os.mkdir(dataset_X_parent)  # Uncomment if directory doesn't exist\n",
        "# !unzip /content/processed_subset40000.zip -d dataset_40000"
      ],
      "execution_count": 11,
      "outputs": []
    },
    {
      "cell_type": "markdown",
      "metadata": {
        "id": "s7y7pLbPCVo0"
      },
      "source": [
        "## Set sizes"
      ]
    },
    {
      "cell_type": "code",
      "metadata": {
        "id": "kWOPl4fYDiI4"
      },
      "source": [
        "# class_ids = [0,1,3]"
      ],
      "execution_count": 12,
      "outputs": []
    },
    {
      "cell_type": "code",
      "metadata": {
        "id": "cjIfHOwdKyE-"
      },
      "source": [
        "# dataset_X_ids = {}\n",
        "# dataset_X_labels = []\n",
        "# for entry in os.scandir(dataset_X):\n",
        "#   if entry.is_dir() or os.path.basename(entry)[0] == '.':\n",
        "#     continue\n",
        "#   id = int(os.path.basename(entry)[:-4])\n",
        "#   dataset_X_ids[id] = train_ids_dict[id]\n",
        "#   dataset_X_labels.append(train_ids_dict[id])\n",
        "\n",
        "# print(len(dataset_X_ids))\n",
        "# print(len(dataset_X_labels))"
      ],
      "execution_count": 13,
      "outputs": []
    },
    {
      "cell_type": "code",
      "metadata": {
        "id": "zQKT0571CU8G"
      },
      "source": [
        "# dev_pct = 0.1\n",
        "# test_pct = 0.05\n",
        "# train_pct = 1 - dev_pct - test_pct\n",
        "# assert (dev_pct + test_pct + train_pct == 1)"
      ],
      "execution_count": 14,
      "outputs": []
    },
    {
      "cell_type": "code",
      "metadata": {
        "id": "CdYr-kS6A4R9"
      },
      "source": [
        "# num_neither = np.sum(np.array(dataset_X_labels)==0)\n",
        "# num_person = np.sum(np.array(dataset_X_labels)==1)\n",
        "# num_car = np.sum(np.array(dataset_X_labels)==3)\n",
        "# num_class_examples = {0:num_neither, 1:num_person, 3: num_car}\n",
        "# print(num_class_examples, num_neither +num_person + num_car)"
      ],
      "execution_count": 15,
      "outputs": []
    },
    {
      "cell_type": "code",
      "metadata": {
        "id": "sI-fRa6WCKhu"
      },
      "source": [
        "# num_test = {key: int(test_pct * num_class) for key, num_class in num_class_examples.items()}\n",
        "# num_dev = {key: int(dev_pct * num_class) for key, num_class in num_class_examples.items()}\n",
        "# num_train = {class_id: num_class_examples[class_id] - num_dev[class_id] - num_test[class_id] for class_id in class_ids}\n",
        "\n",
        "# print(num_test, \"\\n\", num_dev, \"\\n\", num_train)"
      ],
      "execution_count": 16,
      "outputs": []
    },
    {
      "cell_type": "code",
      "metadata": {
        "id": "Jf5KbtXAImkM"
      },
      "source": [
        "# # In case of fuck up, reset folders\n",
        "# !rm -r /content/dataset_40000/processed_subset40000/dev\n",
        "# !rm -r /content/dataset_40000/processed_subset40000/test\n",
        "# !rm -r /content/dataset_40000/processed_subset40000/train\n",
        "\n",
        "# !mkdir /content/dataset_40000/processed_subset40000/dev\n",
        "# !mkdir /content/dataset_40000/processed_subset40000/dev/0\n",
        "# !mkdir /content/dataset_40000/processed_subset40000/dev/1\n",
        "# !mkdir /content/dataset_40000/processed_subset40000/dev/3\n",
        "\n",
        "# !mkdir /content/dataset_40000/processed_subset40000/test\n",
        "# !mkdir /content/dataset_40000/processed_subset40000/test/0\n",
        "# !mkdir /content/dataset_40000/processed_subset40000/test/1\n",
        "# !mkdir /content/dataset_40000/processed_subset40000/test/3\n",
        "\n",
        "# !mkdir /content/dataset_40000/processed_subset40000/train\n",
        "# !mkdir /content/dataset_40000/processed_subset40000/train/0\n",
        "# !mkdir /content/dataset_40000/processed_subset40000/train/1\n",
        "# !mkdir /content/dataset_40000/processed_subset40000/train/3"
      ],
      "execution_count": 17,
      "outputs": []
    },
    {
      "cell_type": "code",
      "metadata": {
        "id": "A7jA22CM_KfM"
      },
      "source": [
        "# def path_to_id(path):\n",
        "#   return int(os.path.basename(entry)[:-4])"
      ],
      "execution_count": 18,
      "outputs": []
    },
    {
      "cell_type": "code",
      "metadata": {
        "id": "oIp0kD5m9REp"
      },
      "source": [
        "# num_test_done = {class_id: 0 for class_id in class_ids}\n",
        "# num_dev_done = {class_id: 0 for class_id in class_ids}\n",
        "# num_train_done = {class_id: 0 for class_id in class_ids}\n",
        "# for idx, entry in enumerate(os.scandir(dataset_X)):\n",
        "#   if entry.is_dir() or os.path.basename(entry)[0] == '.':\n",
        "#     continue\n",
        "#   id = path_to_id(entry)\n",
        "#   label = train_ids_dict[id]\n",
        "  \n",
        "#   if num_train_done[label] != num_train[label]:\n",
        "#     num_train_done[label] += 1\n",
        "#     shutil.copyfile(entry, dataset_X + '/train/' + str(label) + '/' + os.path.basename(entry))\n",
        "#   elif num_dev_done[label] != num_dev[label]:\n",
        "#     num_dev_done[label] += 1\n",
        "#     shutil.copyfile(entry, dataset_X + '/dev/' + str(label) + '/' + os.path.basename(entry))\n",
        "#   elif num_test_done[label] != num_test[label]:\n",
        "#     num_test_done[label] += 1\n",
        "#     shutil.copyfile(entry, dataset_X + '/test/' + str(label) + '/' + os.path.basename(entry))\n",
        "  \n",
        "#   if idx % 5000 == 0:\n",
        "#     print(idx, num_train_done, num_dev_done, num_test_done)"
      ],
      "execution_count": 19,
      "outputs": []
    },
    {
      "cell_type": "code",
      "metadata": {
        "id": "aHWKrshEJ4tW"
      },
      "source": [
        "# print(num_train_done, num_dev_done, num_test_done)"
      ],
      "execution_count": 20,
      "outputs": []
    },
    {
      "cell_type": "code",
      "metadata": {
        "id": "TWbHzHVv85u_"
      },
      "source": [
        "# # create generator\n",
        "# datagen_X = ImageDataGenerator()\n",
        "# # prepare an iterators for each dataset\n",
        "# train_it = datagen_X.flow_from_directory(dataset_X +'/train/', class_mode='categorical', color_mode='grayscale', target_size=(96,96))\n",
        "# dev_it = datagen_X.flow_from_directory(dataset_X +'/dev/', class_mode='categorical', color_mode='grayscale', target_size=(96,96))\n",
        "# test_it = datagen_X.flow_from_directory(dataset_X +'/test/', class_mode='categorical', color_mode='grayscale', target_size=(96,96))\n",
        "# # confirm the iterator works\n",
        "# batchX, batchy = train_it.next()\n",
        "# print('Batch shape=%s, min=%.3f, max=%.3f' % (batchX.shape, batchX.min(), batchX.max()))"
      ],
      "execution_count": 21,
      "outputs": []
    },
    {
      "cell_type": "markdown",
      "metadata": {
        "id": "ogyQ9uDVoZEJ"
      },
      "source": [
        "# GPU Setup"
      ]
    },
    {
      "cell_type": "code",
      "metadata": {
        "id": "4T8XMwMzoZzp",
        "outputId": "290043f7-f90c-41a0-afa8-abd7c8f50b5d",
        "colab": {
          "base_uri": "https://localhost:8080/"
        }
      },
      "source": [
        "device_name = tf.test.gpu_device_name()\n",
        "if device_name != '/device:GPU:0':\n",
        "  raise SystemError('GPU device not found')\n",
        "print('Found GPU at: {}'.format(device_name))"
      ],
      "execution_count": 22,
      "outputs": [
        {
          "output_type": "stream",
          "text": [
            "Found GPU at: /device:GPU:0\n"
          ],
          "name": "stdout"
        }
      ]
    },
    {
      "cell_type": "markdown",
      "metadata": {
        "id": "EROvyAkioJI0"
      },
      "source": [
        "# Create Model"
      ]
    },
    {
      "cell_type": "code",
      "metadata": {
        "id": "TD-GVMnBe79j"
      },
      "source": [
        "num_classes = 2\n",
        "\n",
        "last_layer = Dense(2, activation='softmax') if num_classes == 2 else Dense(3, activation='softmax')"
      ],
      "execution_count": 32,
      "outputs": []
    },
    {
      "cell_type": "code",
      "metadata": {
        "id": "WoIAhwUleeRp"
      },
      "source": [
        "model_cnn = keras.Sequential(\n",
        "    [\n",
        "        keras.Input(shape=(IMG_SIZE[0],IMG_SIZE[1], 1)),  # 96x96 greyscale image\n",
        "        layers.Conv2D(filters=8, kernel_size=3, strides=1, padding='same', activation=\"relu\"),\n",
        "        layers.Conv2D(filters=16, kernel_size=3, strides=1, padding='same', activation=\"relu\"),\n",
        "        layers.Conv2D(filters=16, kernel_size=3, strides=1, padding='same', activation=\"relu\"),\n",
        "        layers.MaxPool2D(),\n",
        "        layers.Conv2D(filters=32, kernel_size=3, strides=2, padding='same', activation=\"relu\"),        # layers.MaxPool2D(),\n",
        "        layers.Conv2D(filters=64, kernel_size=3, strides=2, padding='same', activation=\"relu\"),\n",
        "        layers.MaxPool2D(),\n",
        "        layers.Flatten(name='flatten'),\n",
        "        Dense(100, activation='relu'),\n",
        "        Dense(100, activation='relu'),\n",
        "        Dense(64, activation='relu'),\n",
        "        last_layer  \n",
        "    ]\n",
        ")"
      ],
      "execution_count": 33,
      "outputs": []
    },
    {
      "cell_type": "code",
      "metadata": {
        "id": "C6XeMvoAefbM"
      },
      "source": [
        "model_full = keras.Sequential(\n",
        "    [\n",
        "        keras.Input(shape=(IMG_SIZE[0],IMG_SIZE[1], 1)),  # 96x96 greyscale image\n",
        "        layers.Flatten(name='flatten'),\n",
        "        Dense(64, activation='relu'),\n",
        "        Dense(64, activation='relu'),\n",
        "        Dense(64, activation='relu'),\n",
        "        Dense(64, activation='relu'),\n",
        "        Dense(128, activation='relu'),\n",
        "        Dense(128, activation='relu'),\n",
        "        Dense(128, activation='relu'),\n",
        "        Dense(128, activation='relu'),\n",
        "        Dense(128, activation='relu'),\n",
        "        Dense(64, activation='relu'),\n",
        "        Dense(64, activation='relu'),\n",
        "        Dense(64, activation='relu'),\n",
        "        Dense(64, activation='relu'),\n",
        "        Dense(64, activation='relu'),\n",
        "        last_layer\n",
        "    ]\n",
        ")"
      ],
      "execution_count": 43,
      "outputs": []
    },
    {
      "cell_type": "code",
      "metadata": {
        "id": "tfroh3N7ul5q",
        "outputId": "bf20f6b9-9d10-437c-e149-1dc850cada23",
        "colab": {
          "base_uri": "https://localhost:8080/"
        }
      },
      "source": [
        "model = model_full\n",
        "model.summary()"
      ],
      "execution_count": 44,
      "outputs": [
        {
          "output_type": "stream",
          "text": [
            "Model: \"sequential_4\"\n",
            "_________________________________________________________________\n",
            "Layer (type)                 Output Shape              Param #   \n",
            "=================================================================\n",
            "flatten (Flatten)            (None, 9216)              0         \n",
            "_________________________________________________________________\n",
            "dense_39 (Dense)             (None, 64)                589888    \n",
            "_________________________________________________________________\n",
            "dense_40 (Dense)             (None, 64)                4160      \n",
            "_________________________________________________________________\n",
            "dense_41 (Dense)             (None, 64)                4160      \n",
            "_________________________________________________________________\n",
            "dense_42 (Dense)             (None, 64)                4160      \n",
            "_________________________________________________________________\n",
            "dense_43 (Dense)             (None, 128)               8320      \n",
            "_________________________________________________________________\n",
            "dense_44 (Dense)             (None, 128)               16512     \n",
            "_________________________________________________________________\n",
            "dense_45 (Dense)             (None, 128)               16512     \n",
            "_________________________________________________________________\n",
            "dense_46 (Dense)             (None, 128)               16512     \n",
            "_________________________________________________________________\n",
            "dense_47 (Dense)             (None, 128)               16512     \n",
            "_________________________________________________________________\n",
            "dense_48 (Dense)             (None, 64)                8256      \n",
            "_________________________________________________________________\n",
            "dense_49 (Dense)             (None, 64)                4160      \n",
            "_________________________________________________________________\n",
            "dense_50 (Dense)             (None, 64)                4160      \n",
            "_________________________________________________________________\n",
            "dense_51 (Dense)             (None, 64)                4160      \n",
            "_________________________________________________________________\n",
            "dense_52 (Dense)             (None, 64)                4160      \n",
            "_________________________________________________________________\n",
            "dense_21 (Dense)             (None, 2)                 130       \n",
            "=================================================================\n",
            "Total params: 701,762\n",
            "Trainable params: 701,762\n",
            "Non-trainable params: 0\n",
            "_________________________________________________________________\n"
          ],
          "name": "stdout"
        }
      ]
    },
    {
      "cell_type": "code",
      "metadata": {
        "id": "1lYQFW6Yu5bl"
      },
      "source": [
        "# Compile model with accuracy and weighted F1 Score\n",
        "model.compile(loss='categorical_crossentropy', optimizer='adam', metrics=['accuracy', tfa.metrics.F1Score(num_classes=num_classes, average=\"weighted\")])"
      ],
      "execution_count": 45,
      "outputs": []
    },
    {
      "cell_type": "code",
      "metadata": {
        "id": "L9xWWRpkh-q-"
      },
      "source": [
        "# Configure eary stopping\n",
        "callback = tf.keras.callbacks.EarlyStopping(monitor='loss', patience=2)"
      ],
      "execution_count": 49,
      "outputs": []
    },
    {
      "cell_type": "markdown",
      "metadata": {
        "id": "N1XXZxAao0VM"
      },
      "source": [
        "# Initial Model Training"
      ]
    },
    {
      "cell_type": "markdown",
      "metadata": {
        "id": "dWRti59Voxt9"
      },
      "source": [
        "## Initial results without training"
      ]
    },
    {
      "cell_type": "code",
      "metadata": {
        "id": "PSYj6rehowjf",
        "outputId": "e5256f6d-e331-440f-8a41-092cfb191ecf",
        "colab": {
          "base_uri": "https://localhost:8080/"
        }
      },
      "source": [
        "loss0, accuracy0, f1_score0 = model.evaluate(dev_dataset)\n",
        "print(\"initial loss: {:.2f}\".format(loss0))\n",
        "print(\"initial accuracy: {:.2f}\".format(accuracy0))\n",
        "print(\"initial f1_score: {:.2f}\".format(f1_score0))"
      ],
      "execution_count": 46,
      "outputs": [
        {
          "output_type": "stream",
          "text": [
            "167/167 [==============================] - 2s 13ms/step - loss: 1.3550 - accuracy: 0.5001 - f1_score: 0.3334\n",
            "initial loss: 1.36\n",
            "initial accuracy: 0.50\n",
            "initial f1_score: 0.33\n"
          ],
          "name": "stdout"
        }
      ]
    },
    {
      "cell_type": "markdown",
      "metadata": {
        "id": "8UVxlPwYpFf8"
      },
      "source": [
        "## Fit (Initial)"
      ]
    },
    {
      "cell_type": "code",
      "metadata": {
        "id": "jwgESt2qonMy"
      },
      "source": [
        "initial_epochs = 20"
      ],
      "execution_count": 47,
      "outputs": []
    },
    {
      "cell_type": "code",
      "metadata": {
        "id": "1HWov4J3vQCH",
        "outputId": "dd82a9fb-a9d3-40c4-d19f-a265a78f8b14",
        "colab": {
          "base_uri": "https://localhost:8080/"
        }
      },
      "source": [
        "with tf.device('/device:GPU:0'):\n",
        "  history = model.fit(train_dataset,\n",
        "                  epochs=initial_epochs,\n",
        "                  validation_data=dev_dataset,\n",
        "                  )\n",
        "  # model.fit(train_it, epochs=20, batch_size=batchX.shape[0], validation_data=dev_it, validation_batch_size=batchX.shape[0])"
      ],
      "execution_count": 48,
      "outputs": [
        {
          "output_type": "stream",
          "text": [
            "Epoch 1/20\n",
            "1060/1060 [==============================] - 17s 16ms/step - loss: 0.4908 - accuracy: 0.7804 - f1_score: 0.7768 - val_loss: 0.4492 - val_accuracy: 0.7928 - val_f1_score: 0.7928\n",
            "Epoch 2/20\n",
            "1060/1060 [==============================] - 17s 16ms/step - loss: 0.4153 - accuracy: 0.8181 - f1_score: 0.8161 - val_loss: 0.4513 - val_accuracy: 0.7880 - val_f1_score: 0.7844\n",
            "Epoch 3/20\n",
            "1060/1060 [==============================] - 18s 17ms/step - loss: 0.3830 - accuracy: 0.8338 - f1_score: 0.8322 - val_loss: 0.4055 - val_accuracy: 0.8245 - val_f1_score: 0.8233\n",
            "Epoch 4/20\n",
            "1060/1060 [==============================] - 17s 16ms/step - loss: 0.3566 - accuracy: 0.8491 - f1_score: 0.8483 - val_loss: 0.3619 - val_accuracy: 0.8430 - val_f1_score: 0.8429\n",
            "Epoch 5/20\n",
            "1060/1060 [==============================] - 17s 16ms/step - loss: 0.3410 - accuracy: 0.8552 - f1_score: 0.8548 - val_loss: 0.3958 - val_accuracy: 0.8305 - val_f1_score: 0.8295\n",
            "Epoch 6/20\n",
            "1060/1060 [==============================] - 17s 16ms/step - loss: 0.3234 - accuracy: 0.8648 - f1_score: 0.8645 - val_loss: 0.3533 - val_accuracy: 0.8473 - val_f1_score: 0.8473\n",
            "Epoch 7/20\n",
            "1060/1060 [==============================] - 18s 17ms/step - loss: 0.3138 - accuracy: 0.8680 - f1_score: 0.8678 - val_loss: 0.3656 - val_accuracy: 0.8455 - val_f1_score: 0.8449\n",
            "Epoch 8/20\n",
            "1060/1060 [==============================] - 17s 16ms/step - loss: 0.3035 - accuracy: 0.8714 - f1_score: 0.8714 - val_loss: 0.3443 - val_accuracy: 0.8545 - val_f1_score: 0.8544\n",
            "Epoch 9/20\n",
            "1060/1060 [==============================] - 17s 16ms/step - loss: 0.3149 - accuracy: 0.8714 - f1_score: 0.8713 - val_loss: 0.3920 - val_accuracy: 0.8372 - val_f1_score: 0.8370\n",
            "Epoch 10/20\n",
            "1060/1060 [==============================] - 18s 17ms/step - loss: 0.3538 - accuracy: 0.8515 - f1_score: 0.8508 - val_loss: 0.3646 - val_accuracy: 0.8468 - val_f1_score: 0.8467\n",
            "Epoch 11/20\n",
            "1060/1060 [==============================] - 17s 16ms/step - loss: 0.3129 - accuracy: 0.8674 - f1_score: 0.8670 - val_loss: 0.3628 - val_accuracy: 0.8459 - val_f1_score: 0.8454\n",
            "Epoch 12/20\n",
            "1060/1060 [==============================] - 18s 17ms/step - loss: 0.2977 - accuracy: 0.8770 - f1_score: 0.8769 - val_loss: 0.3373 - val_accuracy: 0.8601 - val_f1_score: 0.8600\n",
            "Epoch 13/20\n",
            "1060/1060 [==============================] - 18s 17ms/step - loss: 0.2989 - accuracy: 0.8739 - f1_score: 0.8739 - val_loss: 0.3356 - val_accuracy: 0.8625 - val_f1_score: 0.8625\n",
            "Epoch 14/20\n",
            "1060/1060 [==============================] - 17s 16ms/step - loss: 0.2753 - accuracy: 0.8856 - f1_score: 0.8858 - val_loss: 0.4744 - val_accuracy: 0.8659 - val_f1_score: 0.8659\n",
            "Epoch 15/20\n",
            "1060/1060 [==============================] - 18s 17ms/step - loss: 0.2803 - accuracy: 0.8860 - f1_score: 0.8862 - val_loss: 0.3290 - val_accuracy: 0.8702 - val_f1_score: 0.8702\n",
            "Epoch 16/20\n",
            "1060/1060 [==============================] - 18s 17ms/step - loss: 0.2781 - accuracy: 0.8855 - f1_score: 0.8856 - val_loss: 0.3623 - val_accuracy: 0.8526 - val_f1_score: 0.8520\n",
            "Epoch 17/20\n",
            "1060/1060 [==============================] - 18s 17ms/step - loss: 0.2711 - accuracy: 0.8906 - f1_score: 0.8907 - val_loss: 0.3284 - val_accuracy: 0.8691 - val_f1_score: 0.8691\n",
            "Epoch 18/20\n",
            "1060/1060 [==============================] - 18s 17ms/step - loss: 0.2705 - accuracy: 0.8887 - f1_score: 0.8888 - val_loss: 0.3431 - val_accuracy: 0.8616 - val_f1_score: 0.8615\n",
            "Epoch 19/20\n",
            "1060/1060 [==============================] - 18s 17ms/step - loss: 0.2655 - accuracy: 0.8942 - f1_score: 0.8943 - val_loss: 0.3507 - val_accuracy: 0.8586 - val_f1_score: 0.8585\n",
            "Epoch 20/20\n",
            "1060/1060 [==============================] - 18s 17ms/step - loss: 0.2843 - accuracy: 0.8832 - f1_score: 0.8831 - val_loss: 0.3800 - val_accuracy: 0.8451 - val_f1_score: 0.8448\n"
          ],
          "name": "stdout"
        }
      ]
    },
    {
      "cell_type": "markdown",
      "metadata": {
        "id": "dbAa0XgYpKta"
      },
      "source": [
        "## Learning Plot"
      ]
    },
    {
      "cell_type": "code",
      "metadata": {
        "id": "RuBnzJRdoeeE",
        "outputId": "3fec036d-a83f-49e5-b416-3a973ca60295",
        "colab": {
          "base_uri": "https://localhost:8080/",
          "height": 730
        }
      },
      "source": [
        "acc = history.history['accuracy']\n",
        "val_acc = history.history['val_accuracy']\n",
        "\n",
        "loss = history.history['loss']\n",
        "val_loss = history.history['val_loss']\n",
        "\n",
        "\n",
        "f1_score = history.history['f1_score']\n",
        "val_f1_score = history.history['val_f1_score']\n",
        "\n",
        "plt.figure(figsize=(12, 12))\n",
        "plt.subplot(3, 1, 1)\n",
        "plt.plot(acc, label='Training Accuracy')\n",
        "plt.plot(val_acc, label='Validation Accuracy')\n",
        "plt.legend(loc='lower right')\n",
        "plt.ylabel('Accuracy')\n",
        "plt.ylim([min(plt.ylim()),1])\n",
        "plt.title('Training and Validation Accuracy')\n",
        "\n",
        "plt.subplot(3, 1, 2)\n",
        "plt.plot(loss, label='Training Loss')\n",
        "plt.plot(val_loss, label='Validation Loss')\n",
        "plt.legend(loc='upper right')\n",
        "plt.ylabel('Cross Entropy')\n",
        "plt.ylim([0,1.0])\n",
        "plt.title('Training and Validation Loss')\n",
        "\n",
        "plt.subplot(3, 1, 3)\n",
        "plt.plot(f1_score, label='Training Weighted F1 Score')\n",
        "plt.plot(val_f1_score, label='Validation Weighted F1 Score')\n",
        "plt.legend(loc='upper right')\n",
        "plt.ylabel('Weighted F1 Score')\n",
        "plt.ylim([0,1.0])\n",
        "plt.title('Training and Validation Weighted F1 Score')\n",
        "plt.xlabel('epoch')\n",
        "plt.show()"
      ],
      "execution_count": 50,
      "outputs": [
        {
          "output_type": "display_data",
          "data": {
            "image/png": "[encoded data removed]",
            "text/plain": [
              "<Figure size 864x864 with 3 Axes>"
            ]
          },
          "metadata": {
            "tags": [],
            "needs_background": "light"
          }
        }
      ]
    },
    {
      "cell_type": "markdown",
      "metadata": {
        "id": "WtkTOy_st5M_"
      },
      "source": [
        "# Rounded Weights Evaluation"
      ]
    },
    {
      "cell_type": "code",
      "metadata": {
        "id": "OLS7Xl8QuFNl",
        "outputId": "91553058-c62a-43a5-8a07-340d20b79dfd",
        "colab": {
          "base_uri": "https://localhost:8080/"
        }
      },
      "source": [
        "def modify_weights(weights, transform):\n",
        "  for layer_num, layer_weights in enumerate(weights):\n",
        "    if layer_num == len(weights)-1:\n",
        "      print(f\"=============== Layer {layer_num} ===============\\n\")\n",
        "      print(transform(layer_weights))\n",
        "      print('\\n')\n",
        "\n",
        "def round2(layer_weights):\n",
        "  return np.round_(layer_weights, 2)\n",
        "\n",
        "def closest_pow_2(layer_weights):\n",
        "  return 2**(-np.round_(np.log2(np.absolute(layer_weights))))\n",
        "\n",
        "transform = round2\n",
        "transform = closest_pow_2\n",
        "\n",
        "weights = model.get_weights() # returs a numpy list of weights\n",
        "modify_weights(weights, transform)"
      ],
      "execution_count": null,
      "outputs": [
        {
          "output_type": "stream",
          "text": [
            "=============== Layer 17 ===============\n",
            "\n",
            "[  8. 256.   2.]\n",
            "\n",
            "\n"
          ],
          "name": "stdout"
        }
      ]
    },
    {
      "cell_type": "markdown",
      "metadata": {
        "id": "Nnu_S7EVpVah"
      },
      "source": [
        "# Evaluate on Test Set\n",
        "(COMMENTED until development finished)"
      ]
    },
    {
      "cell_type": "code",
      "metadata": {
        "id": "L3s1IeKlvQbJ"
      },
      "source": [
        "# _, accuracy = model.evaluate(dev_it)\n",
        "# print('Accuracy: %.2f' % (accuracy*100))"
      ],
      "execution_count": null,
      "outputs": []
    },
    {
      "cell_type": "markdown",
      "metadata": {
        "id": "hvxVlJaWphkn"
      },
      "source": [
        "# Convert tf model to tflite"
      ]
    },
    {
      "cell_type": "code",
      "metadata": {
        "id": "udxcPpIMvfHZ"
      },
      "source": [
        "# Convert\n",
        "converter = tf.lite.TFLiteConverter.from_keras_model(model)\n",
        "tflite_model = converter.convert()\n",
        "\n",
        "# Save\n",
        "with open('model.tflite', 'wb') as f:\n",
        "  f.write(tflite_model)"
      ],
      "execution_count": null,
      "outputs": []
    },
    {
      "cell_type": "code",
      "metadata": {
        "id": "ZotM3y0xoniC"
      },
      "source": [
        ""
      ],
      "execution_count": null,
      "outputs": []
    }
  ]
}