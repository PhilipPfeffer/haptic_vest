{
  "nbformat": 4,
  "nbformat_minor": 0,
  "metadata": {
    "colab": {
      "name": "customnn.ipynb",
      "provenance": [],
      "collapsed_sections": [],
      "toc_visible": true,
      "mount_file_id": "https://github.com/PhilipPfeffer/haptic_vest/blob/main/customnn.ipynb",
      "authorship_tag": "ABX9TyPJMZO31QoSHNmIfs2V4sO/",
      "include_colab_link": true
    },
    "kernelspec": {
      "name": "python3",
      "display_name": "Python 3"
    },
    "accelerator": "GPU"
  },
  "cells": [
    {
      "cell_type": "markdown",
      "metadata": {
        "id": "view-in-github",
        "colab_type": "text"
      },
      "source": [
        "<a href=\"https://colab.research.google.com/github/PhilipPfeffer/haptic_vest/blob/main/customnn.ipynb\" target=\"_parent\"><img src=\"https://colab.research.google.com/assets/colab-badge.svg\" alt=\"Open In Colab\"/></a>"
      ]
    },
    {
      "cell_type": "markdown",
      "metadata": {
        "id": "ije_D87Vqtrc"
      },
      "source": [
        "# Custom Neural Net"
      ]
    },
    {
      "cell_type": "code",
      "metadata": {
        "id": "OHs0134ZuStT"
      },
      "source": [
        "from numpy import loadtxt\n",
        "import numpy as np\n",
        "import os\n",
        "import shutil\n",
        "import math\n",
        "import zipfile\n",
        "import matplotlib.pyplot as plt\n",
        "\n",
        "import keras\n",
        "from keras import layers\n",
        "from keras.models import Sequential\n",
        "from keras.layers import Dense\n",
        "import tensorflow as tf\n",
        "from tensorflow.keras.preprocessing import image_dataset_from_directory\n",
        "from keras.preprocessing.image import ImageDataGenerator\n",
        "from keras.optimizers import Optimizer\n",
        "from keras import backend as K\n",
        "\n",
        "import sklearn \n",
        "from sklearn import metrics\n",
        "import tensorflow_addons as tfa"
      ],
      "execution_count": 2,
      "outputs": []
    },
    {
      "cell_type": "markdown",
      "metadata": {
        "id": "ogyQ9uDVoZEJ"
      },
      "source": [
        "# GPU Setup"
      ]
    },
    {
      "cell_type": "code",
      "metadata": {
        "id": "4T8XMwMzoZzp",
        "colab": {
          "base_uri": "https://localhost:8080/"
        },
        "outputId": "9b2be440-9bd2-4207-a112-c00d1153bdc5"
      },
      "source": [
        "device_name = tf.test.gpu_device_name()\n",
        "if device_name != '/device:GPU:0':\n",
        "  raise SystemError('GPU device not found')\n",
        "print('Found GPU at: {}'.format(device_name))"
      ],
      "execution_count": 3,
      "outputs": [
        {
          "output_type": "stream",
          "text": [
            "Found GPU at: /device:GPU:0\n"
          ],
          "name": "stdout"
        }
      ]
    },
    {
      "cell_type": "markdown",
      "metadata": {
        "id": "K4DHtJvrmtFU"
      },
      "source": [
        "#Unzip Dataset"
      ]
    },
    {
      "cell_type": "code",
      "metadata": {
        "id": "6gHBs-bRmsYL"
      },
      "source": [
        "dataset_name = 'dataset_binary'\n",
        "zip_file_path = '/content/' + dataset_name + '.zip'\n",
        "unzipped_dir = '/content'\n",
        "dataset_X = '/content/' + dataset_name\n",
        "with zipfile.ZipFile(zip_file_path, 'r') as zip_ref:\n",
        "    zip_ref.extractall(unzipped_dir)"
      ],
      "execution_count": 15,
      "outputs": []
    },
    {
      "cell_type": "markdown",
      "metadata": {
        "id": "caM9YoCRm76r"
      },
      "source": [
        "#Create Dataloader"
      ]
    },
    {
      "cell_type": "code",
      "metadata": {
        "id": "Un_mmbtym9vl",
        "colab": {
          "base_uri": "https://localhost:8080/"
        },
        "outputId": "f9a3cdfa-3466-406f-c326-13cb25d44ef6"
      },
      "source": [
        "BATCH_SIZE = 32\n",
        "ORIG_IMG_SIZE = (96, 96)\n",
        "ORIG_COLOR_MODE ='grayscale'\n",
        "IMG_SIZE = (96, 96)\n",
        "COLOR_MODE = 'grayscale'\n",
        "LABEL_MODE='categorical'\n",
        "\n",
        "train_dataset = image_dataset_from_directory(dataset_X +'/train/', label_mode=LABEL_MODE, shuffle=True, batch_size=BATCH_SIZE, image_size=IMG_SIZE, color_mode=COLOR_MODE)\n",
        "dev_dataset = image_dataset_from_directory(dataset_X +'/dev/', label_mode=LABEL_MODE, shuffle=True, batch_size=BATCH_SIZE, image_size=IMG_SIZE, color_mode=COLOR_MODE)\n",
        "test_dataset = image_dataset_from_directory(dataset_X +'/test/', label_mode=LABEL_MODE, shuffle=True, batch_size=BATCH_SIZE, image_size=IMG_SIZE, color_mode=COLOR_MODE)"
      ],
      "execution_count": 16,
      "outputs": [
        {
          "output_type": "stream",
          "text": [
            "Found 33915 files belonging to 2 classes.\n",
            "Found 5339 files belonging to 2 classes.\n",
            "Found 2819 files belonging to 2 classes.\n"
          ],
          "name": "stdout"
        }
      ]
    },
    {
      "cell_type": "code",
      "metadata": {
        "id": "HmVE18dJnBrV"
      },
      "source": [
        "def show_example(train_dataset):\n",
        "  for image, _ in train_dataset.take(1):\n",
        "    plt.figure(figsize=(10, 10))\n",
        "    first_image = np.asarray(image[0]).squeeze()\n",
        "    print(first_image.shape)\n",
        "    # for i in range(9):\n",
        "    #   ax = plt.subplot(3, 3, i + 1)\n",
        "      # augmented_image = data_augmentation(tf.expand_dims(first_image, 0))\n",
        "      # plt.imshow(augmented_image[0] / 255)\n",
        "    # print(image)\n",
        "    plt.gray()\n",
        "    plt.imshow(first_image / 255, plt.get_cmap('gray'))\n",
        "    plt.axis('off')\n",
        "    \n",
        "    break \n",
        "\n",
        "# Run with this line:\n",
        "# show_example(train_dataset)"
      ],
      "execution_count": 17,
      "outputs": []
    },
    {
      "cell_type": "code",
      "metadata": {
        "id": "HTsjG5AvnrwH"
      },
      "source": [
        "AUTOTUNE = tf.data.experimental.AUTOTUNE\n",
        "\n",
        "train_dataset = train_dataset.prefetch(buffer_size=AUTOTUNE)\n",
        "dev_dataset = dev_dataset.prefetch(buffer_size=AUTOTUNE)\n",
        "test_dataset = test_dataset.prefetch(buffer_size=AUTOTUNE)"
      ],
      "execution_count": 18,
      "outputs": []
    },
    {
      "cell_type": "markdown",
      "metadata": {
        "id": "EROvyAkioJI0"
      },
      "source": [
        "# Fully Connected Model"
      ]
    },
    {
      "cell_type": "code",
      "metadata": {
        "id": "TD-GVMnBe79j"
      },
      "source": [
        "num_classes = 2\n",
        "\n",
        "# last_layer = Dense(2, activation='softmax', name='15', kernel_initializer=\"glorot_uniform\") if num_classes == 2 else Dense(3, activation='softmax')"
      ],
      "execution_count": 19,
      "outputs": []
    },
    {
      "cell_type": "code",
      "metadata": {
        "id": "WoIAhwUleeRp"
      },
      "source": [
        "\n",
        "# model_cnn = keras.Sequential(\n",
        "#     [\n",
        "#         keras.Input(shape=(IMG_SIZE[0],IMG_SIZE[1], 1)),  # 96x96 greyscale image\n",
        "#         layers.Conv2D(filters=8, kernel_size=3, strides=1, padding='same', activation=\"relu\"),\n",
        "#         layers.Conv2D(filters=16, kernel_size=3, strides=1, padding='same', activation=\"relu\"),\n",
        "#         layers.Conv2D(filters=16, kernel_size=3, strides=1, padding='same', activation=\"relu\"),\n",
        "#         layers.MaxPool2D(),\n",
        "#         layers.Conv2D(filters=32, kernel_size=3, strides=2, padding='same', activation=\"relu\"),        # layers.MaxPool2D(),\n",
        "#         layers.Conv2D(filters=64, kernel_size=3, strides=2, padding='same', activation=\"relu\"),\n",
        "#         layers.MaxPool2D(),\n",
        "#         layers.Flatten(name='flatten'),\n",
        "#         Dense(100, activation='relu'),\n",
        "#         Dense(100, activation='relu'),\n",
        "#         Dense(64, activation='relu'),\n",
        "#         last_layer  \n",
        "#     ]\n",
        "# )"
      ],
      "execution_count": 22,
      "outputs": []
    },
    {
      "cell_type": "code",
      "metadata": {
        "id": "C6XeMvoAefbM"
      },
      "source": [
        "# initializer = \"glorot_uniform\" #tf.keras.initializers.RandomNormal(mean=0., stddev=1.)\n",
        "model_full = keras.Sequential(\n",
        "    [\n",
        "        keras.Input(shape=(IMG_SIZE[0],IMG_SIZE[1], 1)),  # 96x96 greyscale image\n",
        "        layers.Flatten(name='flatten'),\n",
        "        Dense(64, activation='relu', name='1'), #, kernel_initializer=initializer),\n",
        "        Dense(64, activation='relu', name='2'), #, kernel_initializer=initializer),\n",
        "        Dense(64, activation='relu', name='3'), #, kernel_initializer=initializer),\n",
        "        Dense(64, activation='relu', name='4'), #, kernel_initializer=initializer),\n",
        "        Dense(128, activation='relu', name='5'), #, kernel_initializer=initializer),\n",
        "        Dense(128, activation='relu', name='6'), #, kernel_initializer=initializer),\n",
        "        Dense(128, activation='relu', name='7'), #, kernel_initializer=initializer),\n",
        "        Dense(128, activation='relu', name='8'), #, kernel_initializer=initializer),\n",
        "        Dense(128, activation='relu', name='9'), #, kernel_initializer=initializer),\n",
        "        Dense(64, activation='relu', name='10'), #, kernel_initializer=initializer),\n",
        "        Dense(64, activation='relu', name='11'), #, kernel_initializer=initializer),\n",
        "        Dense(64, activation='relu', name='12'), #, kernel_initializer=initializer),\n",
        "        Dense(64, activation='relu', name='13'), #, kernel_initializer=initializer),\n",
        "        Dense(64, activation='relu', name='14'), #, kernel_initializer=initializer),\n",
        "        Dense(2, activation='softmax', name='15'), #, kernel_initializer=initializer)\n",
        "        # Dense(1, activation='sigmoid', name='15', kernel_initializer=initializer)\n",
        "    ]\n",
        ")"
      ],
      "execution_count": 152,
      "outputs": []
    },
    {
      "cell_type": "code",
      "metadata": {
        "id": "tfroh3N7ul5q"
      },
      "source": [
        "model = model_full\n",
        "# model.summary()"
      ],
      "execution_count": 153,
      "outputs": []
    },
    {
      "cell_type": "code",
      "metadata": {
        "id": "0Y6semJ_oLRZ"
      },
      "source": [
        "def f1_score(num_classes):\n",
        "  return tfa.metrics.F1Score(num_classes=num_classes, average=\"weighted\")"
      ],
      "execution_count": 154,
      "outputs": []
    },
    {
      "cell_type": "markdown",
      "metadata": {
        "id": "lvnyPsCFJStn"
      },
      "source": [
        "# Standard Optimizer"
      ]
    },
    {
      "cell_type": "code",
      "metadata": {
        "id": "1lYQFW6Yu5bl"
      },
      "source": [
        "# Compile model with accuracy and weighted F1 Score\n",
        "# model.compile(loss='categorical_crossentropy', optimizer='adam', metrics=['accuracy', f1_score(num_classes)])"
      ],
      "execution_count": 155,
      "outputs": []
    },
    {
      "cell_type": "markdown",
      "metadata": {
        "id": "VO1i8mf_CTnx"
      },
      "source": [
        "# Custom Optimizer\n",
        "Implements model with power of two weights."
      ]
    },
    {
      "cell_type": "code",
      "metadata": {
        "id": "V8LSi40TGWPe",
        "outputId": "f8836c0b-3d76-4b1f-9bd3-7efe127be0d9",
        "colab": {
          "base_uri": "https://localhost:8080/"
        }
      },
      "source": [
        "# def closestpow2numpy(num):\n",
        "#   return np.sign(num)*np.array(np.power(2, np.round(np.log(np.round(np.absolute(num)))/np.log(2))), dtype=int)\n",
        "\n",
        "# print(closestpow2numpy([0, 1, 2, 3, 4, 6.1, 32, 1.29, 1.5, 0.001]))\n",
        "# print(closestpow2numpy(-1*np.array([0, 1, 2, 3, 4, 6.1, 32, 1.29, 1.5, 0.001])))\n",
        "\n",
        "\n",
        "# def intsnumpy(num):\n",
        "#   return np.round_(np.clip(16*(num - np.mean(num)) / np.sqrt(np.var(num)), -16.,16))\n",
        "\n",
        "# print(intsnumpy([0, 1, 2, 3, 4, 6.1, 32, 1.29, 1.5, 0.001]))\n",
        "# print(intsnumpy(-1*np.array([0, 1, 2, 3, 4, 6.1, 32, 1.29, 1.5, 0.001])))\n",
        "\n",
        "def closestpow2fixedptnumpy(num):\n",
        "  return np.sign(num)*np.array(np.power(2, np.round(np.log(np.absolute(num))/np.log(2))), dtype=float)\n",
        "\n",
        "print(closestpow2fixedptnumpy(np.array([0.0012, 0.23, 0.53, 0.38, 0.75, 0.127])))\n",
        "print(closestpow2fixedptnumpy(-1*np.array([0.0012, 0.23, 0.53, 0.38, 0.75, 0.127])))\n"
      ],
      "execution_count": 156,
      "outputs": [
        {
          "output_type": "stream",
          "text": [
            "[9.765625e-04 2.500000e-01 5.000000e-01 5.000000e-01 1.000000e+00\n",
            " 1.250000e-01]\n",
            "[-9.765625e-04 -2.500000e-01 -5.000000e-01 -5.000000e-01 -1.000000e+00\n",
            " -1.250000e-01]\n"
          ],
          "name": "stdout"
        }
      ]
    },
    {
      "cell_type": "code",
      "metadata": {
        "id": "yz7dxVpNLI9i"
      },
      "source": [
        "# def closestpow2(num):\n",
        "#   return K.cast(K.sign(num)*K.pow(2, K.round(K.log(K.abs(num))/K.log(2))), dtype='float32')\n",
        "def closestpow2(num):\n",
        "  return K.cast(K.sign(num)*K.pow(2.0, K.round(K.log(K.abs(num))/K.log(2.0))), dtype='float32')\n",
        "\n",
        "# def ints(num):\n",
        "#   return K.round(K.clip(16*(num - K.mean(num)) / K.sqrt(K.var(num)), -16.,16))\n",
        "\n"
      ],
      "execution_count": 157,
      "outputs": []
    },
    {
      "cell_type": "code",
      "metadata": {
        "id": "4ZurY0rHCfHP"
      },
      "source": [
        "class Pow2Update(Optimizer):\n",
        "  def __init__(self, learning_rate=0.001, name=\"Pow2Update\", **kwargs):\n",
        "    super(Pow2Update, self).__init__(name, **kwargs)\n",
        "    # self.lr = lr\n",
        "    self._set_hyper(\"learning_rate\", kwargs.get(\"lr\", learning_rate))\n",
        "\n",
        "  # def _create_slots(self, var_list):\n",
        "    # for var in var_list:\n",
        "\n",
        "  # def closestpow2(num):\n",
        "  #   return K.cast(K.sign(num)*K.pow(2.0, K.round(K.log(K.abs(num))/K.log(2.0))), dtype='float32')\n",
        "\n",
        "  @tf.function\n",
        "  def _resource_apply_dense(self, grad, var):\n",
        "    var_device, var_dtype = var.device, var.dtype.base_dtype\n",
        "    lr_t = self._decayed_lr(var_dtype)\n",
        "    # lr_t, kwargs = self._get_lr(var.device, var.dtype.base_dtype, apply_state\n",
        "\n",
        "    # var.assign(var - lr_t*grad)\n",
        "    var.assign(closestpow2(var - lr_t*grad))\n",
        "    # var.assign(closestpow2(var - closestpow2(lr_t*grad)))\n",
        "    # var.assign(K.clip(var - lr_t*grad, -16, 16))\n",
        "    \n",
        "    # mean = K.mean(var)\n",
        "    # stddev = K.sqrt(K.var(var))\n",
        "    # shifted_var = (var - mean) / stddev\n",
        "    # var.assign(K.round(K.clip(shifted_var, -16.,16)))\n",
        "    \n",
        "    # return K.cast(K.sign(grad)*K.pow(2.0, K.round(K.log(K.abs(grad))/K.log(2.0))), dtype='float32')\n",
        "  \n",
        "  def _resource_apply_sparse(self, grad, var):\n",
        "        raise NotImplementedError\n",
        "\n",
        "  def get_config(self):\n",
        "      base_config = super().get_config()\n",
        "      return {\n",
        "          **base_config,\n",
        "          \"learning_rate\": self._serialize_hyperparameter(\"learning_rate\"),\n",
        "          # \"pow2\": closestpow2(-0.51),\n",
        "      }\n"
      ],
      "execution_count": 158,
      "outputs": []
    },
    {
      "cell_type": "code",
      "metadata": {
        "id": "XX7R-1yCPzzE",
        "outputId": "fa99b8cf-2a5d-4877-995e-b67ae3433008",
        "colab": {
          "base_uri": "https://localhost:8080/"
        }
      },
      "source": [
        "po = Pow2Update()\n",
        "\n",
        "po.get_config()"
      ],
      "execution_count": 159,
      "outputs": [
        {
          "output_type": "execute_result",
          "data": {
            "text/plain": [
              "{'learning_rate': 0.001, 'name': 'Pow2Update'}"
            ]
          },
          "metadata": {
            "tags": []
          },
          "execution_count": 159
        }
      ]
    },
    {
      "cell_type": "code",
      "metadata": {
        "id": "A6k_eSsTWeX2",
        "outputId": "a95416dd-afb7-414b-b4dd-58ca0a7bc174",
        "colab": {
          "base_uri": "https://localhost:8080/"
        }
      },
      "source": [
        "K.clear_session()\n",
        "model.get_weights()"
      ],
      "execution_count": 160,
      "outputs": [
        {
          "output_type": "execute_result",
          "data": {
            "text/plain": [
              "[array([[-0.01445325, -0.00731609, -0.00055201, ...,  0.00496222,\n",
              "         -0.01656716,  0.02048134],\n",
              "        [ 0.01268787,  0.00143631,  0.00374478, ...,  0.01151188,\n",
              "         -0.00303318, -0.00163359],\n",
              "        [ 0.00757879, -0.02031858, -0.02117635, ..., -0.01967565,\n",
              "         -0.01079816, -0.00061337],\n",
              "        ...,\n",
              "        [ 0.01953373, -0.01447495,  0.02175396, ..., -0.00531799,\n",
              "          0.02042342,  0.00152987],\n",
              "        [-0.01123894, -0.0141051 ,  0.00757018, ...,  0.00177073,\n",
              "          0.01161261, -0.00270278],\n",
              "        [-0.02378686,  0.01414044,  0.0157065 , ...,  0.02522392,\n",
              "          0.01269331,  0.02362107]], dtype=float32),\n",
              " array([0., 0., 0., 0., 0., 0., 0., 0., 0., 0., 0., 0., 0., 0., 0., 0., 0.,\n",
              "        0., 0., 0., 0., 0., 0., 0., 0., 0., 0., 0., 0., 0., 0., 0., 0., 0.,\n",
              "        0., 0., 0., 0., 0., 0., 0., 0., 0., 0., 0., 0., 0., 0., 0., 0., 0.,\n",
              "        0., 0., 0., 0., 0., 0., 0., 0., 0., 0., 0., 0., 0.], dtype=float32),\n",
              " array([[ 0.01587273, -0.11919029,  0.08053617, ...,  0.05020265,\n",
              "         -0.19451866,  0.1143081 ],\n",
              "        [ 0.02697678, -0.03164449, -0.1225381 , ..., -0.18122709,\n",
              "          0.00817853,  0.13251449],\n",
              "        [-0.16846979,  0.1594735 ,  0.11822368, ...,  0.09281926,\n",
              "         -0.06688695, -0.09507718],\n",
              "        ...,\n",
              "        [ 0.11374839,  0.11306088,  0.06018259, ...,  0.10447083,\n",
              "         -0.14631909, -0.09469195],\n",
              "        [ 0.1852317 ,  0.11936899,  0.11831771, ..., -0.09318457,\n",
              "         -0.0982547 ,  0.10883974],\n",
              "        [ 0.15519948,  0.02029324, -0.01431166, ...,  0.1360205 ,\n",
              "         -0.0258906 , -0.10386023]], dtype=float32),\n",
              " array([0., 0., 0., 0., 0., 0., 0., 0., 0., 0., 0., 0., 0., 0., 0., 0., 0.,\n",
              "        0., 0., 0., 0., 0., 0., 0., 0., 0., 0., 0., 0., 0., 0., 0., 0., 0.,\n",
              "        0., 0., 0., 0., 0., 0., 0., 0., 0., 0., 0., 0., 0., 0., 0., 0., 0.,\n",
              "        0., 0., 0., 0., 0., 0., 0., 0., 0., 0., 0., 0., 0.], dtype=float32),\n",
              " array([[ 0.05329986, -0.00377816, -0.0683603 , ..., -0.04365399,\n",
              "         -0.158732  , -0.11571673],\n",
              "        [ 0.01834317, -0.05085497, -0.1847869 , ...,  0.2052751 ,\n",
              "         -0.15853852,  0.13600348],\n",
              "        [ 0.02274942,  0.16457142,  0.11573543, ..., -0.21255888,\n",
              "          0.08707647, -0.1262875 ],\n",
              "        ...,\n",
              "        [ 0.12226556,  0.18249719, -0.03078426, ..., -0.1314951 ,\n",
              "          0.17803653,  0.07933597],\n",
              "        [ 0.1634184 ,  0.15650184,  0.07221843, ...,  0.1070428 ,\n",
              "          0.03387211, -0.134278  ],\n",
              "        [-0.21511929,  0.05592529, -0.13540654, ...,  0.03381617,\n",
              "         -0.05057313,  0.08429648]], dtype=float32),\n",
              " array([0., 0., 0., 0., 0., 0., 0., 0., 0., 0., 0., 0., 0., 0., 0., 0., 0.,\n",
              "        0., 0., 0., 0., 0., 0., 0., 0., 0., 0., 0., 0., 0., 0., 0., 0., 0.,\n",
              "        0., 0., 0., 0., 0., 0., 0., 0., 0., 0., 0., 0., 0., 0., 0., 0., 0.,\n",
              "        0., 0., 0., 0., 0., 0., 0., 0., 0., 0., 0., 0., 0.], dtype=float32),\n",
              " array([[-0.1860429 , -0.20132686, -0.00265838, ...,  0.04082434,\n",
              "         -0.18612932, -0.03008781],\n",
              "        [-0.05421227,  0.10260861, -0.1764788 , ...,  0.2046433 ,\n",
              "          0.20856135,  0.09811457],\n",
              "        [ 0.15121473, -0.1220648 , -0.18127015, ..., -0.01742476,\n",
              "          0.03310113, -0.055842  ],\n",
              "        ...,\n",
              "        [ 0.16089039,  0.09512101, -0.02046306, ...,  0.15452693,\n",
              "         -0.00579317,  0.13396667],\n",
              "        [-0.09507264,  0.02296706,  0.03741483, ...,  0.17901267,\n",
              "          0.06419979,  0.07466759],\n",
              "        [ 0.10787429,  0.07885195, -0.13002639, ..., -0.16281965,\n",
              "         -0.20483133,  0.10153969]], dtype=float32),\n",
              " array([0., 0., 0., 0., 0., 0., 0., 0., 0., 0., 0., 0., 0., 0., 0., 0., 0.,\n",
              "        0., 0., 0., 0., 0., 0., 0., 0., 0., 0., 0., 0., 0., 0., 0., 0., 0.,\n",
              "        0., 0., 0., 0., 0., 0., 0., 0., 0., 0., 0., 0., 0., 0., 0., 0., 0.,\n",
              "        0., 0., 0., 0., 0., 0., 0., 0., 0., 0., 0., 0., 0.], dtype=float32),\n",
              " array([[ 0.1501875 ,  0.1346365 , -0.08849013, ...,  0.1720498 ,\n",
              "          0.11284859, -0.14898185],\n",
              "        [-0.00652623,  0.13713692, -0.12112287, ..., -0.03077495,\n",
              "         -0.17264208,  0.07496665],\n",
              "        [-0.13876723,  0.10969146,  0.02736422, ...,  0.01172799,\n",
              "          0.14439033, -0.0748579 ],\n",
              "        ...,\n",
              "        [ 0.1261778 , -0.09736031,  0.03888717, ...,  0.03654696,\n",
              "         -0.07522277, -0.0020064 ],\n",
              "        [-0.06583899,  0.01722947, -0.04559349, ...,  0.08505873,\n",
              "          0.01442835,  0.01217702],\n",
              "        [ 0.05542976, -0.12219892, -0.08227655, ...,  0.13648902,\n",
              "          0.03526039, -0.0345833 ]], dtype=float32),\n",
              " array([0., 0., 0., 0., 0., 0., 0., 0., 0., 0., 0., 0., 0., 0., 0., 0., 0.,\n",
              "        0., 0., 0., 0., 0., 0., 0., 0., 0., 0., 0., 0., 0., 0., 0., 0., 0.,\n",
              "        0., 0., 0., 0., 0., 0., 0., 0., 0., 0., 0., 0., 0., 0., 0., 0., 0.,\n",
              "        0., 0., 0., 0., 0., 0., 0., 0., 0., 0., 0., 0., 0., 0., 0., 0., 0.,\n",
              "        0., 0., 0., 0., 0., 0., 0., 0., 0., 0., 0., 0., 0., 0., 0., 0., 0.,\n",
              "        0., 0., 0., 0., 0., 0., 0., 0., 0., 0., 0., 0., 0., 0., 0., 0., 0.,\n",
              "        0., 0., 0., 0., 0., 0., 0., 0., 0., 0., 0., 0., 0., 0., 0., 0., 0.,\n",
              "        0., 0., 0., 0., 0., 0., 0., 0., 0.], dtype=float32),\n",
              " array([[ 0.13523982,  0.03047715,  0.13274585, ...,  0.03353719,\n",
              "         -0.09627483,  0.07478473],\n",
              "        [ 0.11604045,  0.01926637,  0.10294037, ...,  0.11046942,\n",
              "         -0.12411017, -0.02130702],\n",
              "        [ 0.13816498,  0.01092102,  0.02844168, ...,  0.15180473,\n",
              "         -0.04068317, -0.0443198 ],\n",
              "        ...,\n",
              "        [-0.01083535, -0.08711582, -0.08362527, ...,  0.04487759,\n",
              "         -0.11268662, -0.10465773],\n",
              "        [ 0.02054343,  0.12625481, -0.0265464 , ...,  0.03424636,\n",
              "          0.11608626, -0.08163487],\n",
              "        [-0.12477557, -0.07551159, -0.01260787, ..., -0.11300581,\n",
              "         -0.14968987,  0.01188549]], dtype=float32),\n",
              " array([0., 0., 0., 0., 0., 0., 0., 0., 0., 0., 0., 0., 0., 0., 0., 0., 0.,\n",
              "        0., 0., 0., 0., 0., 0., 0., 0., 0., 0., 0., 0., 0., 0., 0., 0., 0.,\n",
              "        0., 0., 0., 0., 0., 0., 0., 0., 0., 0., 0., 0., 0., 0., 0., 0., 0.,\n",
              "        0., 0., 0., 0., 0., 0., 0., 0., 0., 0., 0., 0., 0., 0., 0., 0., 0.,\n",
              "        0., 0., 0., 0., 0., 0., 0., 0., 0., 0., 0., 0., 0., 0., 0., 0., 0.,\n",
              "        0., 0., 0., 0., 0., 0., 0., 0., 0., 0., 0., 0., 0., 0., 0., 0., 0.,\n",
              "        0., 0., 0., 0., 0., 0., 0., 0., 0., 0., 0., 0., 0., 0., 0., 0., 0.,\n",
              "        0., 0., 0., 0., 0., 0., 0., 0., 0.], dtype=float32),\n",
              " array([[-0.07045416, -0.06436244, -0.14617713, ..., -0.1402512 ,\n",
              "         -0.14290597, -0.12472209],\n",
              "        [ 0.05439211, -0.08680904, -0.08269703, ...,  0.1529615 ,\n",
              "         -0.10723136, -0.02579173],\n",
              "        [-0.09666906,  0.0296448 , -0.00639755, ...,  0.05178392,\n",
              "         -0.06152569,  0.03518887],\n",
              "        ...,\n",
              "        [-0.04544473,  0.03239235,  0.07285827, ..., -0.07383922,\n",
              "         -0.13992299,  0.13395865],\n",
              "        [-0.07086971, -0.01887614,  0.10066675, ..., -0.05315381,\n",
              "          0.11255591,  0.08246094],\n",
              "        [ 0.14534728,  0.02028285,  0.05430821, ..., -0.10082316,\n",
              "          0.10703276, -0.0975319 ]], dtype=float32),\n",
              " array([0., 0., 0., 0., 0., 0., 0., 0., 0., 0., 0., 0., 0., 0., 0., 0., 0.,\n",
              "        0., 0., 0., 0., 0., 0., 0., 0., 0., 0., 0., 0., 0., 0., 0., 0., 0.,\n",
              "        0., 0., 0., 0., 0., 0., 0., 0., 0., 0., 0., 0., 0., 0., 0., 0., 0.,\n",
              "        0., 0., 0., 0., 0., 0., 0., 0., 0., 0., 0., 0., 0., 0., 0., 0., 0.,\n",
              "        0., 0., 0., 0., 0., 0., 0., 0., 0., 0., 0., 0., 0., 0., 0., 0., 0.,\n",
              "        0., 0., 0., 0., 0., 0., 0., 0., 0., 0., 0., 0., 0., 0., 0., 0., 0.,\n",
              "        0., 0., 0., 0., 0., 0., 0., 0., 0., 0., 0., 0., 0., 0., 0., 0., 0.,\n",
              "        0., 0., 0., 0., 0., 0., 0., 0., 0.], dtype=float32),\n",
              " array([[-0.07622094, -0.01030216, -0.11858071, ...,  0.10989527,\n",
              "          0.12330203, -0.01680347],\n",
              "        [-0.11164618,  0.06254974, -0.07486747, ..., -0.02212758,\n",
              "         -0.08907081, -0.05804773],\n",
              "        [-0.12052453,  0.12610652,  0.0099681 , ..., -0.01435249,\n",
              "         -0.09653804, -0.01020317],\n",
              "        ...,\n",
              "        [ 0.11293058,  0.08085184, -0.02070557, ...,  0.12971015,\n",
              "         -0.15140432,  0.08057666],\n",
              "        [-0.03428563, -0.07831477, -0.02608563, ...,  0.11557795,\n",
              "         -0.09222334,  0.11647381],\n",
              "        [ 0.03999321,  0.13736735,  0.00443408, ...,  0.12061016,\n",
              "         -0.10920734, -0.10830823]], dtype=float32),\n",
              " array([0., 0., 0., 0., 0., 0., 0., 0., 0., 0., 0., 0., 0., 0., 0., 0., 0.,\n",
              "        0., 0., 0., 0., 0., 0., 0., 0., 0., 0., 0., 0., 0., 0., 0., 0., 0.,\n",
              "        0., 0., 0., 0., 0., 0., 0., 0., 0., 0., 0., 0., 0., 0., 0., 0., 0.,\n",
              "        0., 0., 0., 0., 0., 0., 0., 0., 0., 0., 0., 0., 0., 0., 0., 0., 0.,\n",
              "        0., 0., 0., 0., 0., 0., 0., 0., 0., 0., 0., 0., 0., 0., 0., 0., 0.,\n",
              "        0., 0., 0., 0., 0., 0., 0., 0., 0., 0., 0., 0., 0., 0., 0., 0., 0.,\n",
              "        0., 0., 0., 0., 0., 0., 0., 0., 0., 0., 0., 0., 0., 0., 0., 0., 0.,\n",
              "        0., 0., 0., 0., 0., 0., 0., 0., 0.], dtype=float32),\n",
              " array([[-0.0334651 ,  0.05736057,  0.05974229, ...,  0.09159324,\n",
              "         -0.11704437,  0.07833003],\n",
              "        [ 0.10129152,  0.1481687 ,  0.12061115, ..., -0.07674501,\n",
              "         -0.01822177, -0.06047959],\n",
              "        [-0.13561107,  0.10424177, -0.04059926, ...,  0.13046603,\n",
              "         -0.13823456,  0.1362698 ],\n",
              "        ...,\n",
              "        [-0.10037136,  0.09004501, -0.05576149, ...,  0.08308843,\n",
              "          0.10447161, -0.06424386],\n",
              "        [-0.12039313,  0.14361246,  0.12967657, ..., -0.10955887,\n",
              "         -0.04831267,  0.05899206],\n",
              "        [-0.05591096,  0.01802079, -0.12921892, ..., -0.03403706,\n",
              "          0.03729424, -0.05022495]], dtype=float32),\n",
              " array([0., 0., 0., 0., 0., 0., 0., 0., 0., 0., 0., 0., 0., 0., 0., 0., 0.,\n",
              "        0., 0., 0., 0., 0., 0., 0., 0., 0., 0., 0., 0., 0., 0., 0., 0., 0.,\n",
              "        0., 0., 0., 0., 0., 0., 0., 0., 0., 0., 0., 0., 0., 0., 0., 0., 0.,\n",
              "        0., 0., 0., 0., 0., 0., 0., 0., 0., 0., 0., 0., 0., 0., 0., 0., 0.,\n",
              "        0., 0., 0., 0., 0., 0., 0., 0., 0., 0., 0., 0., 0., 0., 0., 0., 0.,\n",
              "        0., 0., 0., 0., 0., 0., 0., 0., 0., 0., 0., 0., 0., 0., 0., 0., 0.,\n",
              "        0., 0., 0., 0., 0., 0., 0., 0., 0., 0., 0., 0., 0., 0., 0., 0., 0.,\n",
              "        0., 0., 0., 0., 0., 0., 0., 0., 0.], dtype=float32),\n",
              " array([[ 0.13735305, -0.01205939, -0.06722987, ..., -0.13858342,\n",
              "          0.12265809,  0.09756418],\n",
              "        [-0.0659414 , -0.00318448,  0.09576549, ...,  0.00907375,\n",
              "          0.01421529,  0.00986207],\n",
              "        [ 0.08014978,  0.05434816,  0.00470333, ..., -0.09823865,\n",
              "         -0.04804838,  0.11382918],\n",
              "        ...,\n",
              "        [-0.05916368, -0.08613041, -0.03915602, ...,  0.15664645,\n",
              "          0.09074093,  0.07823636],\n",
              "        [ 0.048977  , -0.03707401,  0.07195149, ..., -0.03570643,\n",
              "         -0.0305233 ,  0.17502634],\n",
              "        [-0.09117438, -0.07366081, -0.15858902, ...,  0.01515538,\n",
              "         -0.05649793, -0.0491447 ]], dtype=float32),\n",
              " array([0., 0., 0., 0., 0., 0., 0., 0., 0., 0., 0., 0., 0., 0., 0., 0., 0.,\n",
              "        0., 0., 0., 0., 0., 0., 0., 0., 0., 0., 0., 0., 0., 0., 0., 0., 0.,\n",
              "        0., 0., 0., 0., 0., 0., 0., 0., 0., 0., 0., 0., 0., 0., 0., 0., 0.,\n",
              "        0., 0., 0., 0., 0., 0., 0., 0., 0., 0., 0., 0., 0.], dtype=float32),\n",
              " array([[ 0.13097607,  0.18841712, -0.12027527, ...,  0.04762088,\n",
              "          0.00179495,  0.11821081],\n",
              "        [-0.19385758, -0.1666629 , -0.05359635, ...,  0.08242838,\n",
              "         -0.12315794, -0.04388726],\n",
              "        [ 0.12142931, -0.1369595 , -0.026737  , ..., -0.18368489,\n",
              "         -0.19761628, -0.00439852],\n",
              "        ...,\n",
              "        [-0.12888369,  0.10871707, -0.19684885, ..., -0.09883273,\n",
              "         -0.01137711,  0.06612132],\n",
              "        [-0.17565982, -0.2102449 ,  0.01886602, ..., -0.11729726,\n",
              "         -0.08906417, -0.11440509],\n",
              "        [-0.15226138,  0.04000627, -0.06078885, ..., -0.145792  ,\n",
              "          0.03664742, -0.1436894 ]], dtype=float32),\n",
              " array([0., 0., 0., 0., 0., 0., 0., 0., 0., 0., 0., 0., 0., 0., 0., 0., 0.,\n",
              "        0., 0., 0., 0., 0., 0., 0., 0., 0., 0., 0., 0., 0., 0., 0., 0., 0.,\n",
              "        0., 0., 0., 0., 0., 0., 0., 0., 0., 0., 0., 0., 0., 0., 0., 0., 0.,\n",
              "        0., 0., 0., 0., 0., 0., 0., 0., 0., 0., 0., 0., 0.], dtype=float32),\n",
              " array([[ 0.0467286 , -0.05235662, -0.17098606, ...,  0.06197877,\n",
              "          0.16676842, -0.11810298],\n",
              "        [ 0.10569225, -0.13726251,  0.13672723, ...,  0.01719072,\n",
              "         -0.16386454,  0.16136907],\n",
              "        [-0.17808509,  0.07795165,  0.16673853, ...,  0.11305596,\n",
              "         -0.06153961,  0.08690725],\n",
              "        ...,\n",
              "        [-0.114227  , -0.10889759, -0.01182161, ...,  0.16810395,\n",
              "         -0.05549578,  0.04996009],\n",
              "        [ 0.08467965, -0.07152915,  0.17939244, ...,  0.18875022,\n",
              "         -0.10291225, -0.1885978 ],\n",
              "        [ 0.18091305, -0.00492752,  0.20535325, ...,  0.03134876,\n",
              "         -0.19301665,  0.1936362 ]], dtype=float32),\n",
              " array([0., 0., 0., 0., 0., 0., 0., 0., 0., 0., 0., 0., 0., 0., 0., 0., 0.,\n",
              "        0., 0., 0., 0., 0., 0., 0., 0., 0., 0., 0., 0., 0., 0., 0., 0., 0.,\n",
              "        0., 0., 0., 0., 0., 0., 0., 0., 0., 0., 0., 0., 0., 0., 0., 0., 0.,\n",
              "        0., 0., 0., 0., 0., 0., 0., 0., 0., 0., 0., 0., 0.], dtype=float32),\n",
              " array([[ 0.09707536,  0.16779338, -0.16396597, ..., -0.05345626,\n",
              "         -0.12073127, -0.16282198],\n",
              "        [ 0.20910911,  0.13294216, -0.10519758, ..., -0.11451514,\n",
              "         -0.16164264,  0.15308423],\n",
              "        [ 0.15623333,  0.12629427, -0.07112472, ..., -0.02444275,\n",
              "          0.10527594,  0.07970445],\n",
              "        ...,\n",
              "        [ 0.05099465,  0.10488389,  0.16200154, ...,  0.11711751,\n",
              "         -0.04137841, -0.1608206 ],\n",
              "        [ 0.10936438, -0.05676118,  0.19668682, ..., -0.00482871,\n",
              "          0.03615834, -0.19360541],\n",
              "        [-0.05873257, -0.11110229, -0.11792278, ..., -0.00765641,\n",
              "          0.04331206,  0.01017232]], dtype=float32),\n",
              " array([0., 0., 0., 0., 0., 0., 0., 0., 0., 0., 0., 0., 0., 0., 0., 0., 0.,\n",
              "        0., 0., 0., 0., 0., 0., 0., 0., 0., 0., 0., 0., 0., 0., 0., 0., 0.,\n",
              "        0., 0., 0., 0., 0., 0., 0., 0., 0., 0., 0., 0., 0., 0., 0., 0., 0.,\n",
              "        0., 0., 0., 0., 0., 0., 0., 0., 0., 0., 0., 0., 0.], dtype=float32),\n",
              " array([[-1.87445447e-01, -1.81347474e-01,  1.39683485e-04, ...,\n",
              "          3.48372906e-02,  1.57451883e-01, -4.73551899e-02],\n",
              "        [-1.20650180e-01,  2.75706649e-02, -1.53353944e-01, ...,\n",
              "         -2.77463198e-02, -1.46666482e-01, -4.95600700e-03],\n",
              "        [ 1.52116910e-01,  4.89578992e-02, -9.64097828e-02, ...,\n",
              "          1.59784719e-01, -1.61526442e-01, -1.69095665e-01],\n",
              "        ...,\n",
              "        [-1.35294884e-01, -1.09488159e-01, -2.08499193e-01, ...,\n",
              "          1.10537514e-01, -1.75231576e-01,  1.00382403e-01],\n",
              "        [-9.06489789e-02,  1.32506594e-01,  4.06737626e-03, ...,\n",
              "         -1.58493608e-01,  1.58115909e-01,  1.39947787e-01],\n",
              "        [-5.77032268e-02, -1.24095038e-01, -3.25527340e-02, ...,\n",
              "         -2.04238176e-01, -1.67645425e-01,  1.10185787e-01]], dtype=float32),\n",
              " array([0., 0., 0., 0., 0., 0., 0., 0., 0., 0., 0., 0., 0., 0., 0., 0., 0.,\n",
              "        0., 0., 0., 0., 0., 0., 0., 0., 0., 0., 0., 0., 0., 0., 0., 0., 0.,\n",
              "        0., 0., 0., 0., 0., 0., 0., 0., 0., 0., 0., 0., 0., 0., 0., 0., 0.,\n",
              "        0., 0., 0., 0., 0., 0., 0., 0., 0., 0., 0., 0., 0.], dtype=float32),\n",
              " array([[-0.04573172, -0.09942813],\n",
              "        [-0.14659075,  0.2241233 ],\n",
              "        [-0.25002912, -0.2562346 ],\n",
              "        [ 0.04593036, -0.13468982],\n",
              "        [-0.2931468 , -0.00655174],\n",
              "        [-0.20680016,  0.09570917],\n",
              "        [-0.20420155,  0.12548059],\n",
              "        [-0.19782269, -0.09228073],\n",
              "        [-0.26347408, -0.22005111],\n",
              "        [-0.12859626, -0.07171296],\n",
              "        [ 0.16824904, -0.25115907],\n",
              "        [ 0.12776741,  0.22329783],\n",
              "        [-0.26006058, -0.2036747 ],\n",
              "        [-0.16949569,  0.04809836],\n",
              "        [ 0.12713426,  0.06628025],\n",
              "        [ 0.13663396,  0.23626864],\n",
              "        [-0.17858063,  0.20957166],\n",
              "        [-0.02667168,  0.11282614],\n",
              "        [ 0.05699086,  0.0671047 ],\n",
              "        [ 0.29488564,  0.23389971],\n",
              "        [-0.10083702, -0.24474478],\n",
              "        [-0.24789661,  0.2663129 ],\n",
              "        [-0.04255086, -0.00861746],\n",
              "        [ 0.28253996, -0.1860799 ],\n",
              "        [-0.12905088,  0.10828117],\n",
              "        [ 0.24681747,  0.15840161],\n",
              "        [-0.02147311,  0.10678408],\n",
              "        [-0.05704261,  0.23469847],\n",
              "        [ 0.08455622, -0.02494046],\n",
              "        [ 0.24632865,  0.08433497],\n",
              "        [ 0.08982274,  0.09789798],\n",
              "        [-0.00096047,  0.27783865],\n",
              "        [-0.27651596, -0.18062039],\n",
              "        [ 0.28109384, -0.14970125],\n",
              "        [ 0.03040501, -0.27162254],\n",
              "        [ 0.25164878,  0.16985324],\n",
              "        [-0.13497183, -0.10421249],\n",
              "        [-0.22373626, -0.08607438],\n",
              "        [-0.02720916,  0.05277216],\n",
              "        [-0.18220101,  0.01672858],\n",
              "        [ 0.20031619,  0.1293714 ],\n",
              "        [ 0.25915235,  0.29504883],\n",
              "        [-0.06160091,  0.19675511],\n",
              "        [ 0.11381689,  0.27758878],\n",
              "        [-0.14780195, -0.00733179],\n",
              "        [-0.05684802, -0.03682968],\n",
              "        [-0.26341835,  0.03173569],\n",
              "        [ 0.13805515, -0.13576423],\n",
              "        [-0.30123523,  0.17541578],\n",
              "        [-0.275646  ,  0.23760873],\n",
              "        [-0.19313076, -0.1964838 ],\n",
              "        [-0.16910182,  0.12691608],\n",
              "        [-0.25399888, -0.23587182],\n",
              "        [ 0.10425979,  0.10686731],\n",
              "        [-0.18889014, -0.05084726],\n",
              "        [-0.11370482,  0.15245563],\n",
              "        [ 0.28699535, -0.01467228],\n",
              "        [-0.24259603, -0.00552967],\n",
              "        [ 0.0882301 ,  0.27133358],\n",
              "        [-0.15480083,  0.26381212],\n",
              "        [-0.01456898,  0.06123644],\n",
              "        [ 0.00214162, -0.20601553],\n",
              "        [-0.19463576, -0.29941183],\n",
              "        [-0.12189557,  0.2739538 ]], dtype=float32),\n",
              " array([0., 0.], dtype=float32)]"
            ]
          },
          "metadata": {
            "tags": []
          },
          "execution_count": 160
        }
      ]
    },
    {
      "cell_type": "code",
      "metadata": {
        "id": "YdIWpaGgC_U7"
      },
      "source": [
        "model.compile(loss='categorical_crossentropy', optimizer=Pow2Update(learning_rate=0.005), metrics=['accuracy', f1_score(num_classes)])\n",
        "# model.compile(loss='categorical_crossentropy', optimizer=Pow2Update(learning_rate=0.005), metrics=['accuracy'])"
      ],
      "execution_count": 162,
      "outputs": []
    },
    {
      "cell_type": "markdown",
      "metadata": {
        "id": "N1XXZxAao0VM"
      },
      "source": [
        "# Initial Model Training"
      ]
    },
    {
      "cell_type": "markdown",
      "metadata": {
        "id": "dWRti59Voxt9"
      },
      "source": [
        "## Initial results without training"
      ]
    },
    {
      "cell_type": "code",
      "metadata": {
        "id": "PSYj6rehowjf",
        "colab": {
          "base_uri": "https://localhost:8080/"
        },
        "outputId": "8c05b4ef-ecdf-4117-8f19-c7707be3ef0b"
      },
      "source": [
        "# loss0, accuracy0 = model.evaluate(dev_dataset)\n",
        "loss0, accuracy0, f1_score0 = model.evaluate(dev_dataset)\n",
        "print(\"initial loss: {:.2f}\".format(loss0))\n",
        "print(\"initial accuracy: {:.2f}\".format(accuracy0))\n",
        "print(\"initial f1_score: {:.2f}\".format(f1_score0))"
      ],
      "execution_count": 163,
      "outputs": [
        {
          "output_type": "stream",
          "text": [
            "167/167 [==============================] - 2s 14ms/step - loss: 1.1263 - accuracy: 0.4999 - f1_score: 0.3332\n",
            "initial loss: 1.13\n",
            "initial accuracy: 0.50\n",
            "initial f1_score: 0.33\n"
          ],
          "name": "stdout"
        }
      ]
    },
    {
      "cell_type": "markdown",
      "metadata": {
        "id": "8UVxlPwYpFf8"
      },
      "source": [
        "## Fit (Initial)"
      ]
    },
    {
      "cell_type": "code",
      "metadata": {
        "id": "jwgESt2qonMy"
      },
      "source": [
        "initial_epochs = 30"
      ],
      "execution_count": 164,
      "outputs": []
    },
    {
      "cell_type": "code",
      "metadata": {
        "id": "L9xWWRpkh-q-"
      },
      "source": [
        "# Configure eary stopping\n",
        "callback = tf.keras.callbacks.EarlyStopping(monitor='val_loss', patience=3)"
      ],
      "execution_count": 165,
      "outputs": []
    },
    {
      "cell_type": "code",
      "metadata": {
        "id": "1HWov4J3vQCH",
        "colab": {
          "base_uri": "https://localhost:8080/"
        },
        "outputId": "9ce44782-0c3b-4b25-fa98-b68f77186393"
      },
      "source": [
        "history = model.fit(train_dataset,\n",
        "                epochs=initial_epochs,\n",
        "                validation_data=dev_dataset)\n",
        "# ,\n",
        "                # callbacks=[callback])\n",
        "  # model.fit(train_it, epochs=20, batch_size=batchX.shape[0], validation_data=dev_it, validation_batch_size=batchX.shape[0])"
      ],
      "execution_count": 166,
      "outputs": [
        {
          "output_type": "stream",
          "text": [
            "Epoch 1/30\n",
            "1060/1060 [==============================] - 18s 17ms/step - loss: 0.6187 - accuracy: 0.6786 - f1_score: 0.6657 - val_loss: 0.6285 - val_accuracy: 0.6477 - val_f1_score: 0.6380\n",
            "Epoch 2/30\n",
            "1060/1060 [==============================] - 18s 17ms/step - loss: 0.5933 - accuracy: 0.7033 - f1_score: 0.6915 - val_loss: 0.6143 - val_accuracy: 0.6619 - val_f1_score: 0.6540\n",
            "Epoch 3/30\n",
            "1060/1060 [==============================] - 19s 18ms/step - loss: 0.5863 - accuracy: 0.7108 - f1_score: 0.6993 - val_loss: 0.6105 - val_accuracy: 0.6674 - val_f1_score: 0.6592\n",
            "Epoch 4/30\n",
            "1060/1060 [==============================] - 19s 17ms/step - loss: 0.5826 - accuracy: 0.7119 - f1_score: 0.7005 - val_loss: 0.6062 - val_accuracy: 0.6692 - val_f1_score: 0.6624\n",
            "Epoch 5/30\n",
            "1060/1060 [==============================] - 19s 18ms/step - loss: 0.5799 - accuracy: 0.7161 - f1_score: 0.7050 - val_loss: 0.6098 - val_accuracy: 0.6674 - val_f1_score: 0.6573\n",
            "Epoch 6/30\n",
            "1060/1060 [==============================] - 19s 18ms/step - loss: 0.5766 - accuracy: 0.7184 - f1_score: 0.7060 - val_loss: 0.6048 - val_accuracy: 0.6739 - val_f1_score: 0.6661\n",
            "Epoch 7/30\n",
            "1060/1060 [==============================] - 19s 18ms/step - loss: 0.5755 - accuracy: 0.7197 - f1_score: 0.7089 - val_loss: 0.6025 - val_accuracy: 0.6743 - val_f1_score: 0.6665\n",
            "Epoch 8/30\n",
            "1060/1060 [==============================] - 19s 18ms/step - loss: 0.5729 - accuracy: 0.7211 - f1_score: 0.7112 - val_loss: 0.6037 - val_accuracy: 0.6747 - val_f1_score: 0.6657\n",
            "Epoch 9/30\n",
            "1060/1060 [==============================] - 19s 18ms/step - loss: 0.5698 - accuracy: 0.7232 - f1_score: 0.7135 - val_loss: 0.5981 - val_accuracy: 0.6778 - val_f1_score: 0.6705\n",
            "Epoch 10/30\n",
            "1060/1060 [==============================] - 18s 17ms/step - loss: 0.5642 - accuracy: 0.7253 - f1_score: 0.7154 - val_loss: 0.5941 - val_accuracy: 0.6836 - val_f1_score: 0.6768\n",
            "Epoch 11/30\n",
            "1060/1060 [==============================] - 18s 17ms/step - loss: 0.5620 - accuracy: 0.7268 - f1_score: 0.7178 - val_loss: 0.5832 - val_accuracy: 0.6921 - val_f1_score: 0.6892\n",
            "Epoch 12/30\n",
            "1060/1060 [==============================] - 19s 18ms/step - loss: 0.5604 - accuracy: 0.7287 - f1_score: 0.7185 - val_loss: 0.5944 - val_accuracy: 0.6816 - val_f1_score: 0.6740\n",
            "Epoch 13/30\n",
            "1060/1060 [==============================] - 18s 17ms/step - loss: 0.5582 - accuracy: 0.7301 - f1_score: 0.7207 - val_loss: 0.6014 - val_accuracy: 0.6771 - val_f1_score: 0.6660\n",
            "Epoch 14/30\n",
            "1060/1060 [==============================] - 18s 17ms/step - loss: 0.5564 - accuracy: 0.7309 - f1_score: 0.7219 - val_loss: 0.5877 - val_accuracy: 0.6876 - val_f1_score: 0.6822\n",
            "Epoch 15/30\n",
            "1060/1060 [==============================] - 18s 17ms/step - loss: 0.5548 - accuracy: 0.7340 - f1_score: 0.7249 - val_loss: 0.5831 - val_accuracy: 0.6925 - val_f1_score: 0.6874\n",
            "Epoch 16/30\n",
            "1060/1060 [==============================] - 18s 17ms/step - loss: 0.5534 - accuracy: 0.7324 - f1_score: 0.7240 - val_loss: 0.5909 - val_accuracy: 0.6865 - val_f1_score: 0.6792\n",
            "Epoch 17/30\n",
            "1060/1060 [==============================] - 19s 18ms/step - loss: 0.5527 - accuracy: 0.7335 - f1_score: 0.7253 - val_loss: 0.5806 - val_accuracy: 0.6953 - val_f1_score: 0.6914\n",
            "Epoch 18/30\n",
            "1060/1060 [==============================] - 19s 18ms/step - loss: 0.5524 - accuracy: 0.7345 - f1_score: 0.7261 - val_loss: 0.5820 - val_accuracy: 0.6917 - val_f1_score: 0.6873\n",
            "Epoch 19/30\n",
            "1060/1060 [==============================] - 19s 18ms/step - loss: 0.5512 - accuracy: 0.7333 - f1_score: 0.7254 - val_loss: 0.5876 - val_accuracy: 0.6885 - val_f1_score: 0.6814\n",
            "Epoch 20/30\n",
            "1060/1060 [==============================] - 19s 18ms/step - loss: 0.5499 - accuracy: 0.7353 - f1_score: 0.7273 - val_loss: 0.5867 - val_accuracy: 0.6887 - val_f1_score: 0.6816\n",
            "Epoch 21/30\n",
            "1060/1060 [==============================] - 18s 17ms/step - loss: 0.5496 - accuracy: 0.7356 - f1_score: 0.7279 - val_loss: 0.5839 - val_accuracy: 0.6923 - val_f1_score: 0.6862\n",
            "Epoch 22/30\n",
            "1060/1060 [==============================] - 18s 17ms/step - loss: 0.5484 - accuracy: 0.7374 - f1_score: 0.7292 - val_loss: 0.5809 - val_accuracy: 0.6919 - val_f1_score: 0.6866\n",
            "Epoch 23/30\n",
            "1060/1060 [==============================] - 19s 18ms/step - loss: 0.5484 - accuracy: 0.7352 - f1_score: 0.7265 - val_loss: 0.5808 - val_accuracy: 0.6930 - val_f1_score: 0.6875\n",
            "Epoch 24/30\n",
            "1060/1060 [==============================] - 19s 18ms/step - loss: 0.5473 - accuracy: 0.7366 - f1_score: 0.7278 - val_loss: 0.5874 - val_accuracy: 0.6887 - val_f1_score: 0.6809\n",
            "Epoch 25/30\n",
            "1060/1060 [==============================] - 19s 18ms/step - loss: 0.5469 - accuracy: 0.7381 - f1_score: 0.7305 - val_loss: 0.5810 - val_accuracy: 0.6930 - val_f1_score: 0.6870\n",
            "Epoch 26/30\n",
            "1060/1060 [==============================] - 19s 18ms/step - loss: 0.5459 - accuracy: 0.7368 - f1_score: 0.7299 - val_loss: 0.5780 - val_accuracy: 0.6958 - val_f1_score: 0.6911\n",
            "Epoch 27/30\n",
            "1060/1060 [==============================] - 19s 18ms/step - loss: 0.5451 - accuracy: 0.7365 - f1_score: 0.7292 - val_loss: 0.5815 - val_accuracy: 0.6951 - val_f1_score: 0.6886\n",
            "Epoch 28/30\n",
            "1060/1060 [==============================] - 18s 17ms/step - loss: 0.5434 - accuracy: 0.7376 - f1_score: 0.7303 - val_loss: 0.5794 - val_accuracy: 0.6964 - val_f1_score: 0.6901\n",
            "Epoch 29/30\n",
            "1060/1060 [==============================] - 19s 18ms/step - loss: 0.5424 - accuracy: 0.7409 - f1_score: 0.7330 - val_loss: 0.5805 - val_accuracy: 0.6983 - val_f1_score: 0.6918\n",
            "Epoch 30/30\n",
            "1060/1060 [==============================] - 19s 18ms/step - loss: 0.5414 - accuracy: 0.7416 - f1_score: 0.7344 - val_loss: 0.5820 - val_accuracy: 0.6956 - val_f1_score: 0.6884\n"
          ],
          "name": "stdout"
        }
      ]
    },
    {
      "cell_type": "code",
      "metadata": {
        "id": "EsZN4vCxkpH4",
        "colab": {
          "base_uri": "https://localhost:8080/"
        },
        "outputId": "5a17810e-3547-4872-bcc9-016c9180be0a"
      },
      "source": [
        "binary = True\n",
        "if binary:\n",
        "  model.save('/content/binary_model_1')\n",
        "\n",
        "save_to_drive=True\n",
        "if save_to_drive:\n",
        "  model.save('/content/drive/My Drive/Haptic Vest/binary_model_1')"
      ],
      "execution_count": 172,
      "outputs": [
        {
          "output_type": "stream",
          "text": [
            "INFO:tensorflow:Assets written to: /content/binary_model_1/assets\n",
            "INFO:tensorflow:Assets written to: /content/drive/My Drive/Haptic Vest/binary_model_1/assets\n"
          ],
          "name": "stdout"
        }
      ]
    },
    {
      "cell_type": "code",
      "metadata": {
        "id": "dk9l9bINFohm"
      },
      "source": [
        "second_train_epochs=30"
      ],
      "execution_count": 173,
      "outputs": []
    },
    {
      "cell_type": "code",
      "metadata": {
        "id": "-rp3oc9SFmnp",
        "outputId": "31a09d43-fa46-40c0-a818-6ad3b037969c",
        "colab": {
          "base_uri": "https://localhost:8080/"
        }
      },
      "source": [
        "history_cont = model.fit(train_dataset,\n",
        "                initial_epoch=history.epoch[-1],\n",
        "                epochs=second_train_epochs,\n",
        "                validation_data=dev_dataset)"
      ],
      "execution_count": 174,
      "outputs": [
        {
          "output_type": "stream",
          "text": [
            "Epoch 1/30\n",
            "1060/1060 [==============================] - 18s 17ms/step - loss: 0.5414 - accuracy: 0.7407 - f1_score: 0.7334 - val_loss: 0.5763 - val_accuracy: 0.6998 - val_f1_score: 0.6946\n",
            "Epoch 2/30\n",
            "1060/1060 [==============================] - 18s 17ms/step - loss: 0.5412 - accuracy: 0.7404 - f1_score: 0.7323 - val_loss: 0.5843 - val_accuracy: 0.6947 - val_f1_score: 0.6867\n",
            "Epoch 3/30\n",
            "1060/1060 [==============================] - 18s 17ms/step - loss: 0.5415 - accuracy: 0.7419 - f1_score: 0.7344 - val_loss: 0.5836 - val_accuracy: 0.6917 - val_f1_score: 0.6841\n",
            "Epoch 4/30\n",
            "1060/1060 [==============================] - 18s 17ms/step - loss: 0.5409 - accuracy: 0.7418 - f1_score: 0.7340 - val_loss: 0.5790 - val_accuracy: 0.6945 - val_f1_score: 0.6884\n",
            "Epoch 5/30\n",
            "1060/1060 [==============================] - 18s 17ms/step - loss: 0.5404 - accuracy: 0.7424 - f1_score: 0.7345 - val_loss: 0.5767 - val_accuracy: 0.6983 - val_f1_score: 0.6927\n",
            "Epoch 6/30\n",
            "1060/1060 [==============================] - 18s 17ms/step - loss: 0.5405 - accuracy: 0.7431 - f1_score: 0.7357 - val_loss: 0.5796 - val_accuracy: 0.6962 - val_f1_score: 0.6888\n",
            "Epoch 7/30\n",
            "1060/1060 [==============================] - 18s 17ms/step - loss: 0.5392 - accuracy: 0.7446 - f1_score: 0.7369 - val_loss: 0.5774 - val_accuracy: 0.6992 - val_f1_score: 0.6929\n",
            "Epoch 8/30\n",
            "1060/1060 [==============================] - 19s 17ms/step - loss: 0.5387 - accuracy: 0.7460 - f1_score: 0.7389 - val_loss: 0.5772 - val_accuracy: 0.6981 - val_f1_score: 0.6915\n",
            "Epoch 9/30\n",
            "1060/1060 [==============================] - 18s 17ms/step - loss: 0.5390 - accuracy: 0.7429 - f1_score: 0.7360 - val_loss: 0.5767 - val_accuracy: 0.7001 - val_f1_score: 0.6938\n",
            "Epoch 10/30\n",
            "1060/1060 [==============================] - 18s 17ms/step - loss: 0.5379 - accuracy: 0.7449 - f1_score: 0.7375 - val_loss: 0.5768 - val_accuracy: 0.7026 - val_f1_score: 0.6962\n",
            "Epoch 11/30\n",
            "1060/1060 [==============================] - 18s 17ms/step - loss: 0.5382 - accuracy: 0.7447 - f1_score: 0.7366 - val_loss: 0.5745 - val_accuracy: 0.7035 - val_f1_score: 0.6977\n",
            "Epoch 12/30\n",
            "1060/1060 [==============================] - 18s 17ms/step - loss: 0.5390 - accuracy: 0.7428 - f1_score: 0.7360 - val_loss: 0.5740 - val_accuracy: 0.7031 - val_f1_score: 0.6975\n",
            "Epoch 13/30\n",
            "1060/1060 [==============================] - 18s 17ms/step - loss: 0.5357 - accuracy: 0.7465 - f1_score: 0.7391 - val_loss: 0.5759 - val_accuracy: 0.6992 - val_f1_score: 0.6924\n",
            "Epoch 14/30\n",
            "1060/1060 [==============================] - 18s 17ms/step - loss: 0.5353 - accuracy: 0.7471 - f1_score: 0.7402 - val_loss: 0.5797 - val_accuracy: 0.6988 - val_f1_score: 0.6911\n",
            "Epoch 15/30\n",
            "1060/1060 [==============================] - 18s 17ms/step - loss: 0.5349 - accuracy: 0.7473 - f1_score: 0.7400 - val_loss: 0.5724 - val_accuracy: 0.6990 - val_f1_score: 0.6933\n",
            "Epoch 16/30\n",
            "1060/1060 [==============================] - 18s 17ms/step - loss: 0.5354 - accuracy: 0.7459 - f1_score: 0.7393 - val_loss: 0.5685 - val_accuracy: 0.7048 - val_f1_score: 0.7008\n",
            "Epoch 17/30\n",
            "1060/1060 [==============================] - 18s 17ms/step - loss: 0.5347 - accuracy: 0.7471 - f1_score: 0.7402 - val_loss: 0.5738 - val_accuracy: 0.7011 - val_f1_score: 0.6951\n",
            "Epoch 18/30\n",
            "1060/1060 [==============================] - 18s 17ms/step - loss: 0.5346 - accuracy: 0.7471 - f1_score: 0.7399 - val_loss: 0.5630 - val_accuracy: 0.7114 - val_f1_score: 0.7089\n",
            "Epoch 19/30\n",
            "1060/1060 [==============================] - 18s 17ms/step - loss: 0.5330 - accuracy: 0.7474 - f1_score: 0.7410 - val_loss: 0.5741 - val_accuracy: 0.7031 - val_f1_score: 0.6971\n",
            "Epoch 20/30\n",
            "1060/1060 [==============================] - 18s 17ms/step - loss: 0.5325 - accuracy: 0.7482 - f1_score: 0.7415 - val_loss: 0.5697 - val_accuracy: 0.7061 - val_f1_score: 0.7011\n",
            "Epoch 21/30\n",
            "1060/1060 [==============================] - 18s 17ms/step - loss: 0.5320 - accuracy: 0.7477 - f1_score: 0.7412 - val_loss: 0.5723 - val_accuracy: 0.7054 - val_f1_score: 0.6998\n",
            "Epoch 22/30\n",
            "1060/1060 [==============================] - 18s 17ms/step - loss: 0.5309 - accuracy: 0.7479 - f1_score: 0.7408 - val_loss: 0.5676 - val_accuracy: 0.7072 - val_f1_score: 0.7026\n",
            "Epoch 23/30\n",
            "1060/1060 [==============================] - 18s 17ms/step - loss: 0.5313 - accuracy: 0.7470 - f1_score: 0.7398 - val_loss: 0.5716 - val_accuracy: 0.7046 - val_f1_score: 0.6990\n",
            "Epoch 24/30\n",
            "1060/1060 [==============================] - 18s 17ms/step - loss: 0.5297 - accuracy: 0.7487 - f1_score: 0.7414 - val_loss: 0.5548 - val_accuracy: 0.7153 - val_f1_score: 0.7139\n",
            "Epoch 25/30\n",
            "1060/1060 [==============================] - 18s 17ms/step - loss: 0.5300 - accuracy: 0.7483 - f1_score: 0.7414 - val_loss: 0.5681 - val_accuracy: 0.7080 - val_f1_score: 0.7027\n",
            "Epoch 26/30\n",
            "1060/1060 [==============================] - 18s 17ms/step - loss: 0.5293 - accuracy: 0.7482 - f1_score: 0.7424 - val_loss: 0.5714 - val_accuracy: 0.7061 - val_f1_score: 0.7001\n",
            "Epoch 27/30\n",
            "1060/1060 [==============================] - 18s 17ms/step - loss: 0.5289 - accuracy: 0.7490 - f1_score: 0.7425 - val_loss: 0.5690 - val_accuracy: 0.7080 - val_f1_score: 0.7026\n",
            "Epoch 28/30\n",
            "1060/1060 [==============================] - 18s 17ms/step - loss: 0.5285 - accuracy: 0.7489 - f1_score: 0.7428 - val_loss: 0.5635 - val_accuracy: 0.7084 - val_f1_score: 0.7042\n",
            "Epoch 29/30\n",
            "1060/1060 [==============================] - 18s 17ms/step - loss: 0.5285 - accuracy: 0.7496 - f1_score: 0.7436 - val_loss: 0.5685 - val_accuracy: 0.7041 - val_f1_score: 0.6985\n",
            "Epoch 30/30\n",
            "1060/1060 [==============================] - 18s 17ms/step - loss: 0.5283 - accuracy: 0.7505 - f1_score: 0.7438 - val_loss: 0.5707 - val_accuracy: 0.7044 - val_f1_score: 0.6982\n"
          ],
          "name": "stdout"
        }
      ]
    },
    {
      "cell_type": "code",
      "metadata": {
        "id": "vKZxeKpbM7QI",
        "outputId": "d1bb6c32-4a92-47cd-b8de-5fe499cb3ffd",
        "colab": {
          "base_uri": "https://localhost:8080/"
        }
      },
      "source": [
        "binary = True\n",
        "if binary:\n",
        "  model.save('/content/binary_model_2')\n",
        "\n",
        "save_to_drive=True\n",
        "if save_to_drive:\n",
        "  model.save('/content/drive/My Drive/Haptic Vest/binary_model_2')"
      ],
      "execution_count": 175,
      "outputs": [
        {
          "output_type": "stream",
          "text": [
            "INFO:tensorflow:Assets written to: /content/binary_model_2/assets\n",
            "INFO:tensorflow:Assets written to: /content/drive/My Drive/Haptic Vest/binary_model_2/assets\n"
          ],
          "name": "stdout"
        }
      ]
    },
    {
      "cell_type": "code",
      "metadata": {
        "id": "IlBma-XCM_ot",
        "outputId": "2ea24efa-a3c3-4915-aea0-d01359e4b4d6",
        "colab": {
          "base_uri": "https://localhost:8080/"
        }
      },
      "source": [
        "third_train_epochs=30 + second_train_epochs\n",
        "\n",
        "history_cont2 = model.fit(train_dataset,\n",
        "                initial_epoch=history.epoch[-1],\n",
        "                epochs=third_train_epochs,\n",
        "                validation_data=dev_dataset)"
      ],
      "execution_count": 177,
      "outputs": [
        {
          "output_type": "stream",
          "text": [
            "Epoch 30/60\n",
            "1060/1060 [==============================] - 18s 17ms/step - loss: 0.5275 - accuracy: 0.7515 - f1_score: 0.7440 - val_loss: 0.5668 - val_accuracy: 0.7084 - val_f1_score: 0.7034\n",
            "Epoch 31/60\n",
            "1060/1060 [==============================] - 18s 17ms/step - loss: 0.5287 - accuracy: 0.7503 - f1_score: 0.7442 - val_loss: 0.5703 - val_accuracy: 0.7050 - val_f1_score: 0.6988\n",
            "Epoch 32/60\n",
            "1060/1060 [==============================] - 18s 17ms/step - loss: 0.5274 - accuracy: 0.7502 - f1_score: 0.7437 - val_loss: 0.5683 - val_accuracy: 0.7059 - val_f1_score: 0.7005\n",
            "Epoch 33/60\n",
            "1060/1060 [==============================] - 18s 17ms/step - loss: 0.5273 - accuracy: 0.7509 - f1_score: 0.7446 - val_loss: 0.5692 - val_accuracy: 0.7065 - val_f1_score: 0.7004\n",
            "Epoch 34/60\n",
            "1060/1060 [==============================] - 18s 17ms/step - loss: 0.5266 - accuracy: 0.7510 - f1_score: 0.7451 - val_loss: 0.5691 - val_accuracy: 0.7050 - val_f1_score: 0.6992\n",
            "Epoch 35/60\n",
            "1060/1060 [==============================] - 18s 17ms/step - loss: 0.5269 - accuracy: 0.7499 - f1_score: 0.7437 - val_loss: 0.5697 - val_accuracy: 0.7074 - val_f1_score: 0.7015\n",
            "Epoch 36/60\n",
            "1060/1060 [==============================] - 18s 17ms/step - loss: 0.5264 - accuracy: 0.7501 - f1_score: 0.7438 - val_loss: 0.5585 - val_accuracy: 0.7134 - val_f1_score: 0.7106\n",
            "Epoch 37/60\n",
            "1060/1060 [==============================] - 18s 17ms/step - loss: 0.5274 - accuracy: 0.7490 - f1_score: 0.7429 - val_loss: 0.5658 - val_accuracy: 0.7101 - val_f1_score: 0.7052\n",
            "Epoch 38/60\n",
            "1060/1060 [==============================] - 18s 17ms/step - loss: 0.5249 - accuracy: 0.7527 - f1_score: 0.7467 - val_loss: 0.5725 - val_accuracy: 0.7072 - val_f1_score: 0.7004\n",
            "Epoch 39/60\n",
            "1060/1060 [==============================] - 18s 17ms/step - loss: 0.5255 - accuracy: 0.7506 - f1_score: 0.7448 - val_loss: 0.5678 - val_accuracy: 0.7093 - val_f1_score: 0.7037\n",
            "Epoch 40/60\n",
            "1060/1060 [==============================] - 17s 16ms/step - loss: 0.5239 - accuracy: 0.7526 - f1_score: 0.7469 - val_loss: 0.5610 - val_accuracy: 0.7129 - val_f1_score: 0.7088\n",
            "Epoch 41/60\n",
            "1060/1060 [==============================] - 18s 17ms/step - loss: 0.5230 - accuracy: 0.7527 - f1_score: 0.7470 - val_loss: 0.5649 - val_accuracy: 0.7093 - val_f1_score: 0.7039\n",
            "Epoch 42/60\n",
            "1060/1060 [==============================] - 18s 17ms/step - loss: 0.5229 - accuracy: 0.7527 - f1_score: 0.7473 - val_loss: 0.5604 - val_accuracy: 0.7129 - val_f1_score: 0.7089\n",
            "Epoch 43/60\n",
            "1060/1060 [==============================] - 18s 17ms/step - loss: 0.5233 - accuracy: 0.7523 - f1_score: 0.7466 - val_loss: 0.5642 - val_accuracy: 0.7104 - val_f1_score: 0.7051\n",
            "Epoch 44/60\n",
            "1060/1060 [==============================] - 18s 17ms/step - loss: 0.5222 - accuracy: 0.7529 - f1_score: 0.7474 - val_loss: 0.5657 - val_accuracy: 0.7056 - val_f1_score: 0.7003\n",
            "Epoch 45/60\n",
            "1060/1060 [==============================] - 18s 17ms/step - loss: 0.5228 - accuracy: 0.7536 - f1_score: 0.7487 - val_loss: 0.5620 - val_accuracy: 0.7142 - val_f1_score: 0.7095\n",
            "Epoch 46/60\n",
            "1060/1060 [==============================] - 18s 17ms/step - loss: 0.5210 - accuracy: 0.7561 - f1_score: 0.7506 - val_loss: 0.5666 - val_accuracy: 0.7082 - val_f1_score: 0.7030\n",
            "Epoch 47/60\n",
            "1060/1060 [==============================] - 18s 17ms/step - loss: 0.5208 - accuracy: 0.7544 - f1_score: 0.7484 - val_loss: 0.5715 - val_accuracy: 0.7072 - val_f1_score: 0.7004\n",
            "Epoch 48/60\n",
            "1060/1060 [==============================] - 18s 17ms/step - loss: 0.5220 - accuracy: 0.7525 - f1_score: 0.7473 - val_loss: 0.5644 - val_accuracy: 0.7116 - val_f1_score: 0.7061\n",
            "Epoch 49/60\n",
            "1060/1060 [==============================] - 18s 17ms/step - loss: 0.5212 - accuracy: 0.7550 - f1_score: 0.7497 - val_loss: 0.5638 - val_accuracy: 0.7129 - val_f1_score: 0.7074\n",
            "Epoch 50/60\n",
            "1060/1060 [==============================] - 18s 17ms/step - loss: 0.5214 - accuracy: 0.7553 - f1_score: 0.7490 - val_loss: 0.5646 - val_accuracy: 0.7076 - val_f1_score: 0.7016\n",
            "Epoch 51/60\n",
            "1060/1060 [==============================] - 18s 17ms/step - loss: 0.5215 - accuracy: 0.7552 - f1_score: 0.7489 - val_loss: 0.5650 - val_accuracy: 0.7110 - val_f1_score: 0.7051\n",
            "Epoch 52/60\n",
            "1060/1060 [==============================] - 18s 17ms/step - loss: 0.5205 - accuracy: 0.7554 - f1_score: 0.7494 - val_loss: 0.5676 - val_accuracy: 0.7097 - val_f1_score: 0.7029\n",
            "Epoch 53/60\n",
            "1060/1060 [==============================] - 18s 17ms/step - loss: 0.5195 - accuracy: 0.7570 - f1_score: 0.7509 - val_loss: 0.5620 - val_accuracy: 0.7136 - val_f1_score: 0.7081\n",
            "Epoch 54/60\n",
            "1060/1060 [==============================] - 18s 17ms/step - loss: 0.5199 - accuracy: 0.7556 - f1_score: 0.7499 - val_loss: 0.5689 - val_accuracy: 0.7110 - val_f1_score: 0.7037\n",
            "Epoch 55/60\n",
            "1060/1060 [==============================] - 18s 17ms/step - loss: 0.5191 - accuracy: 0.7570 - f1_score: 0.7509 - val_loss: 0.5657 - val_accuracy: 0.7117 - val_f1_score: 0.7053\n",
            "Epoch 56/60\n",
            "1060/1060 [==============================] - 18s 17ms/step - loss: 0.5183 - accuracy: 0.7572 - f1_score: 0.7512 - val_loss: 0.5650 - val_accuracy: 0.7121 - val_f1_score: 0.7062\n",
            "Epoch 57/60\n",
            "1060/1060 [==============================] - 18s 17ms/step - loss: 0.5187 - accuracy: 0.7574 - f1_score: 0.7519 - val_loss: 0.5661 - val_accuracy: 0.7123 - val_f1_score: 0.7057\n",
            "Epoch 58/60\n",
            "1060/1060 [==============================] - 18s 17ms/step - loss: 0.5180 - accuracy: 0.7574 - f1_score: 0.7512 - val_loss: 0.5702 - val_accuracy: 0.7059 - val_f1_score: 0.6984\n",
            "Epoch 59/60\n",
            "1060/1060 [==============================] - 18s 17ms/step - loss: 0.5177 - accuracy: 0.7575 - f1_score: 0.7520 - val_loss: 0.5642 - val_accuracy: 0.7127 - val_f1_score: 0.7069\n",
            "Epoch 60/60\n",
            "1060/1060 [==============================] - 18s 17ms/step - loss: 0.5178 - accuracy: 0.7572 - f1_score: 0.7514 - val_loss: 0.5641 - val_accuracy: 0.7132 - val_f1_score: 0.7072\n"
          ],
          "name": "stdout"
        }
      ]
    },
    {
      "cell_type": "code",
      "metadata": {
        "id": "FAjKZxpaQDlH",
        "outputId": "83234c52-ae02-4e77-aa8b-fb203dde8b6b",
        "colab": {
          "base_uri": "https://localhost:8080/"
        }
      },
      "source": [
        "binary = True\n",
        "if binary:\n",
        "  model.save('/content/binary_model_3')\n",
        "\n",
        "save_to_drive=True\n",
        "if save_to_drive:\n",
        "  model.save('/content/drive/My Drive/Haptic Vest/binary_model_3')"
      ],
      "execution_count": 178,
      "outputs": [
        {
          "output_type": "stream",
          "text": [
            "INFO:tensorflow:Assets written to: /content/binary_model_3/assets\n",
            "INFO:tensorflow:Assets written to: /content/drive/My Drive/Haptic Vest/binary_model_3/assets\n"
          ],
          "name": "stdout"
        }
      ]
    },
    {
      "cell_type": "code",
      "metadata": {
        "id": "i2xgha7mQHcs",
        "outputId": "8a34ffd9-a078-4955-d36b-3462fbff45fa",
        "colab": {
          "base_uri": "https://localhost:8080/"
        }
      },
      "source": [
        "fourth_train_epochs=30 + third_train_epochs\n",
        "\n",
        "history_cont3 = model.fit(train_dataset,\n",
        "                initial_epoch=history_cont2.epoch[-1],\n",
        "                epochs=fourth_train_epochs,\n",
        "                validation_data=dev_dataset)"
      ],
      "execution_count": 179,
      "outputs": [
        {
          "output_type": "stream",
          "text": [
            "Epoch 60/90\n",
            "1060/1060 [==============================] - 18s 17ms/step - loss: 0.5182 - accuracy: 0.7574 - f1_score: 0.7513 - val_loss: 0.5629 - val_accuracy: 0.7166 - val_f1_score: 0.7109\n",
            "Epoch 61/90\n",
            "1060/1060 [==============================] - 18s 17ms/step - loss: 0.5187 - accuracy: 0.7569 - f1_score: 0.7502 - val_loss: 0.5577 - val_accuracy: 0.7157 - val_f1_score: 0.7115\n",
            "Epoch 62/90\n",
            "1060/1060 [==============================] - 18s 17ms/step - loss: 0.5177 - accuracy: 0.7571 - f1_score: 0.7510 - val_loss: 0.5717 - val_accuracy: 0.7084 - val_f1_score: 0.7004\n",
            "Epoch 63/90\n",
            "1060/1060 [==============================] - 19s 17ms/step - loss: 0.5175 - accuracy: 0.7569 - f1_score: 0.7508 - val_loss: 0.5630 - val_accuracy: 0.7140 - val_f1_score: 0.7087\n",
            "Epoch 64/90\n",
            "1060/1060 [==============================] - 18s 17ms/step - loss: 0.5175 - accuracy: 0.7572 - f1_score: 0.7516 - val_loss: 0.5617 - val_accuracy: 0.7153 - val_f1_score: 0.7106\n",
            "Epoch 65/90\n",
            "1060/1060 [==============================] - 18s 17ms/step - loss: 0.5177 - accuracy: 0.7570 - f1_score: 0.7511 - val_loss: 0.5633 - val_accuracy: 0.7162 - val_f1_score: 0.7106\n",
            "Epoch 66/90\n",
            "1060/1060 [==============================] - 18s 17ms/step - loss: 0.5178 - accuracy: 0.7571 - f1_score: 0.7503 - val_loss: 0.5700 - val_accuracy: 0.7067 - val_f1_score: 0.6993\n",
            "Epoch 67/90\n",
            "1060/1060 [==============================] - 18s 17ms/step - loss: 0.5175 - accuracy: 0.7568 - f1_score: 0.7504 - val_loss: 0.5620 - val_accuracy: 0.7155 - val_f1_score: 0.7101\n",
            "Epoch 68/90\n",
            "1060/1060 [==============================] - 19s 17ms/step - loss: 0.5174 - accuracy: 0.7569 - f1_score: 0.7510 - val_loss: 0.5628 - val_accuracy: 0.7153 - val_f1_score: 0.7095\n",
            "Epoch 69/90\n",
            "1060/1060 [==============================] - 19s 18ms/step - loss: 0.5168 - accuracy: 0.7573 - f1_score: 0.7515 - val_loss: 0.5607 - val_accuracy: 0.7162 - val_f1_score: 0.7108\n",
            "Epoch 70/90\n",
            "1060/1060 [==============================] - 18s 17ms/step - loss: 0.5170 - accuracy: 0.7581 - f1_score: 0.7519 - val_loss: 0.5618 - val_accuracy: 0.7164 - val_f1_score: 0.7109\n",
            "Epoch 71/90\n",
            "1060/1060 [==============================] - 19s 17ms/step - loss: 0.5167 - accuracy: 0.7585 - f1_score: 0.7531 - val_loss: 0.5614 - val_accuracy: 0.7142 - val_f1_score: 0.7083\n",
            "Epoch 72/90\n",
            "1060/1060 [==============================] - 18s 17ms/step - loss: 0.5155 - accuracy: 0.7592 - f1_score: 0.7537 - val_loss: 0.5604 - val_accuracy: 0.7142 - val_f1_score: 0.7087\n",
            "Epoch 73/90\n",
            "1060/1060 [==============================] - 19s 17ms/step - loss: 0.5163 - accuracy: 0.7582 - f1_score: 0.7523 - val_loss: 0.5625 - val_accuracy: 0.7121 - val_f1_score: 0.7061\n",
            "Epoch 74/90\n",
            "1060/1060 [==============================] - 19s 18ms/step - loss: 0.5160 - accuracy: 0.7590 - f1_score: 0.7528 - val_loss: 0.5593 - val_accuracy: 0.7187 - val_f1_score: 0.7135\n",
            "Epoch 75/90\n",
            "1060/1060 [==============================] - 19s 18ms/step - loss: 0.5152 - accuracy: 0.7583 - f1_score: 0.7533 - val_loss: 0.5602 - val_accuracy: 0.7164 - val_f1_score: 0.7110\n",
            "Epoch 76/90\n",
            "1060/1060 [==============================] - 18s 17ms/step - loss: 0.5152 - accuracy: 0.7595 - f1_score: 0.7530 - val_loss: 0.5690 - val_accuracy: 0.7110 - val_f1_score: 0.7032\n",
            "Epoch 77/90\n",
            "1060/1060 [==============================] - 18s 17ms/step - loss: 0.5143 - accuracy: 0.7609 - f1_score: 0.7544 - val_loss: 0.5624 - val_accuracy: 0.7153 - val_f1_score: 0.7096\n",
            "Epoch 78/90\n",
            "1060/1060 [==============================] - 18s 17ms/step - loss: 0.5146 - accuracy: 0.7602 - f1_score: 0.7538 - val_loss: 0.5611 - val_accuracy: 0.7153 - val_f1_score: 0.7095\n",
            "Epoch 79/90\n",
            "1060/1060 [==============================] - 18s 17ms/step - loss: 0.5139 - accuracy: 0.7616 - f1_score: 0.7553 - val_loss: 0.5618 - val_accuracy: 0.7168 - val_f1_score: 0.7114\n",
            "Epoch 80/90\n",
            "1060/1060 [==============================] - 18s 17ms/step - loss: 0.5135 - accuracy: 0.7614 - f1_score: 0.7548 - val_loss: 0.5643 - val_accuracy: 0.7144 - val_f1_score: 0.7079\n",
            "Epoch 81/90\n",
            "1060/1060 [==============================] - 18s 17ms/step - loss: 0.5128 - accuracy: 0.7599 - f1_score: 0.7537 - val_loss: 0.5577 - val_accuracy: 0.7159 - val_f1_score: 0.7107\n",
            "Epoch 82/90\n",
            "1060/1060 [==============================] - 18s 17ms/step - loss: 0.5132 - accuracy: 0.7607 - f1_score: 0.7546 - val_loss: 0.5623 - val_accuracy: 0.7146 - val_f1_score: 0.7086\n",
            "Epoch 83/90\n",
            "1060/1060 [==============================] - 18s 17ms/step - loss: 0.5130 - accuracy: 0.7603 - f1_score: 0.7544 - val_loss: 0.5647 - val_accuracy: 0.7151 - val_f1_score: 0.7086\n",
            "Epoch 84/90\n",
            "1060/1060 [==============================] - 17s 16ms/step - loss: 0.5129 - accuracy: 0.7608 - f1_score: 0.7547 - val_loss: 0.5558 - val_accuracy: 0.7198 - val_f1_score: 0.7155\n",
            "Epoch 85/90\n",
            "1060/1060 [==============================] - 18s 17ms/step - loss: 0.5123 - accuracy: 0.7615 - f1_score: 0.7554 - val_loss: 0.5614 - val_accuracy: 0.7162 - val_f1_score: 0.7103\n",
            "Epoch 86/90\n",
            "1060/1060 [==============================] - 17s 16ms/step - loss: 0.5124 - accuracy: 0.7617 - f1_score: 0.7556 - val_loss: 0.5602 - val_accuracy: 0.7136 - val_f1_score: 0.7080\n",
            "Epoch 87/90\n",
            "1060/1060 [==============================] - 17s 16ms/step - loss: 0.5121 - accuracy: 0.7620 - f1_score: 0.7558 - val_loss: 0.5610 - val_accuracy: 0.7159 - val_f1_score: 0.7100\n",
            "Epoch 88/90\n",
            "1060/1060 [==============================] - 18s 17ms/step - loss: 0.5119 - accuracy: 0.7613 - f1_score: 0.7559 - val_loss: 0.5610 - val_accuracy: 0.7138 - val_f1_score: 0.7076\n",
            "Epoch 89/90\n",
            "1060/1060 [==============================] - 17s 16ms/step - loss: 0.5117 - accuracy: 0.7611 - f1_score: 0.7546 - val_loss: 0.5609 - val_accuracy: 0.7140 - val_f1_score: 0.7075\n",
            "Epoch 90/90\n",
            "1060/1060 [==============================] - 17s 16ms/step - loss: 0.5116 - accuracy: 0.7620 - f1_score: 0.7554 - val_loss: 0.5621 - val_accuracy: 0.7159 - val_f1_score: 0.7092\n"
          ],
          "name": "stdout"
        }
      ]
    },
    {
      "cell_type": "code",
      "metadata": {
        "id": "O1f4uPPNSZ82",
        "outputId": "4f31ce28-24bb-4bc9-f8f0-de46458268dd",
        "colab": {
          "base_uri": "https://localhost:8080/"
        }
      },
      "source": [
        "binary = True\n",
        "if binary:\n",
        "  model.save('/content/binary_model_4')\n",
        "\n",
        "save_to_drive=True\n",
        "if save_to_drive:\n",
        "  model.save('/content/drive/My Drive/Haptic Vest/binary_model_4')"
      ],
      "execution_count": 180,
      "outputs": [
        {
          "output_type": "stream",
          "text": [
            "INFO:tensorflow:Assets written to: /content/binary_model_4/assets\n",
            "INFO:tensorflow:Assets written to: /content/drive/My Drive/Haptic Vest/binary_model_4/assets\n"
          ],
          "name": "stdout"
        }
      ]
    },
    {
      "cell_type": "code",
      "metadata": {
        "id": "Wcd_QyBnSfNM",
        "outputId": "568b20a5-281d-4ec5-b91c-d75b772bc8ed",
        "colab": {
          "base_uri": "https://localhost:8080/"
        }
      },
      "source": [
        "fifth_train_epochs=300 + fourth_train_epochs\n",
        "\n",
        "history_cont4 = model.fit(train_dataset,\n",
        "                initial_epoch=history_cont3.epoch[-1],\n",
        "                epochs=fifth_train_epochs,\n",
        "                validation_data=dev_dataset)"
      ],
      "execution_count": null,
      "outputs": [
        {
          "output_type": "stream",
          "text": [
            "Epoch 90/390\n",
            "1060/1060 [==============================] - 17s 16ms/step - loss: 0.5121 - accuracy: 0.7617 - f1_score: 0.7558 - val_loss: 0.5653 - val_accuracy: 0.7117 - val_f1_score: 0.7041\n",
            "Epoch 91/390\n",
            "1060/1060 [==============================] - 17s 16ms/step - loss: 0.5124 - accuracy: 0.7607 - f1_score: 0.7542 - val_loss: 0.5613 - val_accuracy: 0.7116 - val_f1_score: 0.7049\n",
            "Epoch 92/390\n",
            "1060/1060 [==============================] - 17s 16ms/step - loss: 0.5118 - accuracy: 0.7631 - f1_score: 0.7559 - val_loss: 0.5548 - val_accuracy: 0.7164 - val_f1_score: 0.7112\n",
            "Epoch 93/390\n",
            "1060/1060 [==============================] - 17s 16ms/step - loss: 0.5118 - accuracy: 0.7623 - f1_score: 0.7559 - val_loss: 0.5623 - val_accuracy: 0.7106 - val_f1_score: 0.7037\n",
            "Epoch 94/390\n",
            "1060/1060 [==============================] - 17s 16ms/step - loss: 0.5108 - accuracy: 0.7635 - f1_score: 0.7570 - val_loss: 0.5620 - val_accuracy: 0.7140 - val_f1_score: 0.7072\n",
            "Epoch 95/390\n",
            "1060/1060 [==============================] - 17s 16ms/step - loss: 0.5122 - accuracy: 0.7614 - f1_score: 0.7548 - val_loss: 0.5610 - val_accuracy: 0.7159 - val_f1_score: 0.7094\n",
            "Epoch 96/390\n",
            "1060/1060 [==============================] - 17s 16ms/step - loss: 0.5112 - accuracy: 0.7633 - f1_score: 0.7567 - val_loss: 0.5648 - val_accuracy: 0.7127 - val_f1_score: 0.7053\n",
            "Epoch 97/390\n",
            "1060/1060 [==============================] - 17s 16ms/step - loss: 0.5115 - accuracy: 0.7635 - f1_score: 0.7569 - val_loss: 0.5624 - val_accuracy: 0.7136 - val_f1_score: 0.7071\n",
            "Epoch 98/390\n",
            "1060/1060 [==============================] - 17s 16ms/step - loss: 0.5111 - accuracy: 0.7635 - f1_score: 0.7575 - val_loss: 0.5564 - val_accuracy: 0.7151 - val_f1_score: 0.7100\n",
            "Epoch 99/390\n",
            "1060/1060 [==============================] - 17s 16ms/step - loss: 0.5110 - accuracy: 0.7640 - f1_score: 0.7571 - val_loss: 0.5602 - val_accuracy: 0.7164 - val_f1_score: 0.7102\n",
            "Epoch 100/390\n",
            "1060/1060 [==============================] - 17s 16ms/step - loss: 0.5115 - accuracy: 0.7636 - f1_score: 0.7575 - val_loss: 0.5604 - val_accuracy: 0.7136 - val_f1_score: 0.7072\n",
            "Epoch 101/390\n",
            "1060/1060 [==============================] - 17s 16ms/step - loss: 0.5108 - accuracy: 0.7634 - f1_score: 0.7572 - val_loss: 0.5588 - val_accuracy: 0.7161 - val_f1_score: 0.7098\n",
            "Epoch 102/390\n",
            "1060/1060 [==============================] - 17s 16ms/step - loss: 0.5118 - accuracy: 0.7632 - f1_score: 0.7569 - val_loss: 0.5590 - val_accuracy: 0.7146 - val_f1_score: 0.7086\n",
            "Epoch 103/390\n",
            "1060/1060 [==============================] - 17s 16ms/step - loss: 0.5111 - accuracy: 0.7639 - f1_score: 0.7573 - val_loss: 0.5634 - val_accuracy: 0.7151 - val_f1_score: 0.7079\n",
            "Epoch 104/390\n",
            "1060/1060 [==============================] - 17s 16ms/step - loss: 0.5119 - accuracy: 0.7628 - f1_score: 0.7571 - val_loss: 0.5553 - val_accuracy: 0.7207 - val_f1_score: 0.7154\n",
            "Epoch 105/390\n",
            "1060/1060 [==============================] - 17s 16ms/step - loss: 0.5118 - accuracy: 0.7641 - f1_score: 0.7578 - val_loss: 0.5594 - val_accuracy: 0.7166 - val_f1_score: 0.7107\n",
            "Epoch 106/390\n",
            "1060/1060 [==============================] - 16s 15ms/step - loss: 0.5116 - accuracy: 0.7626 - f1_score: 0.7563 - val_loss: 0.5675 - val_accuracy: 0.7123 - val_f1_score: 0.7043\n",
            "Epoch 107/390\n",
            "1060/1060 [==============================] - 16s 16ms/step - loss: 0.5119 - accuracy: 0.7645 - f1_score: 0.7577 - val_loss: 0.5578 - val_accuracy: 0.7183 - val_f1_score: 0.7123\n",
            "Epoch 108/390\n",
            "1060/1060 [==============================] - 17s 16ms/step - loss: 0.5115 - accuracy: 0.7631 - f1_score: 0.7567 - val_loss: 0.5541 - val_accuracy: 0.7194 - val_f1_score: 0.7147\n",
            "Epoch 109/390\n",
            "1060/1060 [==============================] - 17s 16ms/step - loss: 0.5114 - accuracy: 0.7636 - f1_score: 0.7582 - val_loss: 0.5540 - val_accuracy: 0.7185 - val_f1_score: 0.7135\n",
            "Epoch 110/390\n",
            "1060/1060 [==============================] - 17s 16ms/step - loss: 0.5103 - accuracy: 0.7633 - f1_score: 0.7571 - val_loss: 0.5566 - val_accuracy: 0.7202 - val_f1_score: 0.7145\n",
            "Epoch 111/390\n",
            "1060/1060 [==============================] - 17s 16ms/step - loss: 0.5102 - accuracy: 0.7650 - f1_score: 0.7589 - val_loss: 0.5601 - val_accuracy: 0.7164 - val_f1_score: 0.7102\n",
            "Epoch 112/390\n",
            "1060/1060 [==============================] - 17s 16ms/step - loss: 0.5117 - accuracy: 0.7643 - f1_score: 0.7575 - val_loss: 0.5604 - val_accuracy: 0.7190 - val_f1_score: 0.7129\n",
            "Epoch 113/390\n",
            "1060/1060 [==============================] - 17s 16ms/step - loss: 0.5118 - accuracy: 0.7630 - f1_score: 0.7571 - val_loss: 0.5598 - val_accuracy: 0.7157 - val_f1_score: 0.7095\n",
            "Epoch 114/390\n",
            "1060/1060 [==============================] - 17s 16ms/step - loss: 0.5113 - accuracy: 0.7645 - f1_score: 0.7583 - val_loss: 0.5590 - val_accuracy: 0.7140 - val_f1_score: 0.7081\n",
            "Epoch 115/390\n",
            "1060/1060 [==============================] - 17s 16ms/step - loss: 0.5114 - accuracy: 0.7633 - f1_score: 0.7574 - val_loss: 0.5614 - val_accuracy: 0.7151 - val_f1_score: 0.7081\n",
            "Epoch 116/390\n",
            "1060/1060 [==============================] - 17s 16ms/step - loss: 0.5103 - accuracy: 0.7639 - f1_score: 0.7576 - val_loss: 0.5565 - val_accuracy: 0.7166 - val_f1_score: 0.7111\n",
            "Epoch 117/390\n",
            "1060/1060 [==============================] - 17s 16ms/step - loss: 0.5103 - accuracy: 0.7638 - f1_score: 0.7576 - val_loss: 0.5545 - val_accuracy: 0.7155 - val_f1_score: 0.7107\n",
            "Epoch 118/390\n",
            "1060/1060 [==============================] - 17s 16ms/step - loss: 0.5099 - accuracy: 0.7639 - f1_score: 0.7579 - val_loss: 0.5575 - val_accuracy: 0.7164 - val_f1_score: 0.7107\n",
            "Epoch 119/390\n",
            "1060/1060 [==============================] - 17s 16ms/step - loss: 0.5104 - accuracy: 0.7635 - f1_score: 0.7573 - val_loss: 0.5583 - val_accuracy: 0.7159 - val_f1_score: 0.7097\n",
            "Epoch 120/390\n",
            "1060/1060 [==============================] - 17s 16ms/step - loss: 0.5110 - accuracy: 0.7636 - f1_score: 0.7577 - val_loss: 0.5538 - val_accuracy: 0.7179 - val_f1_score: 0.7135\n",
            "Epoch 121/390\n",
            "1060/1060 [==============================] - 17s 16ms/step - loss: 0.5105 - accuracy: 0.7639 - f1_score: 0.7580 - val_loss: 0.5587 - val_accuracy: 0.7174 - val_f1_score: 0.7112\n",
            "Epoch 122/390\n",
            "1060/1060 [==============================] - 18s 17ms/step - loss: 0.5098 - accuracy: 0.7637 - f1_score: 0.7578 - val_loss: 0.5545 - val_accuracy: 0.7166 - val_f1_score: 0.7116\n",
            "Epoch 123/390\n",
            "1060/1060 [==============================] - 18s 17ms/step - loss: 0.5099 - accuracy: 0.7626 - f1_score: 0.7569 - val_loss: 0.5538 - val_accuracy: 0.7205 - val_f1_score: 0.7156\n",
            "Epoch 124/390\n",
            "1060/1060 [==============================] - 17s 16ms/step - loss: 0.5095 - accuracy: 0.7618 - f1_score: 0.7559 - val_loss: 0.5629 - val_accuracy: 0.7102 - val_f1_score: 0.7030\n",
            "Epoch 125/390\n",
            "1060/1060 [==============================] - 18s 17ms/step - loss: 0.5110 - accuracy: 0.7629 - f1_score: 0.7570 - val_loss: 0.5536 - val_accuracy: 0.7239 - val_f1_score: 0.7194\n",
            "Epoch 126/390\n",
            "1060/1060 [==============================] - 18s 17ms/step - loss: 0.5088 - accuracy: 0.7633 - f1_score: 0.7578 - val_loss: 0.5536 - val_accuracy: 0.7224 - val_f1_score: 0.7180\n",
            "Epoch 127/390\n",
            "1060/1060 [==============================] - 18s 17ms/step - loss: 0.5092 - accuracy: 0.7638 - f1_score: 0.7577 - val_loss: 0.5538 - val_accuracy: 0.7250 - val_f1_score: 0.7203\n",
            "Epoch 128/390\n",
            "1060/1060 [==============================] - 18s 17ms/step - loss: 0.5084 - accuracy: 0.7644 - f1_score: 0.7589 - val_loss: 0.5506 - val_accuracy: 0.7217 - val_f1_score: 0.7176\n",
            "Epoch 129/390\n",
            "1060/1060 [==============================] - 18s 17ms/step - loss: 0.5089 - accuracy: 0.7636 - f1_score: 0.7579 - val_loss: 0.5556 - val_accuracy: 0.7174 - val_f1_score: 0.7121\n",
            "Epoch 130/390\n",
            "1060/1060 [==============================] - 18s 17ms/step - loss: 0.5090 - accuracy: 0.7639 - f1_score: 0.7577 - val_loss: 0.5624 - val_accuracy: 0.7162 - val_f1_score: 0.7091\n",
            "Epoch 131/390\n",
            "1060/1060 [==============================] - 18s 17ms/step - loss: 0.5080 - accuracy: 0.7647 - f1_score: 0.7594 - val_loss: 0.5590 - val_accuracy: 0.7200 - val_f1_score: 0.7138\n",
            "Epoch 132/390\n",
            "1060/1060 [==============================] - 18s 17ms/step - loss: 0.5078 - accuracy: 0.7643 - f1_score: 0.7588 - val_loss: 0.5539 - val_accuracy: 0.7198 - val_f1_score: 0.7146\n",
            "Epoch 133/390\n",
            "1060/1060 [==============================] - 18s 17ms/step - loss: 0.5080 - accuracy: 0.7639 - f1_score: 0.7581 - val_loss: 0.5562 - val_accuracy: 0.7209 - val_f1_score: 0.7152\n",
            "Epoch 134/390\n",
            "1060/1060 [==============================] - 18s 17ms/step - loss: 0.5083 - accuracy: 0.7636 - f1_score: 0.7578 - val_loss: 0.5570 - val_accuracy: 0.7202 - val_f1_score: 0.7142\n",
            "Epoch 135/390\n",
            "1060/1060 [==============================] - 18s 17ms/step - loss: 0.5084 - accuracy: 0.7639 - f1_score: 0.7578 - val_loss: 0.5587 - val_accuracy: 0.7204 - val_f1_score: 0.7141\n",
            "Epoch 136/390\n",
            "1060/1060 [==============================] - 18s 17ms/step - loss: 0.5082 - accuracy: 0.7657 - f1_score: 0.7598 - val_loss: 0.5544 - val_accuracy: 0.7235 - val_f1_score: 0.7184\n",
            "Epoch 137/390\n",
            "1060/1060 [==============================] - 17s 17ms/step - loss: 0.5077 - accuracy: 0.7644 - f1_score: 0.7580 - val_loss: 0.5582 - val_accuracy: 0.7185 - val_f1_score: 0.7124\n",
            "Epoch 138/390\n",
            "1060/1060 [==============================] - 17s 16ms/step - loss: 0.5078 - accuracy: 0.7650 - f1_score: 0.7592 - val_loss: 0.5604 - val_accuracy: 0.7179 - val_f1_score: 0.7112\n",
            "Epoch 139/390\n",
            "1060/1060 [==============================] - 17s 16ms/step - loss: 0.5086 - accuracy: 0.7639 - f1_score: 0.7588 - val_loss: 0.5487 - val_accuracy: 0.7222 - val_f1_score: 0.7189\n",
            "Epoch 140/390\n",
            "1060/1060 [==============================] - 18s 17ms/step - loss: 0.5085 - accuracy: 0.7647 - f1_score: 0.7593 - val_loss: 0.5603 - val_accuracy: 0.7185 - val_f1_score: 0.7118\n",
            "Epoch 141/390\n",
            "1060/1060 [==============================] - 18s 17ms/step - loss: 0.5074 - accuracy: 0.7656 - f1_score: 0.7596 - val_loss: 0.5514 - val_accuracy: 0.7200 - val_f1_score: 0.7156\n",
            "Epoch 142/390\n",
            "1060/1060 [==============================] - 18s 17ms/step - loss: 0.5082 - accuracy: 0.7639 - f1_score: 0.7587 - val_loss: 0.5552 - val_accuracy: 0.7213 - val_f1_score: 0.7159\n",
            "Epoch 143/390\n",
            "1060/1060 [==============================] - 17s 16ms/step - loss: 0.5075 - accuracy: 0.7638 - f1_score: 0.7588 - val_loss: 0.5542 - val_accuracy: 0.7202 - val_f1_score: 0.7151\n",
            "Epoch 144/390\n",
            "1060/1060 [==============================] - 17s 16ms/step - loss: 0.5081 - accuracy: 0.7640 - f1_score: 0.7574 - val_loss: 0.5582 - val_accuracy: 0.7168 - val_f1_score: 0.7107\n",
            "Epoch 145/390\n",
            "1060/1060 [==============================] - 17s 17ms/step - loss: 0.5079 - accuracy: 0.7643 - f1_score: 0.7594 - val_loss: 0.5579 - val_accuracy: 0.7189 - val_f1_score: 0.7131\n",
            "Epoch 146/390\n",
            "1060/1060 [==============================] - 17s 16ms/step - loss: 0.5072 - accuracy: 0.7642 - f1_score: 0.7587 - val_loss: 0.5538 - val_accuracy: 0.7192 - val_f1_score: 0.7142\n",
            "Epoch 147/390\n",
            "1060/1060 [==============================] - 17s 16ms/step - loss: 0.5079 - accuracy: 0.7659 - f1_score: 0.7608 - val_loss: 0.5527 - val_accuracy: 0.7202 - val_f1_score: 0.7154\n",
            "Epoch 148/390\n",
            "1060/1060 [==============================] - 17s 16ms/step - loss: 0.5081 - accuracy: 0.7644 - f1_score: 0.7589 - val_loss: 0.5580 - val_accuracy: 0.7217 - val_f1_score: 0.7159\n",
            "Epoch 149/390\n",
            "1060/1060 [==============================] - 17s 16ms/step - loss: 0.5082 - accuracy: 0.7644 - f1_score: 0.7586 - val_loss: 0.5563 - val_accuracy: 0.7179 - val_f1_score: 0.7123\n",
            "Epoch 150/390\n",
            "1060/1060 [==============================] - 17s 16ms/step - loss: 0.5085 - accuracy: 0.7651 - f1_score: 0.7602 - val_loss: 0.5545 - val_accuracy: 0.7237 - val_f1_score: 0.7187\n",
            "Epoch 151/390\n",
            "1060/1060 [==============================] - 17s 16ms/step - loss: 0.5076 - accuracy: 0.7657 - f1_score: 0.7607 - val_loss: 0.5545 - val_accuracy: 0.7232 - val_f1_score: 0.7180\n",
            "Epoch 152/390\n",
            "1060/1060 [==============================] - 17s 16ms/step - loss: 0.5083 - accuracy: 0.7631 - f1_score: 0.7574 - val_loss: 0.5584 - val_accuracy: 0.7174 - val_f1_score: 0.7113\n",
            "Epoch 153/390\n",
            "1060/1060 [==============================] - 17s 16ms/step - loss: 0.5073 - accuracy: 0.7645 - f1_score: 0.7590 - val_loss: 0.5562 - val_accuracy: 0.7222 - val_f1_score: 0.7166\n",
            "Epoch 154/390\n",
            "1060/1060 [==============================] - 17s 16ms/step - loss: 0.5074 - accuracy: 0.7648 - f1_score: 0.7590 - val_loss: 0.5604 - val_accuracy: 0.7146 - val_f1_score: 0.7081\n",
            "Epoch 155/390\n",
            "1060/1060 [==============================] - 17s 16ms/step - loss: 0.5079 - accuracy: 0.7650 - f1_score: 0.7593 - val_loss: 0.5588 - val_accuracy: 0.7202 - val_f1_score: 0.7138\n",
            "Epoch 156/390\n",
            "1060/1060 [==============================] - 17s 16ms/step - loss: 0.5075 - accuracy: 0.7657 - f1_score: 0.7603 - val_loss: 0.5572 - val_accuracy: 0.7192 - val_f1_score: 0.7134\n",
            "Epoch 157/390\n",
            "1060/1060 [==============================] - 17s 16ms/step - loss: 0.5072 - accuracy: 0.7654 - f1_score: 0.7598 - val_loss: 0.5548 - val_accuracy: 0.7249 - val_f1_score: 0.7196\n",
            "Epoch 158/390\n",
            "1060/1060 [==============================] - 17s 16ms/step - loss: 0.5075 - accuracy: 0.7651 - f1_score: 0.7603 - val_loss: 0.5452 - val_accuracy: 0.7292 - val_f1_score: 0.7263\n",
            "Epoch 159/390\n",
            "1060/1060 [==============================] - 17s 16ms/step - loss: 0.5076 - accuracy: 0.7644 - f1_score: 0.7589 - val_loss: 0.5603 - val_accuracy: 0.7192 - val_f1_score: 0.7127\n",
            "Epoch 160/390\n",
            "1060/1060 [==============================] - 17s 16ms/step - loss: 0.5068 - accuracy: 0.7663 - f1_score: 0.7603 - val_loss: 0.5546 - val_accuracy: 0.7205 - val_f1_score: 0.7154\n",
            "Epoch 161/390\n",
            "1060/1060 [==============================] - 17s 16ms/step - loss: 0.5078 - accuracy: 0.7648 - f1_score: 0.7589 - val_loss: 0.5572 - val_accuracy: 0.7207 - val_f1_score: 0.7150\n",
            "Epoch 162/390\n",
            "1060/1060 [==============================] - 17s 16ms/step - loss: 0.5073 - accuracy: 0.7643 - f1_score: 0.7584 - val_loss: 0.5575 - val_accuracy: 0.7209 - val_f1_score: 0.7149\n",
            "Epoch 163/390\n",
            "1060/1060 [==============================] - 17s 16ms/step - loss: 0.5073 - accuracy: 0.7651 - f1_score: 0.7592 - val_loss: 0.5560 - val_accuracy: 0.7209 - val_f1_score: 0.7154\n",
            "Epoch 164/390\n",
            "1060/1060 [==============================] - 18s 17ms/step - loss: 0.5072 - accuracy: 0.7649 - f1_score: 0.7590 - val_loss: 0.5608 - val_accuracy: 0.7172 - val_f1_score: 0.7107\n",
            "Epoch 165/390\n",
            "1060/1060 [==============================] - 17s 16ms/step - loss: 0.5079 - accuracy: 0.7653 - f1_score: 0.7603 - val_loss: 0.5592 - val_accuracy: 0.7192 - val_f1_score: 0.7129\n",
            "Epoch 166/390\n",
            "1060/1060 [==============================] - 17s 16ms/step - loss: 0.5069 - accuracy: 0.7658 - f1_score: 0.7602 - val_loss: 0.5606 - val_accuracy: 0.7202 - val_f1_score: 0.7135\n",
            "Epoch 167/390\n",
            " 799/1060 [=====================>........] - ETA: 3s - loss: 0.5071 - accuracy: 0.7634 - f1_score: 0.7579"
          ],
          "name": "stdout"
        }
      ]
    },
    {
      "cell_type": "code",
      "metadata": {
        "id": "gaE1-cA-SoDO"
      },
      "source": [
        "binary = True\n",
        "if binary:\n",
        "  model.save('/content/binary_model_5')\n",
        "\n",
        "save_to_drive=True\n",
        "if save_to_drive:\n",
        "  model.save('/content/drive/My Drive/Haptic Vest/binary_model_5')"
      ],
      "execution_count": null,
      "outputs": []
    },
    {
      "cell_type": "markdown",
      "metadata": {
        "id": "dbAa0XgYpKta"
      },
      "source": [
        "## Learning Plot"
      ]
    },
    {
      "cell_type": "code",
      "metadata": {
        "id": "RuBnzJRdoeeE",
        "colab": {
          "base_uri": "https://localhost:8080/",
          "height": 730
        },
        "outputId": "7c2119bd-8900-4375-a3f1-e96855635eb7"
      },
      "source": [
        "acc = history.history['accuracy']\n",
        "val_acc = history.history['val_accuracy']\n",
        "\n",
        "loss = history.history['loss']\n",
        "val_loss = history.history['val_loss']\n",
        "\n",
        "\n",
        "f1_score_hist = history.history['f1_score']\n",
        "val_f1_score = history.history['val_f1_score']\n",
        "\n",
        "plt.figure(figsize=(12, 12))\n",
        "plt.subplot(3, 1, 1)\n",
        "plt.plot(acc, label='Training Accuracy')\n",
        "plt.plot(val_acc, label='Validation Accuracy')\n",
        "plt.legend(loc='lower right')\n",
        "plt.ylabel('Accuracy')\n",
        "plt.ylim([min(plt.ylim()),1])\n",
        "plt.title('Training and Validation Accuracy')\n",
        "\n",
        "plt.subplot(3, 1, 2)\n",
        "plt.plot(loss, label='Training Loss')\n",
        "plt.plot(val_loss, label='Validation Loss')\n",
        "plt.legend(loc='upper right')\n",
        "plt.ylabel('Cross Entropy')\n",
        "plt.ylim([0.2,0.8])\n",
        "plt.title('Training and Validation Loss')\n",
        "\n",
        "plt.subplot(3, 1, 3)\n",
        "plt.plot(f1_score_hist, label='Training Weighted F1 Score')\n",
        "plt.plot(val_f1_score, label='Validation Weighted F1 Score')\n",
        "plt.legend(loc='upper right')\n",
        "plt.ylabel('Weighted F1 Score')\n",
        "plt.ylim([0.7,1.0])\n",
        "plt.title('Training and Validation Weighted F1 Score')\n",
        "plt.xlabel('epoch')\n",
        "plt.show()"
      ],
      "execution_count": 21,
      "outputs": [
        {
          "output_type": "display_data",
          "data": {
            "image/png": "[encoded data removed]",
            "text/plain": [
              "<Figure size 864x864 with 3 Axes>"
            ]
          },
          "metadata": {
            "tags": [],
            "needs_background": "light"
          }
        }
      ]
    },
    {
      "cell_type": "markdown",
      "metadata": {
        "id": "WtkTOy_st5M_"
      },
      "source": [
        "# Rounded Weights Evaluation"
      ]
    },
    {
      "cell_type": "code",
      "metadata": {
        "id": "OLS7Xl8QuFNl",
        "colab": {
          "base_uri": "https://localhost:8080/"
        },
        "outputId": "cfc7fc3f-fe69-4875-accf-7612ae997a16"
      },
      "source": [
        "def modify_weights(weights, transform):\n",
        "  new_weights = []\n",
        "  for layer_num, layer_weights in enumerate(weights):\n",
        "    if layer_num < len(weights):\n",
        "      new_weights.append(transform(layer_weights))\n",
        "      # print(f\"=============== Layer {layer_num} ===============\\n\")\n",
        "      # print(layer_weights)\n",
        "      # print(new_weights[layer_num])\n",
        "      # print('\\n')\n",
        "  return new_weights\n",
        "\n",
        "\n",
        "def round2(layer_weights):\n",
        "  return np.round_(layer_weights, 2)\n",
        "\n",
        "def round1(layer_weights):\n",
        "  return np.round_(layer_weights, 1)\n",
        "\n",
        "def round0(layer_weights):\n",
        "  return np.round_(layer_weights)\n",
        "\n",
        "def pow_2_scale(layer_weights):\n",
        "  sign = binarise(layer_weights)\n",
        "  pow_2 = sign*2**(-np.round_(np.log2(np.absolute(layer_weights))))\n",
        "  return pow_2\n",
        "\n",
        "def binarise(layer_weights):\n",
        "  return 2*((layer_weights < 0) - 0.5)\n",
        "\n",
        "def ints_scaling(layer_weights):\n",
        "  return np.round_(np.clip(100*(layer_weights - np.mean(layer_weights)) / np.sqrt(np.var(layer_weights)), -100.,100))\n",
        "\n",
        "# transform = round2\n",
        "# transform = pow_2_scale\n",
        "# transform = binarise\n",
        "transform = ints_scaling\n",
        "\n",
        "\n",
        "weights = model.get_weights() # returs a numpy list of weights\n",
        "new_weights = modify_weights(weights, transform)\n",
        "# print(new_weights[0].shape)\n",
        "print(new_weights[0][:,0])\n",
        "# print(new_weights[15][1])\n",
        "# print(weights[28].shape)"
      ],
      "execution_count": 614,
      "outputs": [
        {
          "output_type": "stream",
          "text": [
            "[ -35.  -28. -100. ... -100. -100.  -33.]\n"
          ],
          "name": "stdout"
        }
      ]
    },
    {
      "cell_type": "code",
      "metadata": {
        "id": "5kwsWRgtjpty"
      },
      "source": [
        "# fileptr = open('weights_test.txt','ab')\n",
        "# for layer_weights in new_weights:\n",
        "#     np.savetxt(fileptr, layer_weights, delimiter=' ')\n",
        "# fileptr.close()"
      ],
      "execution_count": 615,
      "outputs": []
    },
    {
      "cell_type": "code",
      "metadata": {
        "id": "Xr87kynvlG2I"
      },
      "source": [
        "\n",
        "\n",
        "binarised_test_model = keras.models.load_model('/content/binary_model_1', custom_objects={'Pow2Update':Pow2Update(), 'F1Score': tfa.metrics.F1Score})"
      ],
      "execution_count": 168,
      "outputs": []
    },
    {
      "cell_type": "code",
      "metadata": {
        "id": "U6ziuZFMCZbu"
      },
      "source": [
        "binarised_test_model.set_weights(new_weights)"
      ],
      "execution_count": 617,
      "outputs": []
    },
    {
      "cell_type": "code",
      "metadata": {
        "id": "eRxxPczRCdNT",
        "colab": {
          "base_uri": "https://localhost:8080/"
        },
        "outputId": "6bea7abe-5d17-4d84-aaee-51e86500a17c"
      },
      "source": [
        "_, accuracy = binarised_test_model.evaluate(train_dataset)\n",
        "print('Accuracy: %.2f' % (accuracy*100))\n",
        "\n",
        "_, accuracy, f1_score = model.evaluate(train_dataset)\n",
        "print('Accuracy: %.2f' % (accuracy*100))\n",
        "\n",
        "_, accuracy = binarised_test_model.evaluate(dev_dataset)\n",
        "print('Accuracy: %.2f' % (accuracy*100))\n",
        "\n",
        "_, accuracy, f1_score = model.evaluate(dev_dataset)\n",
        "print('Accuracy: %.2f' % (accuracy*100))\n",
        "\n",
        "_, accuracy = binarised_test_model.evaluate(test_dataset)\n",
        "print('Accuracy: %.2f' % (accuracy*100))\n",
        "\n",
        "_, accuracy, f1_score = model.evaluate(test_dataset)\n",
        "print('Accuracy: %.2f' % (accuracy*100))\n"
      ],
      "execution_count": 171,
      "outputs": [
        {
          "output_type": "stream",
          "text": [
            "1060/1060 [==============================] - 14s 14ms/step - loss: 0.5454 - accuracy: 0.7349\n",
            "Accuracy: 73.49\n",
            "1060/1060 [==============================] - 15s 14ms/step - loss: 0.5406 - accuracy: 0.7415 - f1_score: 0.7353\n",
            "Accuracy: 74.15\n",
            "167/167 [==============================] - 2s 13ms/step - loss: 0.5980 - accuracy: 0.6932\n",
            "Accuracy: 69.32\n",
            "167/167 [==============================] - 2s 13ms/step - loss: 0.5820 - accuracy: 0.6956 - f1_score: 0.6884\n",
            "Accuracy: 69.56\n",
            "89/89 [==============================] - 1s 12ms/step - loss: 0.5995 - accuracy: 0.6939\n",
            "Accuracy: 69.39\n",
            "89/89 [==============================] - 1s 14ms/step - loss: 0.5726 - accuracy: 0.7063 - f1_score: 0.7004\n",
            "Accuracy: 70.63\n"
          ],
          "name": "stdout"
        }
      ]
    },
    {
      "cell_type": "markdown",
      "metadata": {
        "id": "Nnu_S7EVpVah"
      },
      "source": [
        "# Evaluate on Test Set\n",
        "(COMMENTED until development finished)"
      ]
    },
    {
      "cell_type": "code",
      "metadata": {
        "id": "L3s1IeKlvQbJ"
      },
      "source": [
        "# _, accuracy = model.evaluate(dev_it)\n",
        "# print('Accuracy: %.2f' % (accuracy*100))"
      ],
      "execution_count": null,
      "outputs": []
    },
    {
      "cell_type": "markdown",
      "metadata": {
        "id": "hvxVlJaWphkn"
      },
      "source": [
        "# Convert tf model to tflite"
      ]
    },
    {
      "cell_type": "code",
      "metadata": {
        "id": "udxcPpIMvfHZ"
      },
      "source": [
        "# Convert\n",
        "converter = tf.lite.TFLiteConverter.from_keras_model(model)\n",
        "tflite_model = converter.convert()\n",
        "\n",
        "# Save\n",
        "with open('model.tflite', 'wb') as f:\n",
        "  f.write(tflite_model)"
      ],
      "execution_count": null,
      "outputs": []
    },
    {
      "cell_type": "code",
      "metadata": {
        "id": "zif8R5cBGw6N"
      },
      "source": [
        ""
      ],
      "execution_count": null,
      "outputs": []
    }
  ]
}