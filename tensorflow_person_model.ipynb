{
  "nbformat": 4,
  "nbformat_minor": 0,
  "metadata": {
    "colab": {
      "name": "tensorflow_person_model.ipynb",
      "provenance": [],
      "authorship_tag": "ABX9TyOdpatHYy2j0cZlLp0OWqd3",
      "include_colab_link": true
    },
    "kernelspec": {
      "name": "python3",
      "display_name": "Python 3"
    }
  },
  "cells": [
    {
      "cell_type": "markdown",
      "metadata": {
        "id": "view-in-github",
        "colab_type": "text"
      },
      "source": [
        "<a href=\"https://colab.research.google.com/github/PhilipPfeffer/haptic_vest/blob/main/tensorflow_person_model.ipynb\" target=\"_parent\"><img src=\"https://colab.research.google.com/assets/colab-badge.svg\" alt=\"Open In Colab\"/></a>"
      ]
    },
    {
      "cell_type": "code",
      "metadata": {
        "id": "a-dTdqYyY-6u"
      },
      "source": [
        "import tensorflow as tf\n",
        "from tensorflow import keras\n",
        "from tensorflow.keras import layers"
      ],
      "execution_count": null,
      "outputs": []
    },
    {
      "cell_type": "markdown",
      "metadata": {
        "id": "snPMwtpyZKXQ"
      },
      "source": [
        "# Define model and check its output shape\n",
        "- Will not work with non-linear topology (e.g. a residual connection, a multi-branch model)"
      ]
    },
    {
      "cell_type": "code",
      "metadata": {
        "id": "INjV56waZLSX",
        "outputId": "e2e1df53-8991-43d8-976e-d5e9cc17faca",
        "colab": {
          "base_uri": "https://localhost:8080/",
          "height": 782
        }
      },
      "source": [
        "model = keras.Sequential(\n",
        "    [\n",
        "        keras.Input(shape=(96, 96, 1)),  # 96x96 greyscale image\n",
        "        layers.Conv2D(filters=8, kernel_size=3, strides=2, padding='same', activation=\"relu\", name=\"c1\"),\n",
        "        layers.DepthwiseConv2D(3, padding='same', activation=\"relu\", name=\"dw1\"),\n",
        "        layers.Conv2D(16, 1, padding='same', activation=\"relu\", name=\"c2\"),\n",
        "        layers.DepthwiseConv2D(3, 2, padding='same', activation=\"relu\", name=\"dw2\"),\n",
        "        layers.Conv2D(32, 1, activation=\"relu\", name=\"c3\"),\n",
        "        layers.DepthwiseConv2D(3, padding='same', activation=\"relu\", name=\"dw3\"),\n",
        "        layers.Conv2D(32, 1, activation=\"relu\", name=\"c4\"),\n",
        "        layers.DepthwiseConv2D(3, 2, padding='same', activation=\"relu\", name=\"dw4\"),\n",
        "        layers.Conv2D(64, 1, activation=\"relu\", name=\"c5\"),\n",
        "        layers.DepthwiseConv2D(3, padding='same', activation=\"relu\", name=\"dw5\"),\n",
        "        layers.Conv2D(64, 1, activation=\"relu\", name=\"c6\"),\n",
        "        layers.DepthwiseConv2D(3, 2, padding='same', activation=\"relu\", name=\"dw6\"),\n",
        "        layers.Conv2D(64, 1, 2, activation=\"relu\", name=\"c_last\"),\n",
        "        layers.AveragePooling2D(name=\"pool\"),\n",
        "        # layers.Conv2D(1001, 1, activation=\"relu\", name=\"c_post_pool\"),\n",
        "        # layers.Reshape((1,1001), name=\"reshape\"),\n",
        "        layers.Flatten(name='flatten'),\n",
        "        layers.Dense(1001, name=\"dense\"),\n",
        "        layers.Dense(2, name=\"dense_2\"),\n",
        "        layers.Softmax(name=\"softmax\")\n",
        "    ]\n",
        ")\n",
        "\n",
        "\n",
        "model.summary()\n",
        "# Call model on a test input\n",
        "x = tf.ones((1, 96, 96, 1))\n",
        "y = model(x)\n",
        "assert(y.shape == (1,2))\n",
        "print(y)"
      ],
      "execution_count": null,
      "outputs": [
        {
          "output_type": "stream",
          "text": [
            "Model: \"sequential\"\n",
            "_________________________________________________________________\n",
            "Layer (type)                 Output Shape              Param #   \n",
            "=================================================================\n",
            "c1 (Conv2D)                  (None, 48, 48, 8)         80        \n",
            "_________________________________________________________________\n",
            "dw1 (DepthwiseConv2D)        (None, 48, 48, 8)         80        \n",
            "_________________________________________________________________\n",
            "c2 (Conv2D)                  (None, 48, 48, 16)        144       \n",
            "_________________________________________________________________\n",
            "dw2 (DepthwiseConv2D)        (None, 24, 24, 16)        160       \n",
            "_________________________________________________________________\n",
            "c3 (Conv2D)                  (None, 24, 24, 32)        544       \n",
            "_________________________________________________________________\n",
            "dw3 (DepthwiseConv2D)        (None, 24, 24, 32)        320       \n",
            "_________________________________________________________________\n",
            "c4 (Conv2D)                  (None, 24, 24, 32)        1056      \n",
            "_________________________________________________________________\n",
            "dw4 (DepthwiseConv2D)        (None, 12, 12, 32)        320       \n",
            "_________________________________________________________________\n",
            "c5 (Conv2D)                  (None, 12, 12, 64)        2112      \n",
            "_________________________________________________________________\n",
            "dw5 (DepthwiseConv2D)        (None, 12, 12, 64)        640       \n",
            "_________________________________________________________________\n",
            "c6 (Conv2D)                  (None, 12, 12, 64)        4160      \n",
            "_________________________________________________________________\n",
            "dw6 (DepthwiseConv2D)        (None, 6, 6, 64)          640       \n",
            "_________________________________________________________________\n",
            "c_last (Conv2D)              (None, 3, 3, 64)          4160      \n",
            "_________________________________________________________________\n",
            "pool (AveragePooling2D)      (None, 1, 1, 64)          0         \n",
            "_________________________________________________________________\n",
            "flatten (Flatten)            (None, 64)                0         \n",
            "_________________________________________________________________\n",
            "dense (Dense)                (None, 1001)              65065     \n",
            "_________________________________________________________________\n",
            "dense_2 (Dense)              (None, 2)                 2004      \n",
            "_________________________________________________________________\n",
            "softmax (Softmax)            (None, 2)                 0         \n",
            "=================================================================\n",
            "Total params: 81,485\n",
            "Trainable params: 81,485\n",
            "Non-trainable params: 0\n",
            "_________________________________________________________________\n",
            "tf.Tensor([[0.49999997 0.50000006]], shape=(1, 2), dtype=float32)\n"
          ],
          "name": "stdout"
        }
      ]
    },
    {
      "cell_type": "code",
      "metadata": {
        "id": "vBSJH2l1ZOE9"
      },
      "source": [
        ""
      ],
      "execution_count": null,
      "outputs": []
    }
  ]
}