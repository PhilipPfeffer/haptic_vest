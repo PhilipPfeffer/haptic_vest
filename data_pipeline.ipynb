{
  "nbformat": 4,
  "nbformat_minor": 0,
  "metadata": {
    "colab": {
      "name": "data_pipeline.ipynb",
      "provenance": [],
      "collapsed_sections": [],
      "mount_file_id": "https://github.com/PhilipPfeffer/haptic_vest/blob/main/data_pipeline.ipynb",
      "authorship_tag": "ABX9TyNyjVapILfX418RRn2sONff",
      "include_colab_link": true
    },
    "kernelspec": {
      "name": "python3",
      "display_name": "Python 3"
    }
  },
  "cells": [
    {
      "cell_type": "markdown",
      "metadata": {
        "id": "view-in-github",
        "colab_type": "text"
      },
      "source": [
        "<a href=\"https://colab.research.google.com/github/PhilipPfeffer/haptic_vest/blob/main/data_pipeline.ipynb\" target=\"_parent\"><img src=\"https://colab.research.google.com/assets/colab-badge.svg\" alt=\"Open In Colab\"/></a>"
      ]
    },
    {
      "cell_type": "markdown",
      "metadata": {
        "id": "efZFgs6keiII"
      },
      "source": [
        "# Data Pipeline"
      ]
    },
    {
      "cell_type": "markdown",
      "metadata": {
        "id": "4Z6wRpcb6YvR"
      },
      "source": [
        "#Import Data"
      ]
    },
    {
      "cell_type": "code",
      "metadata": {
        "id": "cLIT7Q_p6aQ-"
      },
      "source": [
        "from pycocotools.coco import COCO     # https://github.com/cocodataset/cocoapi/blob/master/PythonAPI/pycocotools/coco.py\n",
        "import numpy as np\n",
        "import skimage.io as io\n",
        "import matplotlib.pyplot as plt\n",
        "# import pylab\n"
      ],
      "execution_count": 1,
      "outputs": []
    },
    {
      "cell_type": "code",
      "metadata": {
        "id": "DCSE3OZV98zt",
        "outputId": "9b8b45d2-a844-42d1-e002-2dd8d0f68905",
        "colab": {
          "base_uri": "https://localhost:8080/",
          "height": 34
        }
      },
      "source": [
        "rel_path='..'\n",
        "datasetName='val2017'\n",
        "annotations=f'/content/drive/My Drive/Haptic Vest/coco_dataset/annotations/instances_{datasetName}.json'\n",
        "print(annotations)"
      ],
      "execution_count": 2,
      "outputs": [
        {
          "output_type": "stream",
          "text": [
            "/content/drive/My Drive/Haptic Vest/coco_dataset/annotations/instances_val2017.json\n"
          ],
          "name": "stdout"
        }
      ]
    },
    {
      "cell_type": "code",
      "metadata": {
        "id": "JVtWQ68r_KFI",
        "outputId": "b526c413-8fac-4272-c72c-c558a56b1fc5",
        "colab": {
          "base_uri": "https://localhost:8080/",
          "height": 85
        }
      },
      "source": [
        "# This line loads annotations from an instances_{datasetName}.json file into a COCO object so we can use the pycoco API\n",
        "coco = COCO(annotations)"
      ],
      "execution_count": 3,
      "outputs": [
        {
          "output_type": "stream",
          "text": [
            "loading annotations into memory...\n",
            "Done (t=2.23s)\n",
            "creating index...\n",
            "index created!\n"
          ],
          "name": "stdout"
        }
      ]
    },
    {
      "cell_type": "code",
      "metadata": {
        "id": "4dn55B3C_y30",
        "outputId": "dafd378e-283a-4f87-9a72-ff80df2e6259",
        "colab": {
          "base_uri": "https://localhost:8080/",
          "height": 156
        }
      },
      "source": [
        "# Display COCO categories and supercategories\n",
        "#  - catIds: are numbers associated with each category (e.g. 1 = person, person, 2 = vehicle, bicycle, ...)\n",
        "#  - cats: are the names of each category\n",
        "catIds = coco.getCatIds()\n",
        "cats = coco.loadCats(catIds)\n",
        "\n",
        "category_names = [cat['name'] for cat in cats]\n",
        "print(f\"There are {len(category_names)} categories.\")\n",
        "print(f\"COCO categories: \\n{' '.join(category_names)}\\n\")\n",
        "\n",
        "supercategory_names = set([cat['supercategory'] for cat in cats])\n",
        "print(f\"There are {len(supercategory_names)} supercategories.\")\n",
        "print(f\"COCO supercategories: \\n{' '.join(supercategory_names)}\")"
      ],
      "execution_count": 4,
      "outputs": [
        {
          "output_type": "stream",
          "text": [
            "There are 80 categories.\n",
            "COCO categories: \n",
            "person bicycle car motorcycle airplane bus train truck boat traffic light fire hydrant stop sign parking meter bench bird cat dog horse sheep cow elephant bear zebra giraffe backpack umbrella handbag tie suitcase frisbee skis snowboard sports ball kite baseball bat baseball glove skateboard surfboard tennis racket bottle wine glass cup fork knife spoon bowl banana apple sandwich orange broccoli carrot hot dog pizza donut cake chair couch potted plant bed dining table toilet tv laptop mouse remote keyboard cell phone microwave oven toaster sink refrigerator book clock vase scissors teddy bear hair drier toothbrush\n",
            "\n",
            "There are 12 supercategories.\n",
            "COCO supercategories: \n",
            "indoor sports kitchen appliance food person animal electronic outdoor vehicle accessory furniture\n"
          ],
          "name": "stdout"
        }
      ]
    },
    {
      "cell_type": "code",
      "metadata": {
        "id": "zE0K5P3lmOdb",
        "outputId": "cb056741-f674-4975-a113-6e6655db35a8",
        "colab": {
          "base_uri": "https://localhost:8080/",
          "height": 35
        }
      },
      "source": [
        "####################################################\n",
        "# Helper function that gets the category name \n",
        "# given its id.\n",
        "####################################################\n",
        "def get_cat_name(category_names, cat_id=1):\n",
        "  return category_names[person_cat_id[0]-1]\n",
        "\n",
        "get_cat_name(category_names, 1)"
      ],
      "execution_count": 35,
      "outputs": [
        {
          "output_type": "execute_result",
          "data": {
            "application/vnd.google.colaboratory.intrinsic+json": {
              "type": "string"
            },
            "text/plain": [
              "'person'"
            ]
          },
          "metadata": {
            "tags": []
          },
          "execution_count": 35
        }
      ]
    },
    {
      "cell_type": "markdown",
      "metadata": {
        "id": "IQnh_AtFcIgV"
      },
      "source": [
        "# Sort data"
      ]
    },
    {
      "cell_type": "markdown",
      "metadata": {
        "id": "R-ooXZobb_YW"
      },
      "source": [
        "## Images with people in them"
      ]
    },
    {
      "cell_type": "code",
      "metadata": {
        "id": "QfMnPl2zMayT",
        "outputId": "d2d8fdbd-a484-4676-9533-23f8b8379aa2",
        "colab": {
          "base_uri": "https://localhost:8080/",
          "height": 51
        }
      },
      "source": [
        "####################################################\n",
        "# Choosing a category:\n",
        "# USAGE: get_chosen_cat_data(coco, cat_name)\n",
        "# 1. Gets all the images in the dataset that have a\n",
        "#    given category.\n",
        "# 2. Gets all the annotations of that category in \n",
        "#    those images.\n",
        "# 3. Also gets other stuff, look at the last line\n",
        "####################################################\n",
        "\n",
        "def get_chosen_cat_id(coco, cat_name='person'):\n",
        "  chosen_cat_id = coco.getCatIds(catNms=[cat_name])[0];   # returns 1 for 'person'\n",
        "  return chosen_cat_id\n",
        "\n",
        "def get_chosen_cat_img_ids(coco, chosen_cat_id):\n",
        "  chosen_cat_img_ids = coco.getImgIds(catIds=chosen_cat_id)\n",
        "  return chosen_cat_img_ids\n",
        "\n",
        "def get_chosen_annotation_ids(coco, chosen_cat_img_ids, chosen_cat_id):\n",
        "  chosen_cat_annotation_ids = coco.getAnnIds(imgIds=chosen_cat_img_ids, catIds=chosen_cat_id)\n",
        "  return chosen_cat_annotation_ids\n",
        "\n",
        "def get_chosen_cat_annotations(coco, chosen_cat_annotation_ids):\n",
        "  chosen_cat_annotations = coco.loadAnns(chosen_cat_annotation_ids)\n",
        "  return chosen_cat_annotations\n",
        "\n",
        "def get_chosen_cat_img_data(coco, chosen_cat_img_ids):\n",
        "  chosen_cat_imgs_data = coco.loadImgs(chosen_cat_img_ids)\n",
        "  return chosen_cat_imgs_data\n",
        "\n",
        "def get_chosen_cat_data(coco, chosen_cat_name='person'):\n",
        "  chosen_cat_id = get_chosen_cat_id(coco, chosen_cat_name)\n",
        "  chosen_cat_img_ids = get_chosen_cat_img_ids(coco, chosen_cat_id)\n",
        "  chosen_cat_imgs_data = get_chosen_cat_img_data(coco, chosen_cat_img_ids)\n",
        "  chosen_cat_annotation_ids = get_chosen_annotation_ids(coco, chosen_cat_img_ids, chosen_cat_id)\n",
        "  chosen_cat_annotations = get_chosen_cat_annotations(coco, chosen_cat_annotation_ids)\n",
        "  print(f\"There are {len(chosen_cat_img_ids)} images with a {chosen_cat_name} in them in the \\\"{datasetName}\\\" dataset.\")\n",
        "  print(f\"Within those images, there are {len(chosen_cat_annotations)} {chosen_cat_name} annotations.\")    # Note: there are more annotations than images because each image has >1 annotation\n",
        "  return (chosen_cat_id, chosen_cat_img_ids, chosen_cat_imgs_data, chosen_cat_annotation_ids, chosen_cat_annotations)\n",
        "\n",
        "chosen_cat_id, chosen_cat_img_ids, chosen_cat_imgs_data, chosen_cat_annotation_ids, chosen_cat_annotations = get_chosen_cat_data(coco, 'person')"
      ],
      "execution_count": 54,
      "outputs": [
        {
          "output_type": "stream",
          "text": [
            "There are 2693 images with a person in them in the \"val2017\" dataset.\n",
            "Within those images, there are 11004 person annotations.\n"
          ],
          "name": "stdout"
        }
      ]
    },
    {
      "cell_type": "code",
      "metadata": {
        "id": "yo2fQRKUlS5Z",
        "outputId": "fde63e4f-9729-4026-c161-0727b313b292",
        "colab": {
          "base_uri": "https://localhost:8080/",
          "height": 34
        }
      },
      "source": [
        "####################################################\n",
        "# Checks that all the annotations are one category\n",
        "####################################################\n",
        "\n",
        "def check_all_anns_cat(person_annotations, category_names, cat_id=1):\n",
        "  if cat_id ==0:\n",
        "    print(\"We don't check for backgrounds, you're passing cat_id = 0.\")\n",
        "\n",
        "  cat_name = category_names[cat_id-1]   # offset because cat_names doesn't include 0=background \n",
        "  not_cat = False\n",
        "  for ann in person_annotations: \n",
        "    if (ann['category_id'] != cat_id): \n",
        "      not_cat = True\n",
        "      break\n",
        "  if not_cat:\n",
        "    print(f\"One of the annotations is not a {cat_name}.\")\n",
        "  else:\n",
        "    print(f\"All of the annotations are a {cat_name}.\")\n",
        "\n",
        "check_all_anns_cat(chosen_cat_annotations, category_names, chosen_cat_id)"
      ],
      "execution_count": 55,
      "outputs": [
        {
          "output_type": "stream",
          "text": [
            "All of the annotations are a person.\n"
          ],
          "name": "stdout"
        }
      ]
    },
    {
      "cell_type": "code",
      "metadata": {
        "id": "D549BhXjlrLv",
        "outputId": "1dcfc78b-ae8a-4c54-cace-64f57c80e10e",
        "colab": {
          "base_uri": "https://localhost:8080/",
          "height": 385
        }
      },
      "source": [
        "####################################################\n",
        "# Get images of all people with an area percentage\n",
        "####################################################\n",
        "# Variables to play with: threshold percentage area\n",
        "areaRngLowerBound = 6000\n",
        "areaRngUpperBound = float('inf')\n",
        "####################################################\n",
        "\n",
        "person_pctarea = {ann['image_id'] : ann['area']/(person_imgs_data[i]['height']*person_imgs_data[i]['width']) for i, ann in enumerate(person_annotations)}\n",
        "# person_image_size = {img_data['id']:  for img_data in person_imgs_data}\n",
        "\n",
        "# print(f\"There are {len(person_annotation_ids)} people within the specified area range.\")\n",
        "\n",
        "# person_pct = {image_id: np.round(person_imgId_to_area[image_id]/person_image_size[image_id],2) for image_id in person_image_size}\n",
        "print(person_pctarea)\n",
        "\n",
        "\n",
        "# Example: display the first person in the list with their annotations\n",
        "# Note: we can display each labelled pixel or the bounding box\n",
        "print(\"\\nHere is one of them with the pixel segmentation and bounding box displayed:\")\n",
        "first_person_annotations = person_annotations[0]\n",
        "first_person_img_id = first_person_annotations['image_id']\n",
        "first_person_img = coco.loadImgs(first_person_img_id)[0]\n",
        "io.imshow(io.imread(first_person_img['coco_url']))\n",
        "coco.showAnns([first_person_annotations], draw_bbox=True)"
      ],
      "execution_count": 39,
      "outputs": [
        {
          "output_type": "error",
          "ename": "IndexError",
          "evalue": "ignored",
          "traceback": [
            "\u001b[0;31m---------------------------------------------------------------------------\u001b[0m",
            "\u001b[0;31mIndexError\u001b[0m                                Traceback (most recent call last)",
            "\u001b[0;32m<ipython-input-39-8c3200036a87>\u001b[0m in \u001b[0;36m<module>\u001b[0;34m()\u001b[0m\n\u001b[1;32m      7\u001b[0m \u001b[0;31m####################################################\u001b[0m\u001b[0;34m\u001b[0m\u001b[0;34m\u001b[0m\u001b[0;34m\u001b[0m\u001b[0m\n\u001b[1;32m      8\u001b[0m \u001b[0;34m\u001b[0m\u001b[0m\n\u001b[0;32m----> 9\u001b[0;31m \u001b[0mperson_pctarea\u001b[0m \u001b[0;34m=\u001b[0m \u001b[0;34m{\u001b[0m\u001b[0mann\u001b[0m\u001b[0;34m[\u001b[0m\u001b[0;34m'image_id'\u001b[0m\u001b[0;34m]\u001b[0m \u001b[0;34m:\u001b[0m \u001b[0mann\u001b[0m\u001b[0;34m[\u001b[0m\u001b[0;34m'area'\u001b[0m\u001b[0;34m]\u001b[0m\u001b[0;34m/\u001b[0m\u001b[0;34m(\u001b[0m\u001b[0mperson_imgs_data\u001b[0m\u001b[0;34m[\u001b[0m\u001b[0mi\u001b[0m\u001b[0;34m]\u001b[0m\u001b[0;34m[\u001b[0m\u001b[0;34m'height'\u001b[0m\u001b[0;34m]\u001b[0m\u001b[0;34m*\u001b[0m\u001b[0mperson_imgs_data\u001b[0m\u001b[0;34m[\u001b[0m\u001b[0mi\u001b[0m\u001b[0;34m]\u001b[0m\u001b[0;34m[\u001b[0m\u001b[0;34m'width'\u001b[0m\u001b[0;34m]\u001b[0m\u001b[0;34m)\u001b[0m \u001b[0;32mfor\u001b[0m \u001b[0mi\u001b[0m\u001b[0;34m,\u001b[0m \u001b[0mann\u001b[0m \u001b[0;32min\u001b[0m \u001b[0menumerate\u001b[0m\u001b[0;34m(\u001b[0m\u001b[0mperson_annotations\u001b[0m\u001b[0;34m)\u001b[0m\u001b[0;34m}\u001b[0m\u001b[0;34m\u001b[0m\u001b[0;34m\u001b[0m\u001b[0m\n\u001b[0m\u001b[1;32m     10\u001b[0m \u001b[0;31m# person_image_size = {img_data['id']:  for img_data in person_imgs_data}\u001b[0m\u001b[0;34m\u001b[0m\u001b[0;34m\u001b[0m\u001b[0;34m\u001b[0m\u001b[0m\n\u001b[1;32m     11\u001b[0m \u001b[0;34m\u001b[0m\u001b[0m\n",
            "\u001b[0;32m<ipython-input-39-8c3200036a87>\u001b[0m in \u001b[0;36m<dictcomp>\u001b[0;34m(.0)\u001b[0m\n\u001b[1;32m      7\u001b[0m \u001b[0;31m####################################################\u001b[0m\u001b[0;34m\u001b[0m\u001b[0;34m\u001b[0m\u001b[0;34m\u001b[0m\u001b[0m\n\u001b[1;32m      8\u001b[0m \u001b[0;34m\u001b[0m\u001b[0m\n\u001b[0;32m----> 9\u001b[0;31m \u001b[0mperson_pctarea\u001b[0m \u001b[0;34m=\u001b[0m \u001b[0;34m{\u001b[0m\u001b[0mann\u001b[0m\u001b[0;34m[\u001b[0m\u001b[0;34m'image_id'\u001b[0m\u001b[0;34m]\u001b[0m \u001b[0;34m:\u001b[0m \u001b[0mann\u001b[0m\u001b[0;34m[\u001b[0m\u001b[0;34m'area'\u001b[0m\u001b[0;34m]\u001b[0m\u001b[0;34m/\u001b[0m\u001b[0;34m(\u001b[0m\u001b[0mperson_imgs_data\u001b[0m\u001b[0;34m[\u001b[0m\u001b[0mi\u001b[0m\u001b[0;34m]\u001b[0m\u001b[0;34m[\u001b[0m\u001b[0;34m'height'\u001b[0m\u001b[0;34m]\u001b[0m\u001b[0;34m*\u001b[0m\u001b[0mperson_imgs_data\u001b[0m\u001b[0;34m[\u001b[0m\u001b[0mi\u001b[0m\u001b[0;34m]\u001b[0m\u001b[0;34m[\u001b[0m\u001b[0;34m'width'\u001b[0m\u001b[0;34m]\u001b[0m\u001b[0;34m)\u001b[0m \u001b[0;32mfor\u001b[0m \u001b[0mi\u001b[0m\u001b[0;34m,\u001b[0m \u001b[0mann\u001b[0m \u001b[0;32min\u001b[0m \u001b[0menumerate\u001b[0m\u001b[0;34m(\u001b[0m\u001b[0mperson_annotations\u001b[0m\u001b[0;34m)\u001b[0m\u001b[0;34m}\u001b[0m\u001b[0;34m\u001b[0m\u001b[0;34m\u001b[0m\u001b[0m\n\u001b[0m\u001b[1;32m     10\u001b[0m \u001b[0;31m# person_image_size = {img_data['id']:  for img_data in person_imgs_data}\u001b[0m\u001b[0;34m\u001b[0m\u001b[0;34m\u001b[0m\u001b[0;34m\u001b[0m\u001b[0m\n\u001b[1;32m     11\u001b[0m \u001b[0;34m\u001b[0m\u001b[0m\n",
            "\u001b[0;31mIndexError\u001b[0m: list index out of range"
          ]
        }
      ]
    },
    {
      "cell_type": "code",
      "metadata": {
        "id": "MGxvJ6UAFZiq"
      },
      "source": [
        "####################################################\n",
        "# Example of loading an image from the URL [COMMENTED]\n",
        "####################################################\n",
        "# np.random.seed(1)   # for debugging purposes\n",
        "# catIds = coco.getCatIds(catNms=['person']);\n",
        "# imgIds = coco.getImgIds(catIds=catIds );\n",
        "\n",
        "# # Load image with URL (using io)\n",
        "# img = coco.loadImgs(imgIds[np.random.randint(0,len(imgIds))])[0]\n",
        "# person_rand_img = io.imread(img['coco_url'])\n",
        "# io.imshow(person_rand_img)\n",
        "\n",
        "# # NOTE: Can also use matplotlib\n",
        "# # plt.axis('off')\n",
        "# # plt.imshow(person_rand_img)\n",
        "# # plt.show()\n"
      ],
      "execution_count": null,
      "outputs": []
    },
    {
      "cell_type": "markdown",
      "metadata": {
        "id": "KbF2twizt23n"
      },
      "source": [
        "#Resize and Convert to Greyscale"
      ]
    },
    {
      "cell_type": "code",
      "metadata": {
        "id": "Ei4soWd3sq1L"
      },
      "source": [
        "from skimage.color import rgb2gray\n",
        "from skimage.transform import resize"
      ],
      "execution_count": null,
      "outputs": []
    },
    {
      "cell_type": "code",
      "metadata": {
        "id": "rZYwE71DF1kK",
        "outputId": "78eb4d28-26c5-4e74-ac81-c28ad7889b00",
        "colab": {
          "base_uri": "https://localhost:8080/",
          "height": 314
        }
      },
      "source": [
        "grey96 = rgb2gray(resize(person_rand_img, (96,96)))\n",
        "io.imshow(grey96)\n",
        "np.array(grey96).shape"
      ],
      "execution_count": null,
      "outputs": [
        {
          "output_type": "execute_result",
          "data": {
            "text/plain": [
              "(96, 96)"
            ]
          },
          "metadata": {
            "tags": []
          },
          "execution_count": 9
        },
        {
          "output_type": "display_data",
          "data": {
            "image/png": "[encoded data removed]",
            "text/plain": [
              "<Figure size 432x288 with 1 Axes>"
            ]
          },
          "metadata": {
            "tags": [],
            "needs_background": "light"
          }
        }
      ]
    }
  ]
}