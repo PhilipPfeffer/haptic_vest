{
  "nbformat": 4,
  "nbformat_minor": 0,
  "metadata": {
    "colab": {
      "name": "Copy of mobilenet_retrain.ipynb",
      "provenance": [],
      "collapsed_sections": [],
      "toc_visible": true,
      "include_colab_link": true
    },
    "kernelspec": {
      "name": "python3",
      "display_name": "Python 3"
    },
    "accelerator": "GPU"
  },
  "cells": [
    {
      "cell_type": "markdown",
      "metadata": {
        "id": "view-in-github",
        "colab_type": "text"
      },
      "source": [
        "<a href=\"https://colab.research.google.com/github/PhilipPfeffer/haptic_vest/blob/main/mobilenet_retrain.ipynb\" target=\"_parent\"><img src=\"https://colab.research.google.com/assets/colab-badge.svg\" alt=\"Open In Colab\"/></a>"
      ]
    },
    {
      "cell_type": "markdown",
      "metadata": {
        "id": "cjM-Gs5mC1M_"
      },
      "source": [
        "# Retrained MobileNet\n",
        "MobileNet has been trained for many applications, including image segmentation, bounding box detection and ImageNet classification. In this notebook, we retrain the smallest version of MobileNet to classify whether an image in our dataset contains a 'person', a 'car' or 'neither."
      ]
    },
    {
      "cell_type": "markdown",
      "metadata": {
        "id": "eVMp0mRPCuRk"
      },
      "source": [
        "# Acknowledgements\n",
        "This was inspired by https://www.tensorflow.org/tutorials/images/transfer_learning (Accessed 29 Oct 2020)."
      ]
    },
    {
      "cell_type": "markdown",
      "metadata": {
        "id": "ZR2LqUJTDXXX"
      },
      "source": [
        "# Code"
      ]
    },
    {
      "cell_type": "markdown",
      "metadata": {
        "id": "pdHj6yDLDbUJ"
      },
      "source": [
        "## Imports\n",
        "General Setup; GPU setup is under Training."
      ]
    },
    {
      "cell_type": "code",
      "metadata": {
        "id": "iid8Rzd0DaMt"
      },
      "source": [
        "import matplotlib.pyplot as plt\n",
        "import numpy as np\n",
        "import os\n",
        "import tensorflow as tf\n",
        "import zipfile\n",
        "import shutil\n",
        "from tensorflow.keras.preprocessing import image_dataset_from_directory\n",
        "from keras.preprocessing.image import ImageDataGenerator\n",
        "import sklearn \n",
        "from sklearn import metrics\n",
        "import tensorflow_addons as tfa\n"
      ],
      "execution_count": 1,
      "outputs": []
    },
    {
      "cell_type": "markdown",
      "metadata": {
        "id": "gA0a-Hx7NF2Z"
      },
      "source": [
        "# Unzip Dataset"
      ]
    },
    {
      "cell_type": "code",
      "metadata": {
        "id": "TgJlst6BNK3d"
      },
      "source": [
        "dataset_name = 'dataset_three'\n",
        "zip_file_path = '/content/' + dataset_name + '.zip'\n",
        "unzipped_dir = '/content'\n",
        "dataset_X = '/content/' + dataset_name\n",
        "with zipfile.ZipFile(zip_file_path, 'r') as zip_ref:\n",
        "    zip_ref.extractall(unzipped_dir)"
      ],
      "execution_count": 2,
      "outputs": []
    },
    {
      "cell_type": "markdown",
      "metadata": {
        "id": "xzjz28s_WA1m"
      },
      "source": [
        "# Create Dataloader"
      ]
    },
    {
      "cell_type": "code",
      "metadata": {
        "id": "tz40P_RcEyPt",
        "outputId": "10365e72-6e08-423c-bc57-bc3cf998ce5b",
        "colab": {
          "base_uri": "https://localhost:8080/"
        }
      },
      "source": [
        "BATCH_SIZE = 32\n",
        "ORIG_IMG_SIZE = (96, 96)\n",
        "ORIG_COLOR_MODE ='grayscale'\n",
        "IMG_SIZE = (128,128)\n",
        "COLOR_MODE = 'rgb'\n",
        "\n",
        "train_dataset = image_dataset_from_directory(dataset_X +'/train/', label_mode='categorical', shuffle=True, batch_size=BATCH_SIZE, image_size=IMG_SIZE, color_mode=COLOR_MODE)\n",
        "dev_dataset = image_dataset_from_directory(dataset_X +'/dev/', label_mode='categorical', shuffle=True, batch_size=BATCH_SIZE, image_size=IMG_SIZE, color_mode=COLOR_MODE)\n",
        "test_dataset = image_dataset_from_directory(dataset_X +'/test/', label_mode='categorical', shuffle=True, batch_size=BATCH_SIZE, image_size=IMG_SIZE, color_mode=COLOR_MODE)"
      ],
      "execution_count": 3,
      "outputs": [
        {
          "output_type": "stream",
          "text": [
            "Found 65955 files belonging to 3 classes.\n",
            "Found 9225 files belonging to 3 classes.\n",
            "Found 4780 files belonging to 3 classes.\n"
          ],
          "name": "stdout"
        }
      ]
    },
    {
      "cell_type": "code",
      "metadata": {
        "id": "XGlQv6WbAibr"
      },
      "source": [
        "def show_example(train_dataset):\n",
        "  for image, _ in train_dataset.take(1):\n",
        "    plt.figure(figsize=(10, 10))\n",
        "    first_image = np.asarray(image[0]).squeeze()\n",
        "    print(first_image.shape)\n",
        "    # for i in range(9):\n",
        "    #   ax = plt.subplot(3, 3, i + 1)\n",
        "      # augmented_image = data_augmentation(tf.expand_dims(first_image, 0))\n",
        "      # plt.imshow(augmented_image[0] / 255)\n",
        "    # print(image)\n",
        "    plt.imshow(first_image / 255)\n",
        "    plt.axis('off')\n",
        "    \n",
        "    break \n",
        "\n",
        "# Run with this line:\n",
        "# show_example(train_dataset)"
      ],
      "execution_count": 7,
      "outputs": []
    },
    {
      "cell_type": "code",
      "metadata": {
        "id": "gMRNuXkQWNM4"
      },
      "source": [
        "AUTOTUNE = tf.data.experimental.AUTOTUNE\n",
        "\n",
        "train_dataset = train_dataset.prefetch(buffer_size=AUTOTUNE)\n",
        "dev_dataset = dev_dataset.prefetch(buffer_size=AUTOTUNE)\n",
        "test_dataset = test_dataset.prefetch(buffer_size=AUTOTUNE)"
      ],
      "execution_count": 8,
      "outputs": []
    },
    {
      "cell_type": "markdown",
      "metadata": {
        "id": "x79cxMdqWXVz"
      },
      "source": [
        "# Data Augmentation\n",
        "Add data augmentation to all images"
      ]
    },
    {
      "cell_type": "code",
      "metadata": {
        "id": "FJNMVeyAWekg"
      },
      "source": [
        "# data_augmentation = tf.keras.Sequential([\n",
        "#   tf.keras.layers.experimental.preprocessing.RandomFlip('horizontal'),\n",
        "#   tf.keras.layers.experimental.preprocessing.RandomRotation(0.2),\n",
        "# ])"
      ],
      "execution_count": 9,
      "outputs": []
    },
    {
      "cell_type": "markdown",
      "metadata": {
        "id": "bSsXMIeDWq98"
      },
      "source": [
        "# MobileNet Model"
      ]
    },
    {
      "cell_type": "code",
      "metadata": {
        "id": "yOt4Y9_SWovP"
      },
      "source": [
        "preprocess_input = tf.keras.applications.mobilenet.preprocess_input"
      ],
      "execution_count": 10,
      "outputs": []
    },
    {
      "cell_type": "code",
      "metadata": {
        "id": "ug0WhjiwWqMl",
        "outputId": "f3bbfbe8-1129-4c9f-8143-d7702e206e7b",
        "colab": {
          "base_uri": "https://localhost:8080/"
        }
      },
      "source": [
        "# Loading model from https://www.tensorflow.org/lite/guide/hosted_models#image_classification\n",
        "\n",
        "# Create the base model from the pre-trained model MobileNet\n",
        "IMG_SHAPE = IMG_SIZE + (3,)\n",
        "\n",
        "#Same syntax for MobileNetV2 and V1\n",
        "base_model = tf.keras.applications.MobileNet(input_shape=IMG_SHAPE,\n",
        "                                               alpha=0.25, # just add this\n",
        "                                               include_top=False,\n",
        "                                               weights='imagenet')"
      ],
      "execution_count": 11,
      "outputs": [
        {
          "output_type": "stream",
          "text": [
            "Downloading data from https://storage.googleapis.com/tensorflow/keras-applications/mobilenet/mobilenet_2_5_128_tf_no_top.h5\n",
            "2113536/2108140 [==============================] - 0s 0us/step\n"
          ],
          "name": "stdout"
        }
      ]
    },
    {
      "cell_type": "code",
      "metadata": {
        "id": "xvIVDGZk5_YH",
        "outputId": "0ee63ece-9058-4ebc-eabd-298c45208656",
        "colab": {
          "base_uri": "https://localhost:8080/"
        }
      },
      "source": [
        "image_batch, label_batch = next(iter(train_dataset))\n",
        "feature_batch = base_model(image_batch)\n",
        "print(feature_batch.shape)"
      ],
      "execution_count": 12,
      "outputs": [
        {
          "output_type": "stream",
          "text": [
            "(32, 4, 4, 256)\n"
          ],
          "name": "stdout"
        }
      ]
    },
    {
      "cell_type": "markdown",
      "metadata": {
        "id": "fmMhUtUaSz7-"
      },
      "source": [
        "# GPU Setup"
      ]
    },
    {
      "cell_type": "code",
      "metadata": {
        "id": "VRE5Ysf4DwkT",
        "outputId": "fbf5dc4d-22b9-416c-d58d-51347d756408",
        "colab": {
          "base_uri": "https://localhost:8080/",
          "height": 217
        }
      },
      "source": [
        "device_name = tf.test.gpu_device_name()\n",
        "if device_name != '/device:GPU:0':\n",
        "  raise SystemError('GPU device not found')\n",
        "print('Found GPU at: {}'.format(device_name))"
      ],
      "execution_count": 13,
      "outputs": [
        {
          "output_type": "error",
          "ename": "SystemError",
          "evalue": "ignored",
          "traceback": [
            "\u001b[0;31m---------------------------------------------------------------------------\u001b[0m",
            "\u001b[0;31mSystemError\u001b[0m                               Traceback (most recent call last)",
            "\u001b[0;32m<ipython-input-13-ce08ddae0a7d>\u001b[0m in \u001b[0;36m<module>\u001b[0;34m()\u001b[0m\n\u001b[1;32m      1\u001b[0m \u001b[0mdevice_name\u001b[0m \u001b[0;34m=\u001b[0m \u001b[0mtf\u001b[0m\u001b[0;34m.\u001b[0m\u001b[0mtest\u001b[0m\u001b[0;34m.\u001b[0m\u001b[0mgpu_device_name\u001b[0m\u001b[0;34m(\u001b[0m\u001b[0;34m)\u001b[0m\u001b[0;34m\u001b[0m\u001b[0;34m\u001b[0m\u001b[0m\n\u001b[1;32m      2\u001b[0m \u001b[0;32mif\u001b[0m \u001b[0mdevice_name\u001b[0m \u001b[0;34m!=\u001b[0m \u001b[0;34m'/device:GPU:0'\u001b[0m\u001b[0;34m:\u001b[0m\u001b[0;34m\u001b[0m\u001b[0;34m\u001b[0m\u001b[0m\n\u001b[0;32m----> 3\u001b[0;31m   \u001b[0;32mraise\u001b[0m \u001b[0mSystemError\u001b[0m\u001b[0;34m(\u001b[0m\u001b[0;34m'GPU device not found'\u001b[0m\u001b[0;34m)\u001b[0m\u001b[0;34m\u001b[0m\u001b[0;34m\u001b[0m\u001b[0m\n\u001b[0m\u001b[1;32m      4\u001b[0m \u001b[0mprint\u001b[0m\u001b[0;34m(\u001b[0m\u001b[0;34m'Found GPU at: {}'\u001b[0m\u001b[0;34m.\u001b[0m\u001b[0mformat\u001b[0m\u001b[0;34m(\u001b[0m\u001b[0mdevice_name\u001b[0m\u001b[0;34m)\u001b[0m\u001b[0;34m)\u001b[0m\u001b[0;34m\u001b[0m\u001b[0;34m\u001b[0m\u001b[0m\n",
            "\u001b[0;31mSystemError\u001b[0m: GPU device not found"
          ]
        }
      ]
    },
    {
      "cell_type": "code",
      "metadata": {
        "id": "gzPOcYly6FoS",
        "outputId": "ee86cb09-1a6f-4320-ee56-a516735a1650",
        "colab": {
          "base_uri": "https://localhost:8080/"
        }
      },
      "source": [
        "base_model.trainable = False\n",
        "base_model.summary()\n",
        "global_average_layer = tf.keras.layers.GlobalAveragePooling2D()\n",
        "feature_batch_average = global_average_layer(feature_batch)\n",
        "print(feature_batch_average.shape)\n",
        "prediction_layer = tf.keras.layers.Dense(3, activation='softmax')\n",
        "prediction_batch = prediction_layer(feature_batch_average)\n",
        "print(prediction_batch.shape)"
      ],
      "execution_count": null,
      "outputs": [
        {
          "output_type": "stream",
          "text": [
            "Model: \"mobilenet_0.25_128\"\n",
            "_________________________________________________________________\n",
            "Layer (type)                 Output Shape              Param #   \n",
            "=================================================================\n",
            "input_3 (InputLayer)         [(None, 128, 128, 3)]     0         \n",
            "_________________________________________________________________\n",
            "conv1_pad (ZeroPadding2D)    (None, 129, 129, 3)       0         \n",
            "_________________________________________________________________\n",
            "conv1 (Conv2D)               (None, 64, 64, 8)         216       \n",
            "_________________________________________________________________\n",
            "conv1_bn (BatchNormalization (None, 64, 64, 8)         32        \n",
            "_________________________________________________________________\n",
            "conv1_relu (ReLU)            (None, 64, 64, 8)         0         \n",
            "_________________________________________________________________\n",
            "conv_dw_1 (DepthwiseConv2D)  (None, 64, 64, 8)         72        \n",
            "_________________________________________________________________\n",
            "conv_dw_1_bn (BatchNormaliza (None, 64, 64, 8)         32        \n",
            "_________________________________________________________________\n",
            "conv_dw_1_relu (ReLU)        (None, 64, 64, 8)         0         \n",
            "_________________________________________________________________\n",
            "conv_pw_1 (Conv2D)           (None, 64, 64, 16)        128       \n",
            "_________________________________________________________________\n",
            "conv_pw_1_bn (BatchNormaliza (None, 64, 64, 16)        64        \n",
            "_________________________________________________________________\n",
            "conv_pw_1_relu (ReLU)        (None, 64, 64, 16)        0         \n",
            "_________________________________________________________________\n",
            "conv_pad_2 (ZeroPadding2D)   (None, 65, 65, 16)        0         \n",
            "_________________________________________________________________\n",
            "conv_dw_2 (DepthwiseConv2D)  (None, 32, 32, 16)        144       \n",
            "_________________________________________________________________\n",
            "conv_dw_2_bn (BatchNormaliza (None, 32, 32, 16)        64        \n",
            "_________________________________________________________________\n",
            "conv_dw_2_relu (ReLU)        (None, 32, 32, 16)        0         \n",
            "_________________________________________________________________\n",
            "conv_pw_2 (Conv2D)           (None, 32, 32, 32)        512       \n",
            "_________________________________________________________________\n",
            "conv_pw_2_bn (BatchNormaliza (None, 32, 32, 32)        128       \n",
            "_________________________________________________________________\n",
            "conv_pw_2_relu (ReLU)        (None, 32, 32, 32)        0         \n",
            "_________________________________________________________________\n",
            "conv_dw_3 (DepthwiseConv2D)  (None, 32, 32, 32)        288       \n",
            "_________________________________________________________________\n",
            "conv_dw_3_bn (BatchNormaliza (None, 32, 32, 32)        128       \n",
            "_________________________________________________________________\n",
            "conv_dw_3_relu (ReLU)        (None, 32, 32, 32)        0         \n",
            "_________________________________________________________________\n",
            "conv_pw_3 (Conv2D)           (None, 32, 32, 32)        1024      \n",
            "_________________________________________________________________\n",
            "conv_pw_3_bn (BatchNormaliza (None, 32, 32, 32)        128       \n",
            "_________________________________________________________________\n",
            "conv_pw_3_relu (ReLU)        (None, 32, 32, 32)        0         \n",
            "_________________________________________________________________\n",
            "conv_pad_4 (ZeroPadding2D)   (None, 33, 33, 32)        0         \n",
            "_________________________________________________________________\n",
            "conv_dw_4 (DepthwiseConv2D)  (None, 16, 16, 32)        288       \n",
            "_________________________________________________________________\n",
            "conv_dw_4_bn (BatchNormaliza (None, 16, 16, 32)        128       \n",
            "_________________________________________________________________\n",
            "conv_dw_4_relu (ReLU)        (None, 16, 16, 32)        0         \n",
            "_________________________________________________________________\n",
            "conv_pw_4 (Conv2D)           (None, 16, 16, 64)        2048      \n",
            "_________________________________________________________________\n",
            "conv_pw_4_bn (BatchNormaliza (None, 16, 16, 64)        256       \n",
            "_________________________________________________________________\n",
            "conv_pw_4_relu (ReLU)        (None, 16, 16, 64)        0         \n",
            "_________________________________________________________________\n",
            "conv_dw_5 (DepthwiseConv2D)  (None, 16, 16, 64)        576       \n",
            "_________________________________________________________________\n",
            "conv_dw_5_bn (BatchNormaliza (None, 16, 16, 64)        256       \n",
            "_________________________________________________________________\n",
            "conv_dw_5_relu (ReLU)        (None, 16, 16, 64)        0         \n",
            "_________________________________________________________________\n",
            "conv_pw_5 (Conv2D)           (None, 16, 16, 64)        4096      \n",
            "_________________________________________________________________\n",
            "conv_pw_5_bn (BatchNormaliza (None, 16, 16, 64)        256       \n",
            "_________________________________________________________________\n",
            "conv_pw_5_relu (ReLU)        (None, 16, 16, 64)        0         \n",
            "_________________________________________________________________\n",
            "conv_pad_6 (ZeroPadding2D)   (None, 17, 17, 64)        0         \n",
            "_________________________________________________________________\n",
            "conv_dw_6 (DepthwiseConv2D)  (None, 8, 8, 64)          576       \n",
            "_________________________________________________________________\n",
            "conv_dw_6_bn (BatchNormaliza (None, 8, 8, 64)          256       \n",
            "_________________________________________________________________\n",
            "conv_dw_6_relu (ReLU)        (None, 8, 8, 64)          0         \n",
            "_________________________________________________________________\n",
            "conv_pw_6 (Conv2D)           (None, 8, 8, 128)         8192      \n",
            "_________________________________________________________________\n",
            "conv_pw_6_bn (BatchNormaliza (None, 8, 8, 128)         512       \n",
            "_________________________________________________________________\n",
            "conv_pw_6_relu (ReLU)        (None, 8, 8, 128)         0         \n",
            "_________________________________________________________________\n",
            "conv_dw_7 (DepthwiseConv2D)  (None, 8, 8, 128)         1152      \n",
            "_________________________________________________________________\n",
            "conv_dw_7_bn (BatchNormaliza (None, 8, 8, 128)         512       \n",
            "_________________________________________________________________\n",
            "conv_dw_7_relu (ReLU)        (None, 8, 8, 128)         0         \n",
            "_________________________________________________________________\n",
            "conv_pw_7 (Conv2D)           (None, 8, 8, 128)         16384     \n",
            "_________________________________________________________________\n",
            "conv_pw_7_bn (BatchNormaliza (None, 8, 8, 128)         512       \n",
            "_________________________________________________________________\n",
            "conv_pw_7_relu (ReLU)        (None, 8, 8, 128)         0         \n",
            "_________________________________________________________________\n",
            "conv_dw_8 (DepthwiseConv2D)  (None, 8, 8, 128)         1152      \n",
            "_________________________________________________________________\n",
            "conv_dw_8_bn (BatchNormaliza (None, 8, 8, 128)         512       \n",
            "_________________________________________________________________\n",
            "conv_dw_8_relu (ReLU)        (None, 8, 8, 128)         0         \n",
            "_________________________________________________________________\n",
            "conv_pw_8 (Conv2D)           (None, 8, 8, 128)         16384     \n",
            "_________________________________________________________________\n",
            "conv_pw_8_bn (BatchNormaliza (None, 8, 8, 128)         512       \n",
            "_________________________________________________________________\n",
            "conv_pw_8_relu (ReLU)        (None, 8, 8, 128)         0         \n",
            "_________________________________________________________________\n",
            "conv_dw_9 (DepthwiseConv2D)  (None, 8, 8, 128)         1152      \n",
            "_________________________________________________________________\n",
            "conv_dw_9_bn (BatchNormaliza (None, 8, 8, 128)         512       \n",
            "_________________________________________________________________\n",
            "conv_dw_9_relu (ReLU)        (None, 8, 8, 128)         0         \n",
            "_________________________________________________________________\n",
            "conv_pw_9 (Conv2D)           (None, 8, 8, 128)         16384     \n",
            "_________________________________________________________________\n",
            "conv_pw_9_bn (BatchNormaliza (None, 8, 8, 128)         512       \n",
            "_________________________________________________________________\n",
            "conv_pw_9_relu (ReLU)        (None, 8, 8, 128)         0         \n",
            "_________________________________________________________________\n",
            "conv_dw_10 (DepthwiseConv2D) (None, 8, 8, 128)         1152      \n",
            "_________________________________________________________________\n",
            "conv_dw_10_bn (BatchNormaliz (None, 8, 8, 128)         512       \n",
            "_________________________________________________________________\n",
            "conv_dw_10_relu (ReLU)       (None, 8, 8, 128)         0         \n",
            "_________________________________________________________________\n",
            "conv_pw_10 (Conv2D)          (None, 8, 8, 128)         16384     \n",
            "_________________________________________________________________\n",
            "conv_pw_10_bn (BatchNormaliz (None, 8, 8, 128)         512       \n",
            "_________________________________________________________________\n",
            "conv_pw_10_relu (ReLU)       (None, 8, 8, 128)         0         \n",
            "_________________________________________________________________\n",
            "conv_dw_11 (DepthwiseConv2D) (None, 8, 8, 128)         1152      \n",
            "_________________________________________________________________\n",
            "conv_dw_11_bn (BatchNormaliz (None, 8, 8, 128)         512       \n",
            "_________________________________________________________________\n",
            "conv_dw_11_relu (ReLU)       (None, 8, 8, 128)         0         \n",
            "_________________________________________________________________\n",
            "conv_pw_11 (Conv2D)          (None, 8, 8, 128)         16384     \n",
            "_________________________________________________________________\n",
            "conv_pw_11_bn (BatchNormaliz (None, 8, 8, 128)         512       \n",
            "_________________________________________________________________\n",
            "conv_pw_11_relu (ReLU)       (None, 8, 8, 128)         0         \n",
            "_________________________________________________________________\n",
            "conv_pad_12 (ZeroPadding2D)  (None, 9, 9, 128)         0         \n",
            "_________________________________________________________________\n",
            "conv_dw_12 (DepthwiseConv2D) (None, 4, 4, 128)         1152      \n",
            "_________________________________________________________________\n",
            "conv_dw_12_bn (BatchNormaliz (None, 4, 4, 128)         512       \n",
            "_________________________________________________________________\n",
            "conv_dw_12_relu (ReLU)       (None, 4, 4, 128)         0         \n",
            "_________________________________________________________________\n",
            "conv_pw_12 (Conv2D)          (None, 4, 4, 256)         32768     \n",
            "_________________________________________________________________\n",
            "conv_pw_12_bn (BatchNormaliz (None, 4, 4, 256)         1024      \n",
            "_________________________________________________________________\n",
            "conv_pw_12_relu (ReLU)       (None, 4, 4, 256)         0         \n",
            "_________________________________________________________________\n",
            "conv_dw_13 (DepthwiseConv2D) (None, 4, 4, 256)         2304      \n",
            "_________________________________________________________________\n",
            "conv_dw_13_bn (BatchNormaliz (None, 4, 4, 256)         1024      \n",
            "_________________________________________________________________\n",
            "conv_dw_13_relu (ReLU)       (None, 4, 4, 256)         0         \n",
            "_________________________________________________________________\n",
            "conv_pw_13 (Conv2D)          (None, 4, 4, 256)         65536     \n",
            "_________________________________________________________________\n",
            "conv_pw_13_bn (BatchNormaliz (None, 4, 4, 256)         1024      \n",
            "_________________________________________________________________\n",
            "conv_pw_13_relu (ReLU)       (None, 4, 4, 256)         0         \n",
            "=================================================================\n",
            "Total params: 218,544\n",
            "Trainable params: 0\n",
            "Non-trainable params: 218,544\n",
            "_________________________________________________________________\n",
            "(32, 256)\n",
            "(32, 3)\n"
          ],
          "name": "stdout"
        }
      ]
    },
    {
      "cell_type": "code",
      "metadata": {
        "id": "9pQzpq2r6oeV"
      },
      "source": [
        "inputs = tf.keras.Input(shape=IMG_SHAPE)\n",
        "x = data_augmentation(inputs)\n",
        "x = preprocess_input(x)\n",
        "x = base_model(x, training=False)\n",
        "x = global_average_layer(x)\n",
        "x = tf.keras.layers.Dropout(0.2)(x)\n",
        "outputs = prediction_layer(x)\n",
        "model = tf.keras.Model(inputs, outputs)"
      ],
      "execution_count": null,
      "outputs": []
    },
    {
      "cell_type": "code",
      "metadata": {
        "id": "0Y6semJ_oLRZ"
      },
      "source": [
        "def f1_score(num_classes):\n",
        "  return tfa.metrics.F1Score(num_classes=num_classes, average=\"weighted\")"
      ],
      "execution_count": null,
      "outputs": []
    },
    {
      "cell_type": "code",
      "metadata": {
        "id": "pdrda6DI6qOv"
      },
      "source": [
        "base_learning_rate = 0.0001\n",
        "# Compile model with accuracy and weighted F1 Score\n",
        "model.compile(loss='categorical_crossentropy', optimizer=tf.keras.optimizers.Adam(lr=base_learning_rate), metrics=['accuracy',  f1_score(num_classes)])\n",
        "\n",
        "# model.compile(optimizer=tf.keras.optimizers.Adam(lr=base_learning_rate),\n",
        "#               loss=tf.keras.losses.CategoricalCrossentropy(),\n",
        "#               metrics=['accuracy'])"
      ],
      "execution_count": null,
      "outputs": []
    },
    {
      "cell_type": "code",
      "metadata": {
        "id": "uYhIw-po6sNJ",
        "outputId": "b8e00760-7b46-41e4-a317-d00e8d03af3f",
        "colab": {
          "base_uri": "https://localhost:8080/"
        }
      },
      "source": [
        "model.summary()\n",
        "len(model.trainable_variables)"
      ],
      "execution_count": null,
      "outputs": [
        {
          "output_type": "stream",
          "text": [
            "Model: \"functional_5\"\n",
            "_________________________________________________________________\n",
            "Layer (type)                 Output Shape              Param #   \n",
            "=================================================================\n",
            "input_5 (InputLayer)         [(None, 128, 128, 3)]     0         \n",
            "_________________________________________________________________\n",
            "sequential (Sequential)      (None, 128, 128, 3)       0         \n",
            "_________________________________________________________________\n",
            "tf_op_layer_RealDiv_2 (Tenso [(None, 128, 128, 3)]     0         \n",
            "_________________________________________________________________\n",
            "tf_op_layer_Sub_2 (TensorFlo [(None, 128, 128, 3)]     0         \n",
            "_________________________________________________________________\n",
            "mobilenet_0.25_128 (Function (None, 4, 4, 256)         218544    \n",
            "_________________________________________________________________\n",
            "global_average_pooling2d_1 ( (None, 256)               0         \n",
            "_________________________________________________________________\n",
            "dropout_2 (Dropout)          (None, 256)               0         \n",
            "_________________________________________________________________\n",
            "dense_1 (Dense)              (None, 3)                 771       \n",
            "=================================================================\n",
            "Total params: 219,315\n",
            "Trainable params: 771\n",
            "Non-trainable params: 218,544\n",
            "_________________________________________________________________\n"
          ],
          "name": "stdout"
        },
        {
          "output_type": "execute_result",
          "data": {
            "text/plain": [
              "2"
            ]
          },
          "metadata": {
            "tags": []
          },
          "execution_count": 58
        }
      ]
    },
    {
      "cell_type": "markdown",
      "metadata": {
        "id": "5u2_j4_36wIK"
      },
      "source": [
        "# Training (Stage 1: Frozen)"
      ]
    },
    {
      "cell_type": "code",
      "metadata": {
        "id": "os1atSoV6xBe",
        "outputId": "651b526d-e1eb-4fe3-fe60-5184f034f15c",
        "colab": {
          "base_uri": "https://localhost:8080/"
        }
      },
      "source": [
        "initial_epochs = 20\n",
        "\n",
        "loss0, accuracy0, f1_score0 = model.evaluate(dev_dataset)\n",
        "print(\"initial loss: {:.2f}\".format(loss0))\n",
        "print(\"initial accuracy: {:.2f}\".format(accuracy0))\n",
        "print(\"initial f1_score: {:.2f}\".format(f1_score0))"
      ],
      "execution_count": null,
      "outputs": [
        {
          "output_type": "stream",
          "text": [
            "223/223 [==============================] - 5s 23ms/step - loss: 1.7575 - accuracy: 0.2345 - f1_score: 0.2440\n",
            "initial loss: 1.76\n",
            "initial accuracy: 0.23\n",
            "initial f1_score: 0.24\n"
          ],
          "name": "stdout"
        }
      ]
    },
    {
      "cell_type": "code",
      "metadata": {
        "id": "L9xWWRpkh-q-"
      },
      "source": [
        "# Configure eary stopping\n",
        "early_stopping = tf.keras.callbacks.EarlyStopping(monitor='val_loss', patience=3)"
      ],
      "execution_count": null,
      "outputs": []
    },
    {
      "cell_type": "code",
      "metadata": {
        "id": "qFEyDXXu62Co",
        "outputId": "07d96140-add0-4a89-f832-f32ff445255b",
        "colab": {
          "base_uri": "https://localhost:8080/"
        }
      },
      "source": [
        "with tf.device('/device:GPU:0'):\n",
        "  history = model.fit(train_dataset,\n",
        "                  epochs=initial_epochs,\n",
        "                  validation_data=dev_dataset,\n",
        "                  callbacks=[early_stopping])"
      ],
      "execution_count": null,
      "outputs": [
        {
          "output_type": "stream",
          "text": [
            "Epoch 1/20\n",
            "1703/1703 [==============================] - 46s 27ms/step - loss: 0.8347 - accuracy: 0.6132 - f1_score: 0.6137 - val_loss: 0.8579 - val_accuracy: 0.7118 - val_f1_score: 0.6821\n",
            "Epoch 2/20\n",
            "1703/1703 [==============================] - 46s 27ms/step - loss: 0.6482 - accuracy: 0.7035 - f1_score: 0.6977 - val_loss: 0.7959 - val_accuracy: 0.7395 - val_f1_score: 0.7085\n",
            "Epoch 3/20\n",
            "1703/1703 [==============================] - 44s 26ms/step - loss: 0.5968 - accuracy: 0.7269 - f1_score: 0.7208 - val_loss: 0.7561 - val_accuracy: 0.7467 - val_f1_score: 0.7148\n",
            "Epoch 4/20\n",
            "1703/1703 [==============================] - 44s 26ms/step - loss: 0.5772 - accuracy: 0.7365 - f1_score: 0.7303 - val_loss: 0.7259 - val_accuracy: 0.7506 - val_f1_score: 0.7183\n",
            "Epoch 5/20\n",
            "1703/1703 [==============================] - 43s 25ms/step - loss: 0.5654 - accuracy: 0.7436 - f1_score: 0.7373 - val_loss: 0.7108 - val_accuracy: 0.7543 - val_f1_score: 0.7225\n",
            "Epoch 6/20\n",
            "1703/1703 [==============================] - 42s 25ms/step - loss: 0.5588 - accuracy: 0.7453 - f1_score: 0.7389 - val_loss: 0.6989 - val_accuracy: 0.7536 - val_f1_score: 0.7220\n",
            "Epoch 7/20\n",
            "1703/1703 [==============================] - 43s 25ms/step - loss: 0.5547 - accuracy: 0.7480 - f1_score: 0.7415 - val_loss: 0.6939 - val_accuracy: 0.7554 - val_f1_score: 0.7235\n",
            "Epoch 8/20\n",
            "1703/1703 [==============================] - 43s 25ms/step - loss: 0.5560 - accuracy: 0.7479 - f1_score: 0.7415 - val_loss: 0.6892 - val_accuracy: 0.7550 - val_f1_score: 0.7226\n",
            "Epoch 9/20\n",
            "1703/1703 [==============================] - 43s 25ms/step - loss: 0.5524 - accuracy: 0.7472 - f1_score: 0.7407 - val_loss: 0.6921 - val_accuracy: 0.7555 - val_f1_score: 0.7231\n",
            "Epoch 10/20\n",
            "1703/1703 [==============================] - 44s 26ms/step - loss: 0.5472 - accuracy: 0.7523 - f1_score: 0.7459 - val_loss: 0.6774 - val_accuracy: 0.7551 - val_f1_score: 0.7235\n",
            "Epoch 11/20\n",
            "1703/1703 [==============================] - 43s 25ms/step - loss: 0.5486 - accuracy: 0.7488 - f1_score: 0.7423 - val_loss: 0.6708 - val_accuracy: 0.7541 - val_f1_score: 0.7222\n",
            "Epoch 12/20\n",
            "1703/1703 [==============================] - 44s 26ms/step - loss: 0.5508 - accuracy: 0.7507 - f1_score: 0.7442 - val_loss: 0.6807 - val_accuracy: 0.7544 - val_f1_score: 0.7225\n",
            "Epoch 13/20\n",
            "1703/1703 [==============================] - 45s 26ms/step - loss: 0.5493 - accuracy: 0.7499 - f1_score: 0.7433 - val_loss: 0.6761 - val_accuracy: 0.7555 - val_f1_score: 0.7240\n",
            "Epoch 14/20\n",
            "1703/1703 [==============================] - 44s 26ms/step - loss: 0.5484 - accuracy: 0.7507 - f1_score: 0.7443 - val_loss: 0.6746 - val_accuracy: 0.7554 - val_f1_score: 0.7240\n",
            "Epoch 15/20\n",
            "1703/1703 [==============================] - 44s 26ms/step - loss: 0.5491 - accuracy: 0.7482 - f1_score: 0.7418 - val_loss: 0.6680 - val_accuracy: 0.7551 - val_f1_score: 0.7240\n",
            "Epoch 16/20\n",
            "1703/1703 [==============================] - 44s 26ms/step - loss: 0.5471 - accuracy: 0.7508 - f1_score: 0.7443 - val_loss: 0.6684 - val_accuracy: 0.7548 - val_f1_score: 0.7234\n",
            "Epoch 17/20\n",
            "1703/1703 [==============================] - 44s 26ms/step - loss: 0.5450 - accuracy: 0.7519 - f1_score: 0.7455 - val_loss: 0.6659 - val_accuracy: 0.7559 - val_f1_score: 0.7242\n",
            "Epoch 18/20\n",
            "1703/1703 [==============================] - 43s 25ms/step - loss: 0.5460 - accuracy: 0.7517 - f1_score: 0.7453 - val_loss: 0.6660 - val_accuracy: 0.7531 - val_f1_score: 0.7214\n",
            "Epoch 19/20\n",
            "1703/1703 [==============================] - 43s 25ms/step - loss: 0.5456 - accuracy: 0.7512 - f1_score: 0.7446 - val_loss: 0.6622 - val_accuracy: 0.7544 - val_f1_score: 0.7232\n",
            "Epoch 20/20\n",
            "1703/1703 [==============================] - 43s 25ms/step - loss: 0.5462 - accuracy: 0.7498 - f1_score: 0.7434 - val_loss: 0.6614 - val_accuracy: 0.7541 - val_f1_score: 0.7229\n"
          ],
          "name": "stdout"
        }
      ]
    },
    {
      "cell_type": "code",
      "metadata": {
        "id": "wx2hUUeykNWR"
      },
      "source": [
        "model.save('/content/three_model_stage1')\n",
        "\n",
        "save_to_drive=False\n",
        "if save_to_drive:\n",
        "  model.save('/content/drive/My Drive/Haptic Vest/three_model_stage1')"
      ],
      "execution_count": null,
      "outputs": []
    },
    {
      "cell_type": "markdown",
      "metadata": {
        "id": "IBQujW8n63_m"
      },
      "source": [
        "# Learning Plot"
      ]
    },
    {
      "cell_type": "code",
      "metadata": {
        "id": "a84Nsi-d65VL",
        "outputId": "e7a5b1ef-b738-4f0d-87af-ec79e4d296cf",
        "colab": {
          "base_uri": "https://localhost:8080/",
          "height": 513
        }
      },
      "source": [
        "acc = history.history['accuracy']\n",
        "val_acc = history.history['val_accuracy']\n",
        "\n",
        "loss = history.history['loss']\n",
        "val_loss = history.history['val_loss']\n",
        "\n",
        "\n",
        "f1_score = history.history['f1_score']\n",
        "val_f1_score = history.history['val_f1_score']\n",
        "\n",
        "plt.figure(figsize=(8, 8))\n",
        "plt.subplot(3, 1, 1)\n",
        "plt.plot(acc, label='Training Accuracy')\n",
        "plt.plot(val_acc, label='Validation Accuracy')\n",
        "plt.legend(loc='lower right')\n",
        "plt.ylabel('Accuracy')\n",
        "plt.ylim([min(plt.ylim()),1])\n",
        "plt.title('Training and Validation Accuracy')\n",
        "\n",
        "plt.subplot(3, 1, 2)\n",
        "plt.plot(loss, label='Training Loss')\n",
        "plt.plot(val_loss, label='Validation Loss')\n",
        "plt.legend(loc='upper right')\n",
        "plt.ylabel('Cross Entropy')\n",
        "plt.ylim([0,1.0])\n",
        "plt.title('Training and Validation Loss')\n",
        "\n",
        "plt.subplot(3, 1, 3)\n",
        "plt.plot(f1_score, label='Training Weighted F1 Score')\n",
        "plt.plot(val_f1_score, label='Validation Weighted F1 Score')\n",
        "plt.legend(loc='upper right')\n",
        "plt.ylabel('Weighted F1 Score')\n",
        "plt.ylim([0,1.0])\n",
        "plt.title('Training and Validation Weighted F1 Score')\n",
        "plt.xlabel('epoch')\n",
        "plt.show()"
      ],
      "execution_count": null,
      "outputs": [
        {
          "output_type": "display_data",
          "data": {
            "image/png": "[encoded data removed]",
            "text/plain": [
              "<Figure size 576x576 with 3 Axes>"
            ]
          },
          "metadata": {
            "tags": [],
            "needs_background": "light"
          }
        }
      ]
    },
    {
      "cell_type": "markdown",
      "metadata": {
        "id": "IV5FbFvW69_V"
      },
      "source": [
        "From GOOGLE\n",
        "Note: If you are wondering why the validation metrics are clearly better than the training metrics, the main factor is because layers like tf.keras.layers.BatchNormalization and tf.keras.layers.Dropout affect accuracy during training. They are turned off when calculating validation loss.\n",
        "\n",
        "To a lesser extent, it is also because training metrics report the average for an epoch, while validation metrics are evaluated after the epoch, so validation metrics see a model that has trained slightly longer."
      ]
    },
    {
      "cell_type": "markdown",
      "metadata": {
        "id": "VpqwIaWQLNhy"
      },
      "source": [
        "# Training (Stage 2: Unfrozen)"
      ]
    },
    {
      "cell_type": "code",
      "metadata": {
        "id": "Kqc4XQrm6_7x"
      },
      "source": [
        "base_model.trainable = True"
      ],
      "execution_count": null,
      "outputs": []
    },
    {
      "cell_type": "code",
      "metadata": {
        "id": "PUTdfEipLTE8",
        "outputId": "efbed72a-24d1-4c4e-b582-5c4e482eff29",
        "colab": {
          "base_uri": "https://localhost:8080/"
        }
      },
      "source": [
        "# Let's take a look to see how many layers are in the base model\n",
        "print(\"Number of layers in the base model: \", len(base_model.layers))\n",
        "\n",
        "# Fine-tune from this layer onwards\n",
        "fine_tune_at = 100\n",
        "\n",
        "# Freeze all the layers before the `fine_tune_at` layer\n",
        "for layer in base_model.layers[:fine_tune_at]:\n",
        "  layer.trainable =  False"
      ],
      "execution_count": null,
      "outputs": [
        {
          "output_type": "stream",
          "text": [
            "Number of layers in the base model:  87\n"
          ],
          "name": "stdout"
        }
      ]
    },
    {
      "cell_type": "code",
      "metadata": {
        "id": "4Zh591LNLYWv",
        "outputId": "37e262b1-5802-484c-a135-3653ce6be620",
        "colab": {
          "base_uri": "https://localhost:8080/"
        }
      },
      "source": [
        "model.compile(loss='categorical_crossentropy',\n",
        "              optimizer = tf.keras.optimizers.RMSprop(lr=base_learning_rate/10),\n",
        "              metrics=['accuracy', f1_score(num_classes)])\n",
        "\n",
        "model.summary()"
      ],
      "execution_count": null,
      "outputs": [
        {
          "output_type": "stream",
          "text": [
            "Model: \"functional_1\"\n",
            "_________________________________________________________________\n",
            "Layer (type)                 Output Shape              Param #   \n",
            "=================================================================\n",
            "input_2 (InputLayer)         [(None, 128, 128, 3)]     0         \n",
            "_________________________________________________________________\n",
            "tf_op_layer_RealDiv (TensorF [(None, 128, 128, 3)]     0         \n",
            "_________________________________________________________________\n",
            "tf_op_layer_Sub (TensorFlowO [(None, 128, 128, 3)]     0         \n",
            "_________________________________________________________________\n",
            "mobilenet_0.25_128 (Function (None, 4, 4, 256)         218544    \n",
            "_________________________________________________________________\n",
            "global_average_pooling2d (Gl (None, 256)               0         \n",
            "_________________________________________________________________\n",
            "dropout (Dropout)            (None, 256)               0         \n",
            "_________________________________________________________________\n",
            "dense (Dense)                (None, 3)                 771       \n",
            "=================================================================\n",
            "Total params: 219,315\n",
            "Trainable params: 771\n",
            "Non-trainable params: 218,544\n",
            "_________________________________________________________________\n"
          ],
          "name": "stdout"
        }
      ]
    },
    {
      "cell_type": "code",
      "metadata": {
        "id": "il0A-Q8dLbGH",
        "outputId": "ccbf95b8-c1d3-4c18-dea4-64e6be8d5694",
        "colab": {
          "base_uri": "https://localhost:8080/"
        }
      },
      "source": [
        "len(model.trainable_variables)"
      ],
      "execution_count": null,
      "outputs": [
        {
          "output_type": "execute_result",
          "data": {
            "text/plain": [
              "2"
            ]
          },
          "metadata": {
            "tags": []
          },
          "execution_count": 32
        }
      ]
    },
    {
      "cell_type": "markdown",
      "metadata": {
        "id": "952qmYxROoOw"
      },
      "source": [
        "### Continue training the model"
      ]
    },
    {
      "cell_type": "code",
      "metadata": {
        "id": "xk_UpGR5LlFM",
        "outputId": "69f22d3f-3f8e-4237-f71b-507cfd4751ea",
        "colab": {
          "base_uri": "https://localhost:8080/"
        }
      },
      "source": [
        "fine_tune_epochs = 10\n",
        "total_epochs =  initial_epochs + fine_tune_epochs\n",
        "\n",
        "history_fine = model.fit(train_dataset,\n",
        "                         epochs=total_epochs,\n",
        "                         initial_epoch=history.epoch[-1],\n",
        "                         validation_data=dev_dataset, \n",
        "                         callbacks=[early_stopping])"
      ],
      "execution_count": null,
      "outputs": [
        {
          "output_type": "stream",
          "text": [
            "Epoch 20/30\n",
            "1703/1703 [==============================] - 47s 28ms/step - loss: 0.4397 - accuracy: 0.8120 - f1_score: 0.8065 - val_loss: 0.6253 - val_accuracy: 0.7628 - val_f1_score: 0.7323\n",
            "Epoch 21/30\n",
            "1703/1703 [==============================] - 51s 30ms/step - loss: 0.4409 - accuracy: 0.8125 - f1_score: 0.8071 - val_loss: 0.6259 - val_accuracy: 0.7628 - val_f1_score: 0.7322\n",
            "Epoch 22/30\n",
            "1703/1703 [==============================] - 51s 30ms/step - loss: 0.4398 - accuracy: 0.8118 - f1_score: 0.8063 - val_loss: 0.6263 - val_accuracy: 0.7627 - val_f1_score: 0.7321\n",
            "Epoch 23/30\n",
            "1703/1703 [==============================] - 51s 30ms/step - loss: 0.4402 - accuracy: 0.8109 - f1_score: 0.8055 - val_loss: 0.6267 - val_accuracy: 0.7630 - val_f1_score: 0.7325\n",
            "Epoch 24/30\n",
            "1703/1703 [==============================] - 50s 29ms/step - loss: 0.4403 - accuracy: 0.8122 - f1_score: 0.8070 - val_loss: 0.6274 - val_accuracy: 0.7620 - val_f1_score: 0.7315\n",
            "Epoch 25/30\n",
            "1703/1703 [==============================] - 50s 29ms/step - loss: 0.4387 - accuracy: 0.8134 - f1_score: 0.8082 - val_loss: 0.6267 - val_accuracy: 0.7628 - val_f1_score: 0.7326\n",
            "Epoch 26/30\n",
            "1703/1703 [==============================] - 49s 29ms/step - loss: 0.4402 - accuracy: 0.8134 - f1_score: 0.8082 - val_loss: 0.6261 - val_accuracy: 0.7626 - val_f1_score: 0.7325\n",
            "Epoch 27/30\n",
            "1703/1703 [==============================] - 49s 29ms/step - loss: 0.4383 - accuracy: 0.8136 - f1_score: 0.8083 - val_loss: 0.6260 - val_accuracy: 0.7628 - val_f1_score: 0.7328\n",
            "Epoch 28/30\n",
            "1703/1703 [==============================] - 51s 30ms/step - loss: 0.4412 - accuracy: 0.8125 - f1_score: 0.8072 - val_loss: 0.6258 - val_accuracy: 0.7626 - val_f1_score: 0.7327\n",
            "Epoch 29/30\n",
            "1703/1703 [==============================] - 50s 29ms/step - loss: 0.4403 - accuracy: 0.8120 - f1_score: 0.8068 - val_loss: 0.6266 - val_accuracy: 0.7624 - val_f1_score: 0.7326\n",
            "Epoch 30/30\n",
            "1703/1703 [==============================] - 48s 28ms/step - loss: 0.4396 - accuracy: 0.8134 - f1_score: 0.8081 - val_loss: 0.6269 - val_accuracy: 0.7623 - val_f1_score: 0.7324\n"
          ],
          "name": "stdout"
        }
      ]
    },
    {
      "cell_type": "code",
      "metadata": {
        "id": "KcU6PiVjm-ep"
      },
      "source": [
        "model.save('/content/three_model_stage2')\n",
        "\n",
        "save_to_drive=False\n",
        "if save_to_drive:\n",
        "  model.save('/content/drive/My Drive/Haptic Vest/three_model_stage2')"
      ],
      "execution_count": null,
      "outputs": []
    },
    {
      "cell_type": "code",
      "metadata": {
        "id": "Ywzj-BgHOtDN"
      },
      "source": [
        "acc += history_fine.history['accuracy']\n",
        "val_acc += history_fine.history['val_accuracy']\n",
        "\n",
        "loss += history_fine.history['loss']\n",
        "val_loss += history_fine.history['val_loss']\n",
        "\n",
        "f1_score = history.history['f1_score']\n",
        "val_f1_score = history.history['val_f1_score']"
      ],
      "execution_count": null,
      "outputs": []
    },
    {
      "cell_type": "code",
      "metadata": {
        "id": "fA7R1ZBTO_oL",
        "outputId": "c24d7e13-3234-48b7-8df2-1ed5121caa19",
        "colab": {
          "base_uri": "https://localhost:8080/",
          "height": 621
        }
      },
      "source": [
        "plt.figure(figsize=(10, 10))\n",
        "plt.subplot(3, 1, 1)\n",
        "plt.plot(acc, label='Training Accuracy')\n",
        "plt.plot(val_acc, label='Validation Accuracy')\n",
        "plt.ylim([0.8, 1])\n",
        "plt.plot([initial_epochs-1,initial_epochs-1],\n",
        "          plt.ylim(), label='Start Fine Tuning')\n",
        "plt.legend(loc='lower right')\n",
        "plt.title('Training and Validation Accuracy')\n",
        "\n",
        "plt.subplot(3, 1, 2)\n",
        "plt.plot(loss, label='Training Loss')\n",
        "plt.plot(val_loss, label='Validation Loss')\n",
        "plt.ylim([0, 1.0])\n",
        "plt.plot([initial_epochs-1,initial_epochs-1],\n",
        "         plt.ylim(), label='Start Fine Tuning')\n",
        "plt.legend(loc='upper right')\n",
        "plt.title('Training and Validation Loss')\n",
        "\n",
        "plt.subplot(3, 1, 3)\n",
        "plt.plot(f1_score, label='Training Weighted F1 Score')\n",
        "plt.plot(val_f1_score, label='Validation Weighted F1 Score')\n",
        "plt.legend(loc='lower right')\n",
        "plt.ylabel('Weighted F1 Score')\n",
        "plt.ylim([0,1.0])\n",
        "plt.plot([initial_epochs-1,initial_epochs-1],\n",
        "         plt.ylim(), label='Start Fine Tuning')\n",
        "plt.title('Training and Validation Weighted F1 Score')\n",
        "plt.xlabel('epoch')\n",
        "plt.show()"
      ],
      "execution_count": null,
      "outputs": [
        {
          "output_type": "display_data",
          "data": {
            "image/png": "[encoded data removed]",
            "text/plain": [
              "<Figure size 720x720 with 3 Axes>"
            ]
          },
          "metadata": {
            "tags": [],
            "needs_background": "light"
          }
        }
      ]
    },
    {
      "cell_type": "markdown",
      "metadata": {
        "id": "AZUVHqLsntMv"
      },
      "source": [
        "# Load Model"
      ]
    },
    {
      "cell_type": "code",
      "metadata": {
        "id": "C3y85n3Gnu7F"
      },
      "source": [
        "load_model_path='/content/three_model_stage1'\n",
        "# load_model_path='/content/three_model_stage2'\n",
        "loaded_model = keras.models.load_model(load_model_path, custom_objects={'F1Score': tfa.metrics.F1Score})"
      ],
      "execution_count": null,
      "outputs": []
    },
    {
      "cell_type": "markdown",
      "metadata": {
        "id": "sk5bUxgJPB9Y"
      },
      "source": [
        "# Evaluation and prediction"
      ]
    },
    {
      "cell_type": "code",
      "metadata": {
        "id": "3y8S4TUSw3Ov"
      },
      "source": [
        "# loss, accuracy, f1_score = loaded_model.evaluate(test_dataset)\n",
        "# print('Test accuracy :', accuracy)"
      ],
      "execution_count": null,
      "outputs": []
    },
    {
      "cell_type": "code",
      "metadata": {
        "id": "NVS4CH1BPFZO",
        "outputId": "6d0fa070-0117-426f-a663-5185529b1356",
        "colab": {
          "base_uri": "https://localhost:8080/",
          "height": 1000
        }
      },
      "source": [
        "# Define classes\n",
        "classes = ['neither', 'person', None , 'car']\n",
        "\n",
        "#Retrieve a batch of images from the test set\n",
        "image_batch, label_batch = test_dataset.as_numpy_iterator().next()\n",
        "predictions = model.predict_on_batch(image_batch).flatten()\n",
        "\n",
        "# Apply a sigmoid since our model returns logits\n",
        "predictions = tf.nn.sigmoid(predictions)\n",
        "predictions = tf.where(predictions < 0.5, 0, 1)\n",
        "\n",
        "# print('Predictions:\\n', predictions.numpy())\n",
        "# print('Labels:\\n', label_batch)\n",
        "\n",
        "plt.figure(figsize=(10, 10))\n",
        "for i in range(9):\n",
        "  ax = plt.subplot(3, 3, i + 1)\n",
        "  plt.imshow(image_batch[i].astype(\"uint8\"))\n",
        "  plt.title(classes[predictions[i]])\n",
        "  plt.axis(\"off\")"
      ],
      "execution_count": null,
      "outputs": [
        {
          "output_type": "stream",
          "text": [
            "Predictions:\n",
            " [1 1 1 1 1 1 1 1 1 1 1 1 1 1 1 1 1 1 1 1 1 1 1 1 1 1 1 1 1 1 1 1 1 1 1 1 1\n",
            " 1 1 1 1 1 1 1 1 1 1 1 1 1 1 1 1 1 1 1 1 1 1 1 1 1 1 1 1 1 1 1 1 1 1 1 1 1\n",
            " 1 1 1 1 1 1 1 1 1 1 1 1 1 1 1 1 1 1 1 1 1 1]\n",
            "Labels:\n",
            " [[0. 0. 1.]\n",
            " [0. 1. 0.]\n",
            " [0. 1. 0.]\n",
            " [1. 0. 0.]\n",
            " [1. 0. 0.]\n",
            " [0. 1. 0.]\n",
            " [1. 0. 0.]\n",
            " [0. 0. 1.]\n",
            " [0. 0. 1.]\n",
            " [0. 1. 0.]\n",
            " [1. 0. 0.]\n",
            " [0. 1. 0.]\n",
            " [0. 0. 1.]\n",
            " [0. 1. 0.]\n",
            " [0. 0. 1.]\n",
            " [1. 0. 0.]\n",
            " [0. 1. 0.]\n",
            " [0. 0. 1.]\n",
            " [0. 1. 0.]\n",
            " [1. 0. 0.]\n",
            " [0. 1. 0.]\n",
            " [1. 0. 0.]\n",
            " [1. 0. 0.]\n",
            " [1. 0. 0.]\n",
            " [1. 0. 0.]\n",
            " [1. 0. 0.]\n",
            " [1. 0. 0.]\n",
            " [0. 1. 0.]\n",
            " [1. 0. 0.]\n",
            " [1. 0. 0.]\n",
            " [0. 1. 0.]\n",
            " [0. 0. 1.]]\n"
          ],
          "name": "stdout"
        },
        {
          "output_type": "error",
          "ename": "NameError",
          "evalue": "ignored",
          "traceback": [
            "\u001b[0;31m---------------------------------------------------------------------------\u001b[0m",
            "\u001b[0;31mNameError\u001b[0m                                 Traceback (most recent call last)",
            "\u001b[0;32m<ipython-input-45-264fba8a99fc>\u001b[0m in \u001b[0;36m<module>\u001b[0;34m()\u001b[0m\n\u001b[1;32m     14\u001b[0m   \u001b[0max\u001b[0m \u001b[0;34m=\u001b[0m \u001b[0mplt\u001b[0m\u001b[0;34m.\u001b[0m\u001b[0msubplot\u001b[0m\u001b[0;34m(\u001b[0m\u001b[0;36m3\u001b[0m\u001b[0;34m,\u001b[0m \u001b[0;36m3\u001b[0m\u001b[0;34m,\u001b[0m \u001b[0mi\u001b[0m \u001b[0;34m+\u001b[0m \u001b[0;36m1\u001b[0m\u001b[0;34m)\u001b[0m\u001b[0;34m\u001b[0m\u001b[0;34m\u001b[0m\u001b[0m\n\u001b[1;32m     15\u001b[0m   \u001b[0mplt\u001b[0m\u001b[0;34m.\u001b[0m\u001b[0mimshow\u001b[0m\u001b[0;34m(\u001b[0m\u001b[0mimage_batch\u001b[0m\u001b[0;34m[\u001b[0m\u001b[0mi\u001b[0m\u001b[0;34m]\u001b[0m\u001b[0;34m.\u001b[0m\u001b[0mastype\u001b[0m\u001b[0;34m(\u001b[0m\u001b[0;34m\"uint8\"\u001b[0m\u001b[0;34m)\u001b[0m\u001b[0;34m)\u001b[0m\u001b[0;34m\u001b[0m\u001b[0;34m\u001b[0m\u001b[0m\n\u001b[0;32m---> 16\u001b[0;31m   \u001b[0mplt\u001b[0m\u001b[0;34m.\u001b[0m\u001b[0mtitle\u001b[0m\u001b[0;34m(\u001b[0m\u001b[0mclasses\u001b[0m\u001b[0;34m[\u001b[0m\u001b[0mpredictions\u001b[0m\u001b[0;34m[\u001b[0m\u001b[0mi\u001b[0m\u001b[0;34m]\u001b[0m\u001b[0;34m]\u001b[0m\u001b[0;34m)\u001b[0m\u001b[0;34m\u001b[0m\u001b[0;34m\u001b[0m\u001b[0m\n\u001b[0m\u001b[1;32m     17\u001b[0m   \u001b[0mplt\u001b[0m\u001b[0;34m.\u001b[0m\u001b[0maxis\u001b[0m\u001b[0;34m(\u001b[0m\u001b[0;34m\"off\"\u001b[0m\u001b[0;34m)\u001b[0m\u001b[0;34m\u001b[0m\u001b[0;34m\u001b[0m\u001b[0m\n",
            "\u001b[0;31mNameError\u001b[0m: name 'classes' is not defined"
          ]
        },
        {
          "output_type": "display_data",
          "data": {
            "image/png": "[encoded data removed]",
            "text/plain": [
              "<Figure size 720x720 with 1 Axes>"
            ]
          },
          "metadata": {
            "tags": [],
            "needs_background": "light"
          }
        }
      ]
    },
    {
      "cell_type": "markdown",
      "metadata": {
        "id": "bHZkrpQvPJu3"
      },
      "source": [
        "# Convert the model to tflite"
      ]
    },
    {
      "cell_type": "code",
      "metadata": {
        "id": "O49BohHiPMSt",
        "outputId": "650e2bf5-a3c4-4c04-bee1-c032e2cf71f9",
        "colab": {
          "base_uri": "https://localhost:8080/"
        }
      },
      "source": [
        "# Convert\n",
        "converter = tf.lite.TFLiteConverter.from_keras_model(model)\n",
        "tflite_model = converter.convert()\n",
        "\n",
        "# Save\n",
        "with open('model.tflite', 'wb') as f:\n",
        "  f.write(tflite_model)"
      ],
      "execution_count": null,
      "outputs": [
        {
          "output_type": "stream",
          "text": [
            "WARNING:tensorflow:From /usr/local/lib/python3.6/dist-packages/tensorflow/python/training/tracking/tracking.py:111: Model.state_updates (from tensorflow.python.keras.engine.training) is deprecated and will be removed in a future version.\n",
            "Instructions for updating:\n",
            "This property should not be used in TensorFlow 2.0, as updates are applied automatically.\n",
            "WARNING:tensorflow:From /usr/local/lib/python3.6/dist-packages/tensorflow/python/training/tracking/tracking.py:111: Layer.updates (from tensorflow.python.keras.engine.base_layer) is deprecated and will be removed in a future version.\n",
            "Instructions for updating:\n",
            "This property should not be used in TensorFlow 2.0, as updates are applied automatically.\n",
            "INFO:tensorflow:Assets written to: /tmp/tmpwgyqidrd/assets\n"
          ],
          "name": "stdout"
        }
      ]
    },
    {
      "cell_type": "markdown",
      "metadata": {
        "id": "NW4lWrnOQiXo"
      },
      "source": [
        "# Build for Raspberry Pi"
      ]
    },
    {
      "cell_type": "markdown",
      "metadata": {
        "id": "Go8pvRPyQmM_"
      },
      "source": [
        "#### Reference: https://www.tensorflow.org/lite/guide/build_rpi"
      ]
    },
    {
      "cell_type": "code",
      "metadata": {
        "id": "5eEDw6FbQlDv"
      },
      "source": [
        ""
      ],
      "execution_count": null,
      "outputs": []
    }
  ]
}