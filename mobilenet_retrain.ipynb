{
  "nbformat": 4,
  "nbformat_minor": 0,
  "metadata": {
    "colab": {
      "name": "mobilenet_retrain.ipynb",
      "provenance": [],
      "toc_visible": true,
      "mount_file_id": "1NnmkpDTK2aIyuk_VgKMkng8TQ0DADpZc",
      "authorship_tag": "ABX9TyMdcfILmV6yCtQGB8+d2KK+",
      "include_colab_link": true
    },
    "kernelspec": {
      "name": "python3",
      "display_name": "Python 3"
    },
    "accelerator": "GPU"
  },
  "cells": [
    {
      "cell_type": "markdown",
      "metadata": {
        "id": "view-in-github",
        "colab_type": "text"
      },
      "source": [
        "<a href=\"https://colab.research.google.com/github/PhilipPfeffer/haptic_vest/blob/main/mobilenet_retrain.ipynb\" target=\"_parent\"><img src=\"https://colab.research.google.com/assets/colab-badge.svg\" alt=\"Open In Colab\"/></a>"
      ]
    },
    {
      "cell_type": "markdown",
      "metadata": {
        "id": "cjM-Gs5mC1M_"
      },
      "source": [
        "# Retrained MobileNet\n",
        "MobileNet has been trained for many applications, including image segmentation, bounding box detection and ImageNet classification. In this notebook, we retrain the smallest version of MobileNet to classify whether an image in our dataset contains a 'person', a 'car' or 'neither."
      ]
    },
    {
      "cell_type": "markdown",
      "metadata": {
        "id": "eVMp0mRPCuRk"
      },
      "source": [
        "# Acknowledgements\n",
        "This was inspired by https://www.tensorflow.org/tutorials/images/transfer_learning (Accessed 29 Oct 2020)"
      ]
    },
    {
      "cell_type": "markdown",
      "metadata": {
        "id": "ZR2LqUJTDXXX"
      },
      "source": [
        "# Code"
      ]
    },
    {
      "cell_type": "markdown",
      "metadata": {
        "id": "pdHj6yDLDbUJ"
      },
      "source": [
        "## Imports\n",
        "General Setup; GPU setup is under Training."
      ]
    },
    {
      "cell_type": "code",
      "metadata": {
        "id": "iid8Rzd0DaMt"
      },
      "source": [
        "import matplotlib.pyplot as plt\n",
        "import numpy as np\n",
        "import os\n",
        "import tensorflow as tf\n",
        "import zipfile\n",
        "import shutil\n",
        "from tensorflow.keras.preprocessing import image_dataset_from_directory\n",
        "from keras.preprocessing.image import ImageDataGenerator"
      ],
      "execution_count": 1,
      "outputs": []
    },
    {
      "cell_type": "markdown",
      "metadata": {
        "id": "nSvwtYCuEhoB"
      },
      "source": [
        "## Fetch Data\n",
        "Upload the zip file of our images into '/content/' (i.e. the root of the Colab file directory. Then fetch the data using the code below.\n",
        "\n",
        "`dataset_X` refers to the dataset you want to use, where `X` is the desired maximum images per category."
      ]
    },
    {
      "cell_type": "code",
      "metadata": {
        "id": "wY4UTH7eGFLo",
        "outputId": "4c0ee80f-0afc-46f6-c8e3-c270f241ba9e",
        "colab": {
          "base_uri": "https://localhost:8080/"
        }
      },
      "source": [
        "# Definitions\n",
        "dataset ='/content/drive/My Drive/Haptic Vest/dataset_person_car'\n",
        "classes = ['neither', 'person', None , 'car']\n",
        "class_ids = [0,1,3]\n",
        "dataset_types = ['train','dev','test']\n",
        "all_processed_imgs_dir = '/content/drive/My Drive/Haptic Vest/person_car_other_imgs_processed'\n",
        "\n",
        "train_ids = np.loadtxt(dataset, dtype=(int, int))\n",
        "train_ids_dict = dict(train_ids)\n",
        "\n",
        "x_train_ids, y_train_ids = train_ids[:,0], train_ids[:,1]\n",
        "assert(x_train_ids.shape == y_train_ids.shape)\n",
        "x_train_ids[0], y_train_ids[0]\n",
        "print(f\"There are {len(x_train_ids)} images, set(x_train_ids) = {len(set(x_train_ids))} images.\")"
      ],
      "execution_count": 3,
      "outputs": [
        {
          "output_type": "stream",
          "text": [
            "There are 77650 images, set(x_train_ids) = 77033 images.\n"
          ],
          "name": "stdout"
        }
      ]
    },
    {
      "cell_type": "code",
      "metadata": {
        "id": "8sNYYdiPEx_s"
      },
      "source": [
        "######################### \n",
        "# CHANGE HERE\n",
        "######################### \n",
        "dataset_extension = '40000'\n",
        "######################### \n",
        "\n",
        "zip_file_path = '/content/processed_subset' + dataset_extension + '.zip'\n",
        "unzipped_dir = '/content/'\n",
        "dataset_X = unzipped_dir + 'processed_subset' + dataset_extension\n",
        "with zipfile.ZipFile(zip_file_path, 'r') as zip_ref:\n",
        "    zip_ref.extractall(unzipped_dir)"
      ],
      "execution_count": 4,
      "outputs": []
    },
    {
      "cell_type": "markdown",
      "metadata": {
        "id": "V-_zFZ249XuE"
      },
      "source": [
        "Create sub-folder structure for Tensorflow to load from directory"
      ]
    },
    {
      "cell_type": "code",
      "metadata": {
        "id": "5hVrKkJuJgcN"
      },
      "source": [
        "# In case of problem, pull emergency switch\n",
        "for dataset_type in dataset_types:\n",
        "  shutil.rmtree(dataset_X + '/' + dataset_type, ignore_errors=True)\n",
        "\n",
        "leaf_folders = [list(zip([dataset_types[i]]*3, class_ids)) for i in range(len(dataset_types))]\n",
        "leaf_folders = [list(zip([dataset_types[i]]*3, class_ids)) for i in range(len(dataset_types))]\n",
        "subpaths = [dataset_X + '/' + folder[0] + '/' + str(folder[1]) for folder_list in leaf_folders for folder in folder_list ]\n",
        "for subpath in subpaths:\n",
        "  os.makedirs(subpath, mode=0o777, exist_ok=False)"
      ],
      "execution_count": 5,
      "outputs": []
    },
    {
      "cell_type": "markdown",
      "metadata": {
        "id": "rHvyHI5pItvl"
      },
      "source": [
        "# Dataset Creation\n",
        "These two cells are taken from Phil Pfeffer's implenetation of customnn.ipynb, part of his concurrent CS229 project."
      ]
    },
    {
      "cell_type": "code",
      "metadata": {
        "id": "6vlOk4FNRYn2",
        "outputId": "99c073a3-459b-4b23-81d8-e0fbe863c2e3",
        "colab": {
          "base_uri": "https://localhost:8080/"
        }
      },
      "source": [
        "dataset_X_ids = {}\n",
        "dataset_X_labels = []\n",
        "for entry in os.scandir(dataset_X):\n",
        "  if entry.is_dir() or os.path.basename(entry)[0] == '.':\n",
        "    continue\n",
        "  id = int(os.path.basename(entry)[:-4])\n",
        "  dataset_X_ids[id] = train_ids_dict[id]\n",
        "  dataset_X_labels.append(train_ids_dict[id])\n",
        "\n",
        "print(len(dataset_X_ids))\n",
        "print(len(dataset_X_labels))\n",
        "\n",
        "dev_pct = 0.1\n",
        "test_pct = 0.05\n",
        "train_pct = 1 - dev_pct - test_pct\n",
        "assert (dev_pct + test_pct + train_pct == 1)\n",
        "\n",
        "num_neither = np.sum(np.array(dataset_X_labels)==0)\n",
        "num_person = np.sum(np.array(dataset_X_labels)==1)\n",
        "num_car = np.sum(np.array(dataset_X_labels)==3)\n",
        "num_class_examples = {0:num_neither, 1:num_person, 3: num_car}\n",
        "print(num_class_examples, num_neither +num_person + num_car)\n",
        "\n",
        "\n",
        "num_test = {key: int(test_pct * num_class) for key, num_class in num_class_examples.items()}\n",
        "num_dev = {key: int(dev_pct * num_class) for key, num_class in num_class_examples.items()}\n",
        "num_train = {class_id: num_class_examples[class_id] - num_dev[class_id] - num_test[class_id] for class_id in class_ids}\n",
        "\n",
        "print(num_test, \"\\n\", num_dev, \"\\n\", num_train)"
      ],
      "execution_count": 6,
      "outputs": [
        {
          "output_type": "stream",
          "text": [
            "65534\n",
            "65534\n",
            "{0: 37585, 1: 25470, 3: 2479} 65534\n",
            "{0: 1879, 1: 1273, 3: 123} \n",
            " {0: 3758, 1: 2547, 3: 247} \n",
            " {0: 31948, 1: 21650, 3: 2109}\n"
          ],
          "name": "stdout"
        }
      ]
    },
    {
      "cell_type": "code",
      "metadata": {
        "id": "kQACWj_tEyNj",
        "outputId": "239d937b-84a5-42d8-af12-c438b776c453",
        "colab": {
          "base_uri": "https://localhost:8080/"
        }
      },
      "source": [
        "def path_to_id(path):\n",
        "  return int(os.path.basename(entry)[:-4])\n",
        "\n",
        "num_test_done = {class_id: 0 for class_id in class_ids}\n",
        "num_dev_done = {class_id: 0 for class_id in class_ids}\n",
        "num_train_done = {class_id: 0 for class_id in class_ids}\n",
        "for idx, entry in enumerate(os.scandir(dataset_X)):\n",
        "  if entry.is_dir() or os.path.basename(entry)[0] == '.':\n",
        "    continue\n",
        "  id = path_to_id(entry)\n",
        "  label = train_ids_dict[id]\n",
        "  \n",
        "  if num_train_done[label] != num_train[label]:\n",
        "    num_train_done[label] += 1\n",
        "    shutil.copyfile(entry, dataset_X + '/train/' + str(label) + '/' + os.path.basename(entry))\n",
        "  elif num_dev_done[label] != num_dev[label]:\n",
        "    num_dev_done[label] += 1\n",
        "    shutil.copyfile(entry, dataset_X + '/dev/' + str(label) + '/' + os.path.basename(entry))\n",
        "  elif num_test_done[label] != num_test[label]:\n",
        "    num_test_done[label] += 1\n",
        "    shutil.copyfile(entry, dataset_X + '/test/' + str(label) + '/' + os.path.basename(entry))\n",
        "  \n",
        "  if idx % 5000 == 0:\n",
        "    print(idx, num_train_done, num_dev_done, num_test_done)\n",
        "\n",
        "print(num_train_done, num_dev_done, num_test_done)"
      ],
      "execution_count": 7,
      "outputs": [
        {
          "output_type": "stream",
          "text": [
            "0 {0: 1, 1: 0, 3: 0} {0: 0, 1: 0, 3: 0} {0: 0, 1: 0, 3: 0}\n",
            "5000 {0: 2828, 1: 1990, 3: 183} {0: 0, 1: 0, 3: 0} {0: 0, 1: 0, 3: 0}\n",
            "10000 {0: 5721, 1: 3914, 3: 366} {0: 0, 1: 0, 3: 0} {0: 0, 1: 0, 3: 0}\n",
            "15000 {0: 8613, 1: 5830, 3: 558} {0: 0, 1: 0, 3: 0} {0: 0, 1: 0, 3: 0}\n",
            "20000 {0: 11463, 1: 7785, 3: 753} {0: 0, 1: 0, 3: 0} {0: 0, 1: 0, 3: 0}\n",
            "25000 {0: 14322, 1: 9732, 3: 947} {0: 0, 1: 0, 3: 0} {0: 0, 1: 0, 3: 0}\n",
            "30000 {0: 17232, 1: 11640, 3: 1128} {0: 0, 1: 0, 3: 0} {0: 0, 1: 0, 3: 0}\n",
            "35000 {0: 20123, 1: 13552, 3: 1325} {0: 0, 1: 0, 3: 0} {0: 0, 1: 0, 3: 0}\n",
            "40000 {0: 22987, 1: 15500, 3: 1513} {0: 0, 1: 0, 3: 0} {0: 0, 1: 0, 3: 0}\n",
            "45000 {0: 25811, 1: 17497, 3: 1691} {0: 0, 1: 0, 3: 0} {0: 0, 1: 0, 3: 0}\n",
            "50000 {0: 28655, 1: 19440, 3: 1903} {0: 0, 1: 0, 3: 0} {0: 0, 1: 0, 3: 0}\n",
            "55000 {0: 31515, 1: 21375, 3: 2108} {0: 0, 1: 0, 3: 0} {0: 0, 1: 0, 3: 0}\n",
            "60000 {0: 31948, 1: 21650, 3: 2109} {0: 2402, 1: 1703, 3: 186} {0: 0, 1: 0, 3: 0}\n",
            "65000 {0: 31948, 1: 21650, 3: 2109} {0: 3758, 1: 2547, 3: 247} {0: 1563, 1: 1075, 3: 100}\n",
            "{0: 31948, 1: 21650, 3: 2109} {0: 3758, 1: 2547, 3: 247} {0: 1879, 1: 1273, 3: 123}\n"
          ],
          "name": "stdout"
        }
      ]
    },
    {
      "cell_type": "markdown",
      "metadata": {
        "id": "xzjz28s_WA1m"
      },
      "source": [
        "# Create Dataloader"
      ]
    },
    {
      "cell_type": "code",
      "metadata": {
        "id": "tz40P_RcEyPt",
        "outputId": "fce75883-e3c8-4ce6-c977-c5d4b6dfaa33",
        "colab": {
          "base_uri": "https://localhost:8080/"
        }
      },
      "source": [
        "BATCH_SIZE = 32\n",
        "ORIG_IMG_SIZE = (96, 96)\n",
        "ORIG_COLOR_MODE ='grayscale'\n",
        "IMG_SIZE = (128,128)\n",
        "COLOR_MODE = 'rgb'\n",
        "\n",
        "train_dataset = image_dataset_from_directory(dataset_X +'/train/', label_mode='categorical', shuffle=True, batch_size=BATCH_SIZE, image_size=IMG_SIZE, color_mode=COLOR_MODE)\n",
        "dev_dataset = image_dataset_from_directory(dataset_X +'/dev/', label_mode='categorical', shuffle=True, batch_size=BATCH_SIZE, image_size=IMG_SIZE, color_mode=COLOR_MODE)\n",
        "test_dataset = image_dataset_from_directory(dataset_X +'/test/', label_mode='categorical', shuffle=True, batch_size=BATCH_SIZE, image_size=IMG_SIZE, color_mode=COLOR_MODE)"
      ],
      "execution_count": 54,
      "outputs": [
        {
          "output_type": "stream",
          "text": [
            "Found 55707 files belonging to 3 classes.\n",
            "Found 6552 files belonging to 3 classes.\n",
            "Found 3275 files belonging to 3 classes.\n"
          ],
          "name": "stdout"
        }
      ]
    },
    {
      "cell_type": "code",
      "metadata": {
        "id": "XGlQv6WbAibr",
        "outputId": "66ec4ce3-7aad-45f2-f60a-de97abb18e13",
        "colab": {
          "base_uri": "https://localhost:8080/",
          "height": 591
        }
      },
      "source": [
        "for image, _ in train_dataset.take(1):\n",
        "  plt.figure(figsize=(10, 10))\n",
        "  first_image = image[0]\n",
        "  # for i in range(9):\n",
        "  #   ax = plt.subplot(3, 3, i + 1)\n",
        "    # augmented_image = data_augmentation(tf.expand_dims(first_image, 0))\n",
        "    # plt.imshow(augmented_image[0] / 255)\n",
        "  plt.imshow(first_image / 255)\n",
        "  plt.axis('off')\n",
        "  print(first_image.shape)\n",
        "  break"
      ],
      "execution_count": 56,
      "outputs": [
        {
          "output_type": "stream",
          "text": [
            "(128, 128, 3)\n"
          ],
          "name": "stdout"
        },
        {
          "output_type": "display_data",
          "data": {
            "image/png": "[encoded data removed]",
            "text/plain": [
              "<Figure size 720x720 with 1 Axes>"
            ]
          },
          "metadata": {
            "tags": [],
            "needs_background": "light"
          }
        }
      ]
    },
    {
      "cell_type": "code",
      "metadata": {
        "id": "gMRNuXkQWNM4"
      },
      "source": [
        "AUTOTUNE = tf.data.experimental.AUTOTUNE\n",
        "\n",
        "train_dataset = train_dataset.prefetch(buffer_size=AUTOTUNE)\n",
        "dev_dataset = dev_dataset.prefetch(buffer_size=AUTOTUNE)\n",
        "test_dataset = test_dataset.prefetch(buffer_size=AUTOTUNE)"
      ],
      "execution_count": 57,
      "outputs": []
    },
    {
      "cell_type": "markdown",
      "metadata": {
        "id": "x79cxMdqWXVz"
      },
      "source": [
        "# Data Augmentation\n",
        "Add data augmentation to all images"
      ]
    },
    {
      "cell_type": "code",
      "metadata": {
        "id": "FJNMVeyAWekg"
      },
      "source": [
        "# data_augmentation = tf.keras.Sequential([\n",
        "#   tf.keras.layers.experimental.preprocessing.RandomFlip('horizontal'),\n",
        "#   tf.keras.layers.experimental.preprocessing.RandomRotation(0.2),\n",
        "# ])\n",
        "\n",
        "# # convert to 3 channel (RGB)\n",
        "# x = np.stack((x,)*3, axis=-1) "
      ],
      "execution_count": 58,
      "outputs": []
    },
    {
      "cell_type": "markdown",
      "metadata": {
        "id": "bSsXMIeDWq98"
      },
      "source": [
        "# MobileNet Model"
      ]
    },
    {
      "cell_type": "code",
      "metadata": {
        "id": "yOt4Y9_SWovP"
      },
      "source": [
        "preprocess_input = tf.keras.applications.mobilenet.preprocess_input"
      ],
      "execution_count": 59,
      "outputs": []
    },
    {
      "cell_type": "code",
      "metadata": {
        "id": "ug0WhjiwWqMl"
      },
      "source": [
        "# TODO: Replace this base_model line so that it loads one of the 0.5MB models from \n",
        "# https://www.tensorflow.org/lite/guide/hosted_models#image_classification\n",
        "# instead of whatever this default model is\n",
        "\n",
        "# Create the base model from the pre-trained model MobileNet\n",
        "IMG_SHAPE = IMG_SIZE + (3,)\n",
        "\n",
        "#Same syntax for MobileNetV2 and V1\n",
        "base_model = tf.keras.applications.MobileNet(input_shape=IMG_SHAPE,\n",
        "                                               alpha=0.25, # just add this\n",
        "                                               include_top=False,\n",
        "                                               weights='imagenet')"
      ],
      "execution_count": 60,
      "outputs": []
    },
    {
      "cell_type": "code",
      "metadata": {
        "id": "xvIVDGZk5_YH",
        "outputId": "10688ae2-8154-4d4c-fdd5-6c0d78f7fb4a",
        "colab": {
          "base_uri": "https://localhost:8080/"
        }
      },
      "source": [
        "image_batch, label_batch = next(iter(train_dataset))\n",
        "feature_batch = base_model(image_batch)\n",
        "print(feature_batch.shape)"
      ],
      "execution_count": 61,
      "outputs": [
        {
          "output_type": "stream",
          "text": [
            "(32, 4, 4, 256)\n"
          ],
          "name": "stdout"
        }
      ]
    },
    {
      "cell_type": "markdown",
      "metadata": {
        "id": "fmMhUtUaSz7-"
      },
      "source": [
        "# GPU Setup"
      ]
    },
    {
      "cell_type": "code",
      "metadata": {
        "id": "VRE5Ysf4DwkT",
        "outputId": "7ef232b7-456b-4b07-e445-3bb394bcd780",
        "colab": {
          "base_uri": "https://localhost:8080/"
        }
      },
      "source": [
        "device_name = tf.test.gpu_device_name()\n",
        "if device_name != '/device:GPU:0':\n",
        "  raise SystemError('GPU device not found')\n",
        "print('Found GPU at: {}'.format(device_name))"
      ],
      "execution_count": 63,
      "outputs": [
        {
          "output_type": "stream",
          "text": [
            "Found GPU at: /device:GPU:0\n"
          ],
          "name": "stdout"
        }
      ]
    },
    {
      "cell_type": "code",
      "metadata": {
        "id": "gzPOcYly6FoS",
        "outputId": "159b637c-a3d0-4f33-c931-f486ded5b61c",
        "colab": {
          "base_uri": "https://localhost:8080/"
        }
      },
      "source": [
        "base_model.trainable = False\n",
        "base_model.summary()\n",
        "global_average_layer = tf.keras.layers.GlobalAveragePooling2D()\n",
        "feature_batch_average = global_average_layer(feature_batch)\n",
        "print(feature_batch_average.shape)\n",
        "prediction_layer = tf.keras.layers.Dense(3, activation='softmax')\n",
        "prediction_batch = prediction_layer(feature_batch_average)\n",
        "print(prediction_batch.shape)"
      ],
      "execution_count": 64,
      "outputs": [
        {
          "output_type": "stream",
          "text": [
            "Model: \"mobilenet_0.25_128\"\n",
            "_________________________________________________________________\n",
            "Layer (type)                 Output Shape              Param #   \n",
            "=================================================================\n",
            "input_7 (InputLayer)         [(None, 128, 128, 3)]     0         \n",
            "_________________________________________________________________\n",
            "conv1_pad (ZeroPadding2D)    (None, 129, 129, 3)       0         \n",
            "_________________________________________________________________\n",
            "conv1 (Conv2D)               (None, 64, 64, 8)         216       \n",
            "_________________________________________________________________\n",
            "conv1_bn (BatchNormalization (None, 64, 64, 8)         32        \n",
            "_________________________________________________________________\n",
            "conv1_relu (ReLU)            (None, 64, 64, 8)         0         \n",
            "_________________________________________________________________\n",
            "conv_dw_1 (DepthwiseConv2D)  (None, 64, 64, 8)         72        \n",
            "_________________________________________________________________\n",
            "conv_dw_1_bn (BatchNormaliza (None, 64, 64, 8)         32        \n",
            "_________________________________________________________________\n",
            "conv_dw_1_relu (ReLU)        (None, 64, 64, 8)         0         \n",
            "_________________________________________________________________\n",
            "conv_pw_1 (Conv2D)           (None, 64, 64, 16)        128       \n",
            "_________________________________________________________________\n",
            "conv_pw_1_bn (BatchNormaliza (None, 64, 64, 16)        64        \n",
            "_________________________________________________________________\n",
            "conv_pw_1_relu (ReLU)        (None, 64, 64, 16)        0         \n",
            "_________________________________________________________________\n",
            "conv_pad_2 (ZeroPadding2D)   (None, 65, 65, 16)        0         \n",
            "_________________________________________________________________\n",
            "conv_dw_2 (DepthwiseConv2D)  (None, 32, 32, 16)        144       \n",
            "_________________________________________________________________\n",
            "conv_dw_2_bn (BatchNormaliza (None, 32, 32, 16)        64        \n",
            "_________________________________________________________________\n",
            "conv_dw_2_relu (ReLU)        (None, 32, 32, 16)        0         \n",
            "_________________________________________________________________\n",
            "conv_pw_2 (Conv2D)           (None, 32, 32, 32)        512       \n",
            "_________________________________________________________________\n",
            "conv_pw_2_bn (BatchNormaliza (None, 32, 32, 32)        128       \n",
            "_________________________________________________________________\n",
            "conv_pw_2_relu (ReLU)        (None, 32, 32, 32)        0         \n",
            "_________________________________________________________________\n",
            "conv_dw_3 (DepthwiseConv2D)  (None, 32, 32, 32)        288       \n",
            "_________________________________________________________________\n",
            "conv_dw_3_bn (BatchNormaliza (None, 32, 32, 32)        128       \n",
            "_________________________________________________________________\n",
            "conv_dw_3_relu (ReLU)        (None, 32, 32, 32)        0         \n",
            "_________________________________________________________________\n",
            "conv_pw_3 (Conv2D)           (None, 32, 32, 32)        1024      \n",
            "_________________________________________________________________\n",
            "conv_pw_3_bn (BatchNormaliza (None, 32, 32, 32)        128       \n",
            "_________________________________________________________________\n",
            "conv_pw_3_relu (ReLU)        (None, 32, 32, 32)        0         \n",
            "_________________________________________________________________\n",
            "conv_pad_4 (ZeroPadding2D)   (None, 33, 33, 32)        0         \n",
            "_________________________________________________________________\n",
            "conv_dw_4 (DepthwiseConv2D)  (None, 16, 16, 32)        288       \n",
            "_________________________________________________________________\n",
            "conv_dw_4_bn (BatchNormaliza (None, 16, 16, 32)        128       \n",
            "_________________________________________________________________\n",
            "conv_dw_4_relu (ReLU)        (None, 16, 16, 32)        0         \n",
            "_________________________________________________________________\n",
            "conv_pw_4 (Conv2D)           (None, 16, 16, 64)        2048      \n",
            "_________________________________________________________________\n",
            "conv_pw_4_bn (BatchNormaliza (None, 16, 16, 64)        256       \n",
            "_________________________________________________________________\n",
            "conv_pw_4_relu (ReLU)        (None, 16, 16, 64)        0         \n",
            "_________________________________________________________________\n",
            "conv_dw_5 (DepthwiseConv2D)  (None, 16, 16, 64)        576       \n",
            "_________________________________________________________________\n",
            "conv_dw_5_bn (BatchNormaliza (None, 16, 16, 64)        256       \n",
            "_________________________________________________________________\n",
            "conv_dw_5_relu (ReLU)        (None, 16, 16, 64)        0         \n",
            "_________________________________________________________________\n",
            "conv_pw_5 (Conv2D)           (None, 16, 16, 64)        4096      \n",
            "_________________________________________________________________\n",
            "conv_pw_5_bn (BatchNormaliza (None, 16, 16, 64)        256       \n",
            "_________________________________________________________________\n",
            "conv_pw_5_relu (ReLU)        (None, 16, 16, 64)        0         \n",
            "_________________________________________________________________\n",
            "conv_pad_6 (ZeroPadding2D)   (None, 17, 17, 64)        0         \n",
            "_________________________________________________________________\n",
            "conv_dw_6 (DepthwiseConv2D)  (None, 8, 8, 64)          576       \n",
            "_________________________________________________________________\n",
            "conv_dw_6_bn (BatchNormaliza (None, 8, 8, 64)          256       \n",
            "_________________________________________________________________\n",
            "conv_dw_6_relu (ReLU)        (None, 8, 8, 64)          0         \n",
            "_________________________________________________________________\n",
            "conv_pw_6 (Conv2D)           (None, 8, 8, 128)         8192      \n",
            "_________________________________________________________________\n",
            "conv_pw_6_bn (BatchNormaliza (None, 8, 8, 128)         512       \n",
            "_________________________________________________________________\n",
            "conv_pw_6_relu (ReLU)        (None, 8, 8, 128)         0         \n",
            "_________________________________________________________________\n",
            "conv_dw_7 (DepthwiseConv2D)  (None, 8, 8, 128)         1152      \n",
            "_________________________________________________________________\n",
            "conv_dw_7_bn (BatchNormaliza (None, 8, 8, 128)         512       \n",
            "_________________________________________________________________\n",
            "conv_dw_7_relu (ReLU)        (None, 8, 8, 128)         0         \n",
            "_________________________________________________________________\n",
            "conv_pw_7 (Conv2D)           (None, 8, 8, 128)         16384     \n",
            "_________________________________________________________________\n",
            "conv_pw_7_bn (BatchNormaliza (None, 8, 8, 128)         512       \n",
            "_________________________________________________________________\n",
            "conv_pw_7_relu (ReLU)        (None, 8, 8, 128)         0         \n",
            "_________________________________________________________________\n",
            "conv_dw_8 (DepthwiseConv2D)  (None, 8, 8, 128)         1152      \n",
            "_________________________________________________________________\n",
            "conv_dw_8_bn (BatchNormaliza (None, 8, 8, 128)         512       \n",
            "_________________________________________________________________\n",
            "conv_dw_8_relu (ReLU)        (None, 8, 8, 128)         0         \n",
            "_________________________________________________________________\n",
            "conv_pw_8 (Conv2D)           (None, 8, 8, 128)         16384     \n",
            "_________________________________________________________________\n",
            "conv_pw_8_bn (BatchNormaliza (None, 8, 8, 128)         512       \n",
            "_________________________________________________________________\n",
            "conv_pw_8_relu (ReLU)        (None, 8, 8, 128)         0         \n",
            "_________________________________________________________________\n",
            "conv_dw_9 (DepthwiseConv2D)  (None, 8, 8, 128)         1152      \n",
            "_________________________________________________________________\n",
            "conv_dw_9_bn (BatchNormaliza (None, 8, 8, 128)         512       \n",
            "_________________________________________________________________\n",
            "conv_dw_9_relu (ReLU)        (None, 8, 8, 128)         0         \n",
            "_________________________________________________________________\n",
            "conv_pw_9 (Conv2D)           (None, 8, 8, 128)         16384     \n",
            "_________________________________________________________________\n",
            "conv_pw_9_bn (BatchNormaliza (None, 8, 8, 128)         512       \n",
            "_________________________________________________________________\n",
            "conv_pw_9_relu (ReLU)        (None, 8, 8, 128)         0         \n",
            "_________________________________________________________________\n",
            "conv_dw_10 (DepthwiseConv2D) (None, 8, 8, 128)         1152      \n",
            "_________________________________________________________________\n",
            "conv_dw_10_bn (BatchNormaliz (None, 8, 8, 128)         512       \n",
            "_________________________________________________________________\n",
            "conv_dw_10_relu (ReLU)       (None, 8, 8, 128)         0         \n",
            "_________________________________________________________________\n",
            "conv_pw_10 (Conv2D)          (None, 8, 8, 128)         16384     \n",
            "_________________________________________________________________\n",
            "conv_pw_10_bn (BatchNormaliz (None, 8, 8, 128)         512       \n",
            "_________________________________________________________________\n",
            "conv_pw_10_relu (ReLU)       (None, 8, 8, 128)         0         \n",
            "_________________________________________________________________\n",
            "conv_dw_11 (DepthwiseConv2D) (None, 8, 8, 128)         1152      \n",
            "_________________________________________________________________\n",
            "conv_dw_11_bn (BatchNormaliz (None, 8, 8, 128)         512       \n",
            "_________________________________________________________________\n",
            "conv_dw_11_relu (ReLU)       (None, 8, 8, 128)         0         \n",
            "_________________________________________________________________\n",
            "conv_pw_11 (Conv2D)          (None, 8, 8, 128)         16384     \n",
            "_________________________________________________________________\n",
            "conv_pw_11_bn (BatchNormaliz (None, 8, 8, 128)         512       \n",
            "_________________________________________________________________\n",
            "conv_pw_11_relu (ReLU)       (None, 8, 8, 128)         0         \n",
            "_________________________________________________________________\n",
            "conv_pad_12 (ZeroPadding2D)  (None, 9, 9, 128)         0         \n",
            "_________________________________________________________________\n",
            "conv_dw_12 (DepthwiseConv2D) (None, 4, 4, 128)         1152      \n",
            "_________________________________________________________________\n",
            "conv_dw_12_bn (BatchNormaliz (None, 4, 4, 128)         512       \n",
            "_________________________________________________________________\n",
            "conv_dw_12_relu (ReLU)       (None, 4, 4, 128)         0         \n",
            "_________________________________________________________________\n",
            "conv_pw_12 (Conv2D)          (None, 4, 4, 256)         32768     \n",
            "_________________________________________________________________\n",
            "conv_pw_12_bn (BatchNormaliz (None, 4, 4, 256)         1024      \n",
            "_________________________________________________________________\n",
            "conv_pw_12_relu (ReLU)       (None, 4, 4, 256)         0         \n",
            "_________________________________________________________________\n",
            "conv_dw_13 (DepthwiseConv2D) (None, 4, 4, 256)         2304      \n",
            "_________________________________________________________________\n",
            "conv_dw_13_bn (BatchNormaliz (None, 4, 4, 256)         1024      \n",
            "_________________________________________________________________\n",
            "conv_dw_13_relu (ReLU)       (None, 4, 4, 256)         0         \n",
            "_________________________________________________________________\n",
            "conv_pw_13 (Conv2D)          (None, 4, 4, 256)         65536     \n",
            "_________________________________________________________________\n",
            "conv_pw_13_bn (BatchNormaliz (None, 4, 4, 256)         1024      \n",
            "_________________________________________________________________\n",
            "conv_pw_13_relu (ReLU)       (None, 4, 4, 256)         0         \n",
            "=================================================================\n",
            "Total params: 218,544\n",
            "Trainable params: 0\n",
            "Non-trainable params: 218,544\n",
            "_________________________________________________________________\n",
            "(32, 256)\n",
            "(32, 3)\n"
          ],
          "name": "stdout"
        }
      ]
    },
    {
      "cell_type": "code",
      "metadata": {
        "id": "9pQzpq2r6oeV"
      },
      "source": [
        "inputs = tf.keras.Input(shape=IMG_SHAPE)\n",
        "# x = data_augmentation(inputs)\n",
        "x = preprocess_input(inputs)\n",
        "x = base_model(x, training=False)\n",
        "x = global_average_layer(x)\n",
        "x = tf.keras.layers.Dropout(0.2)(x)\n",
        "outputs = prediction_layer(x)\n",
        "model = tf.keras.Model(inputs, outputs)"
      ],
      "execution_count": 65,
      "outputs": []
    },
    {
      "cell_type": "code",
      "metadata": {
        "id": "pdrda6DI6qOv"
      },
      "source": [
        "base_learning_rate = 0.0001\n",
        "model.compile(loss='categorical_crossentropy', optimizer=tf.keras.optimizers.Adam(lr=base_learning_rate), metrics=['accuracy'])\n",
        "\n",
        "# model.compile(optimizer=tf.keras.optimizers.Adam(lr=base_learning_rate),\n",
        "#               loss=tf.keras.losses.CategoricalCrossentropy(),\n",
        "#               metrics=['accuracy'])"
      ],
      "execution_count": 66,
      "outputs": []
    },
    {
      "cell_type": "code",
      "metadata": {
        "id": "uYhIw-po6sNJ",
        "outputId": "20b667a7-e399-41ab-bc3e-17df0c78d71b",
        "colab": {
          "base_uri": "https://localhost:8080/"
        }
      },
      "source": [
        "model.summary()\n",
        "len(model.trainable_variables)"
      ],
      "execution_count": 67,
      "outputs": [
        {
          "output_type": "stream",
          "text": [
            "Model: \"functional_5\"\n",
            "_________________________________________________________________\n",
            "Layer (type)                 Output Shape              Param #   \n",
            "=================================================================\n",
            "input_8 (InputLayer)         [(None, 128, 128, 3)]     0         \n",
            "_________________________________________________________________\n",
            "tf_op_layer_RealDiv_3 (Tenso [(None, 128, 128, 3)]     0         \n",
            "_________________________________________________________________\n",
            "tf_op_layer_Sub_3 (TensorFlo [(None, 128, 128, 3)]     0         \n",
            "_________________________________________________________________\n",
            "mobilenet_0.25_128 (Function (None, 4, 4, 256)         218544    \n",
            "_________________________________________________________________\n",
            "global_average_pooling2d_2 ( (None, 256)               0         \n",
            "_________________________________________________________________\n",
            "dropout_2 (Dropout)          (None, 256)               0         \n",
            "_________________________________________________________________\n",
            "dense_2 (Dense)              (None, 3)                 771       \n",
            "=================================================================\n",
            "Total params: 219,315\n",
            "Trainable params: 771\n",
            "Non-trainable params: 218,544\n",
            "_________________________________________________________________\n"
          ],
          "name": "stdout"
        },
        {
          "output_type": "execute_result",
          "data": {
            "text/plain": [
              "2"
            ]
          },
          "metadata": {
            "tags": []
          },
          "execution_count": 67
        }
      ]
    },
    {
      "cell_type": "markdown",
      "metadata": {
        "id": "5u2_j4_36wIK"
      },
      "source": [
        "# Training"
      ]
    },
    {
      "cell_type": "code",
      "metadata": {
        "id": "os1atSoV6xBe",
        "outputId": "e6b32e96-ecdc-4a97-a97e-4d1273b17e65",
        "colab": {
          "base_uri": "https://localhost:8080/"
        }
      },
      "source": [
        "initial_epochs = 10\n",
        "\n",
        "loss0, accuracy0 = model.evaluate(dev_dataset)\n",
        "print(\"initial loss: {:.2f}\".format(loss0))\n",
        "print(\"initial accuracy: {:.2f}\".format(accuracy0))"
      ],
      "execution_count": 68,
      "outputs": [
        {
          "output_type": "stream",
          "text": [
            "205/205 [==============================] - 5s 23ms/step - loss: 2.6244 - accuracy: 0.1381\n",
            "initial loss: 2.62\n",
            "initial accuracy: 0.14\n"
          ],
          "name": "stdout"
        }
      ]
    },
    {
      "cell_type": "code",
      "metadata": {
        "id": "qFEyDXXu62Co",
        "outputId": "63b199b0-aceb-407c-acd3-daa22838ef3a",
        "colab": {
          "base_uri": "https://localhost:8080/"
        }
      },
      "source": [
        "with tf.device('/device:GPU:0'):\n",
        "  history = model.fit(train_dataset,\n",
        "                    epochs=initial_epochs,\n",
        "                    validation_data=dev_dataset)"
      ],
      "execution_count": 69,
      "outputs": [
        {
          "output_type": "stream",
          "text": [
            "Epoch 1/10\n",
            "1741/1741 [==============================] - 51s 29ms/step - loss: 0.8664 - accuracy: 0.6578 - val_loss: 0.5969 - val_accuracy: 0.7801\n",
            "Epoch 2/10\n",
            "1741/1741 [==============================] - 50s 29ms/step - loss: 0.6358 - accuracy: 0.7563 - val_loss: 0.5413 - val_accuracy: 0.7901\n",
            "Epoch 3/10\n",
            "1741/1741 [==============================] - 49s 28ms/step - loss: 0.5814 - accuracy: 0.7695 - val_loss: 0.5158 - val_accuracy: 0.7952\n",
            "Epoch 4/10\n",
            "1741/1741 [==============================] - 49s 28ms/step - loss: 0.5552 - accuracy: 0.7783 - val_loss: 0.5018 - val_accuracy: 0.8013\n",
            "Epoch 5/10\n",
            "1741/1741 [==============================] - 47s 27ms/step - loss: 0.5391 - accuracy: 0.7807 - val_loss: 0.4957 - val_accuracy: 0.8017\n",
            "Epoch 6/10\n",
            "1741/1741 [==============================] - 48s 27ms/step - loss: 0.5298 - accuracy: 0.7847 - val_loss: 0.4915 - val_accuracy: 0.8019\n",
            "Epoch 7/10\n",
            "1741/1741 [==============================] - 48s 27ms/step - loss: 0.5256 - accuracy: 0.7849 - val_loss: 0.4882 - val_accuracy: 0.8034\n",
            "Epoch 8/10\n",
            "1741/1741 [==============================] - 50s 28ms/step - loss: 0.5206 - accuracy: 0.7868 - val_loss: 0.4870 - val_accuracy: 0.8046\n",
            "Epoch 9/10\n",
            "1741/1741 [==============================] - 52s 30ms/step - loss: 0.5169 - accuracy: 0.7891 - val_loss: 0.4852 - val_accuracy: 0.8042\n",
            "Epoch 10/10\n",
            "1741/1741 [==============================] - 55s 32ms/step - loss: 0.5174 - accuracy: 0.7877 - val_loss: 0.4850 - val_accuracy: 0.8039\n"
          ],
          "name": "stdout"
        }
      ]
    },
    {
      "cell_type": "markdown",
      "metadata": {
        "id": "IBQujW8n63_m"
      },
      "source": [
        "# Learning Plot"
      ]
    },
    {
      "cell_type": "code",
      "metadata": {
        "id": "a84Nsi-d65VL",
        "outputId": "a5b25568-864d-48d0-d2e0-0db8b5559805",
        "colab": {
          "base_uri": "https://localhost:8080/",
          "height": 512
        }
      },
      "source": [
        "acc = history.history['accuracy']\n",
        "val_acc = history.history['val_accuracy']\n",
        "\n",
        "loss = history.history['loss']\n",
        "val_loss = history.history['val_loss']\n",
        "\n",
        "plt.figure(figsize=(8, 8))\n",
        "plt.subplot(2, 1, 1)\n",
        "plt.plot(acc, label='Training Accuracy')\n",
        "plt.plot(val_acc, label='Validation Accuracy')\n",
        "plt.legend(loc='lower right')\n",
        "plt.ylabel('Accuracy')\n",
        "plt.ylim([min(plt.ylim()),1])\n",
        "plt.title('Training and Validation Accuracy')\n",
        "\n",
        "plt.subplot(2, 1, 2)\n",
        "plt.plot(loss, label='Training Loss')\n",
        "plt.plot(val_loss, label='Validation Loss')\n",
        "plt.legend(loc='upper right')\n",
        "plt.ylabel('Cross Entropy')\n",
        "plt.ylim([0,1.0])\n",
        "plt.title('Training and Validation Loss')\n",
        "plt.xlabel('epoch')\n",
        "plt.show()"
      ],
      "execution_count": 70,
      "outputs": [
        {
          "output_type": "display_data",
          "data": {
            "image/png": "[encoded data removed]",
            "text/plain": [
              "<Figure size 576x576 with 2 Axes>"
            ]
          },
          "metadata": {
            "tags": [],
            "needs_background": "light"
          }
        }
      ]
    },
    {
      "cell_type": "markdown",
      "metadata": {
        "id": "IV5FbFvW69_V"
      },
      "source": [
        "From GOOGLE\n",
        "Note: If you are wondering why the validation metrics are clearly better than the training metrics, the main factor is because layers like tf.keras.layers.BatchNormalization and tf.keras.layers.Dropout affect accuracy during training. They are turned off when calculating validation loss.\n",
        "\n",
        "To a lesser extent, it is also because training metrics report the average for an epoch, while validation metrics are evaluated after the epoch, so validation metrics see a model that has trained slightly longer."
      ]
    },
    {
      "cell_type": "markdown",
      "metadata": {
        "id": "VpqwIaWQLNhy"
      },
      "source": [
        "# Unfreeze the model"
      ]
    },
    {
      "cell_type": "code",
      "metadata": {
        "id": "Kqc4XQrm6_7x"
      },
      "source": [
        "base_model.trainable = True"
      ],
      "execution_count": 71,
      "outputs": []
    },
    {
      "cell_type": "code",
      "metadata": {
        "id": "PUTdfEipLTE8",
        "outputId": "98f37619-a28a-4883-f112-5915d4b37a59",
        "colab": {
          "base_uri": "https://localhost:8080/"
        }
      },
      "source": [
        "# Let's take a look to see how many layers are in the base model\n",
        "print(\"Number of layers in the base model: \", len(base_model.layers))\n",
        "\n",
        "# Fine-tune from this layer onwards\n",
        "fine_tune_at = 100\n",
        "\n",
        "# Freeze all the layers before the `fine_tune_at` layer\n",
        "for layer in base_model.layers[:fine_tune_at]:\n",
        "  layer.trainable =  False"
      ],
      "execution_count": 72,
      "outputs": [
        {
          "output_type": "stream",
          "text": [
            "Number of layers in the base model:  87\n"
          ],
          "name": "stdout"
        }
      ]
    },
    {
      "cell_type": "code",
      "metadata": {
        "id": "4Zh591LNLYWv",
        "outputId": "ed69daf0-a1f0-4381-9e9a-75b34efe4635",
        "colab": {
          "base_uri": "https://localhost:8080/"
        }
      },
      "source": [
        "model.compile(loss='categorical_crossentropy',\n",
        "              optimizer = tf.keras.optimizers.RMSprop(lr=base_learning_rate/10),\n",
        "              metrics=['accuracy'])\n",
        "\n",
        "model.summary()"
      ],
      "execution_count": 75,
      "outputs": [
        {
          "output_type": "stream",
          "text": [
            "Model: \"functional_5\"\n",
            "_________________________________________________________________\n",
            "Layer (type)                 Output Shape              Param #   \n",
            "=================================================================\n",
            "input_8 (InputLayer)         [(None, 128, 128, 3)]     0         \n",
            "_________________________________________________________________\n",
            "tf_op_layer_RealDiv_3 (Tenso [(None, 128, 128, 3)]     0         \n",
            "_________________________________________________________________\n",
            "tf_op_layer_Sub_3 (TensorFlo [(None, 128, 128, 3)]     0         \n",
            "_________________________________________________________________\n",
            "mobilenet_0.25_128 (Function (None, 4, 4, 256)         218544    \n",
            "_________________________________________________________________\n",
            "global_average_pooling2d_2 ( (None, 256)               0         \n",
            "_________________________________________________________________\n",
            "dropout_2 (Dropout)          (None, 256)               0         \n",
            "_________________________________________________________________\n",
            "dense_2 (Dense)              (None, 3)                 771       \n",
            "=================================================================\n",
            "Total params: 219,315\n",
            "Trainable params: 771\n",
            "Non-trainable params: 218,544\n",
            "_________________________________________________________________\n"
          ],
          "name": "stdout"
        }
      ]
    },
    {
      "cell_type": "code",
      "metadata": {
        "id": "il0A-Q8dLbGH"
      },
      "source": [
        ""
      ],
      "execution_count": 76,
      "outputs": []
    },
    {
      "cell_type": "code",
      "metadata": {
        "id": "xk_UpGR5LlFM"
      },
      "source": [
        ""
      ],
      "execution_count": null,
      "outputs": []
    }
  ]
}